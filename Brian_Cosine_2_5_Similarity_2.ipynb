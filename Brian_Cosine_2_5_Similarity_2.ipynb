{
  "nbformat": 4,
  "nbformat_minor": 0,
  "metadata": {
    "colab": {
      "name": "Brian-Cosine 2.5 Similarity-2.ipynb",
      "provenance": [],
      "collapsed_sections": [],
      "authorship_tag": "ABX9TyMmaU2+0Ajwu+Xx/vklKHIv",
      "include_colab_link": true
    },
    "kernelspec": {
      "name": "python3",
      "display_name": "Python 3"
    },
    "accelerator": "TPU",
    "widgets": {
      "application/vnd.jupyter.widget-state+json": {
        "07defe7d95954c8885b83bfc9a361925": {
          "model_module": "@jupyter-widgets/controls",
          "model_name": "HBoxModel",
          "state": {
            "_view_name": "HBoxView",
            "_dom_classes": [],
            "_model_name": "HBoxModel",
            "_view_module": "@jupyter-widgets/controls",
            "_model_module_version": "1.5.0",
            "_view_count": null,
            "_view_module_version": "1.5.0",
            "box_style": "",
            "layout": "IPY_MODEL_66ece137b3f94c9fb81716573ce5ab60",
            "_model_module": "@jupyter-widgets/controls",
            "children": [
              "IPY_MODEL_1f13e870aab243b6ac80f713fd0a0612",
              "IPY_MODEL_985892bc6e594ac2913d1663bf53fbc7"
            ]
          }
        },
        "66ece137b3f94c9fb81716573ce5ab60": {
          "model_module": "@jupyter-widgets/base",
          "model_name": "LayoutModel",
          "state": {
            "_view_name": "LayoutView",
            "grid_template_rows": null,
            "right": null,
            "justify_content": null,
            "_view_module": "@jupyter-widgets/base",
            "overflow": null,
            "_model_module_version": "1.2.0",
            "_view_count": null,
            "flex_flow": null,
            "width": null,
            "min_width": null,
            "border": null,
            "align_items": null,
            "bottom": null,
            "_model_module": "@jupyter-widgets/base",
            "top": null,
            "grid_column": null,
            "overflow_y": null,
            "overflow_x": null,
            "grid_auto_flow": null,
            "grid_area": null,
            "grid_template_columns": null,
            "flex": null,
            "_model_name": "LayoutModel",
            "justify_items": null,
            "grid_row": null,
            "max_height": null,
            "align_content": null,
            "visibility": null,
            "align_self": null,
            "height": null,
            "min_height": null,
            "padding": null,
            "grid_auto_rows": null,
            "grid_gap": null,
            "max_width": null,
            "order": null,
            "_view_module_version": "1.2.0",
            "grid_template_areas": null,
            "object_position": null,
            "object_fit": null,
            "grid_auto_columns": null,
            "margin": null,
            "display": null,
            "left": null
          }
        },
        "1f13e870aab243b6ac80f713fd0a0612": {
          "model_module": "@jupyter-widgets/controls",
          "model_name": "FloatProgressModel",
          "state": {
            "_view_name": "ProgressView",
            "style": "IPY_MODEL_53d93b8fdd2140ee974448f57e166ea9",
            "_dom_classes": [],
            "description": "Downloading: 100%",
            "_model_name": "FloatProgressModel",
            "bar_style": "success",
            "max": 434,
            "_view_module": "@jupyter-widgets/controls",
            "_model_module_version": "1.5.0",
            "value": 434,
            "_view_count": null,
            "_view_module_version": "1.5.0",
            "orientation": "horizontal",
            "min": 0,
            "description_tooltip": null,
            "_model_module": "@jupyter-widgets/controls",
            "layout": "IPY_MODEL_962b2898128e4577a232f416a4b5715b"
          }
        },
        "985892bc6e594ac2913d1663bf53fbc7": {
          "model_module": "@jupyter-widgets/controls",
          "model_name": "HTMLModel",
          "state": {
            "_view_name": "HTMLView",
            "style": "IPY_MODEL_039ccd67741f4a138c9eb3df20e67f01",
            "_dom_classes": [],
            "description": "",
            "_model_name": "HTMLModel",
            "placeholder": "​",
            "_view_module": "@jupyter-widgets/controls",
            "_model_module_version": "1.5.0",
            "value": " 434/434 [00:22&lt;00:00, 18.9B/s]",
            "_view_count": null,
            "_view_module_version": "1.5.0",
            "description_tooltip": null,
            "_model_module": "@jupyter-widgets/controls",
            "layout": "IPY_MODEL_14a7b808894b463d87ccb436049c8dc5"
          }
        },
        "53d93b8fdd2140ee974448f57e166ea9": {
          "model_module": "@jupyter-widgets/controls",
          "model_name": "ProgressStyleModel",
          "state": {
            "_view_name": "StyleView",
            "_model_name": "ProgressStyleModel",
            "description_width": "initial",
            "_view_module": "@jupyter-widgets/base",
            "_model_module_version": "1.5.0",
            "_view_count": null,
            "_view_module_version": "1.2.0",
            "bar_color": null,
            "_model_module": "@jupyter-widgets/controls"
          }
        },
        "962b2898128e4577a232f416a4b5715b": {
          "model_module": "@jupyter-widgets/base",
          "model_name": "LayoutModel",
          "state": {
            "_view_name": "LayoutView",
            "grid_template_rows": null,
            "right": null,
            "justify_content": null,
            "_view_module": "@jupyter-widgets/base",
            "overflow": null,
            "_model_module_version": "1.2.0",
            "_view_count": null,
            "flex_flow": null,
            "width": null,
            "min_width": null,
            "border": null,
            "align_items": null,
            "bottom": null,
            "_model_module": "@jupyter-widgets/base",
            "top": null,
            "grid_column": null,
            "overflow_y": null,
            "overflow_x": null,
            "grid_auto_flow": null,
            "grid_area": null,
            "grid_template_columns": null,
            "flex": null,
            "_model_name": "LayoutModel",
            "justify_items": null,
            "grid_row": null,
            "max_height": null,
            "align_content": null,
            "visibility": null,
            "align_self": null,
            "height": null,
            "min_height": null,
            "padding": null,
            "grid_auto_rows": null,
            "grid_gap": null,
            "max_width": null,
            "order": null,
            "_view_module_version": "1.2.0",
            "grid_template_areas": null,
            "object_position": null,
            "object_fit": null,
            "grid_auto_columns": null,
            "margin": null,
            "display": null,
            "left": null
          }
        },
        "039ccd67741f4a138c9eb3df20e67f01": {
          "model_module": "@jupyter-widgets/controls",
          "model_name": "DescriptionStyleModel",
          "state": {
            "_view_name": "StyleView",
            "_model_name": "DescriptionStyleModel",
            "description_width": "",
            "_view_module": "@jupyter-widgets/base",
            "_model_module_version": "1.5.0",
            "_view_count": null,
            "_view_module_version": "1.2.0",
            "_model_module": "@jupyter-widgets/controls"
          }
        },
        "14a7b808894b463d87ccb436049c8dc5": {
          "model_module": "@jupyter-widgets/base",
          "model_name": "LayoutModel",
          "state": {
            "_view_name": "LayoutView",
            "grid_template_rows": null,
            "right": null,
            "justify_content": null,
            "_view_module": "@jupyter-widgets/base",
            "overflow": null,
            "_model_module_version": "1.2.0",
            "_view_count": null,
            "flex_flow": null,
            "width": null,
            "min_width": null,
            "border": null,
            "align_items": null,
            "bottom": null,
            "_model_module": "@jupyter-widgets/base",
            "top": null,
            "grid_column": null,
            "overflow_y": null,
            "overflow_x": null,
            "grid_auto_flow": null,
            "grid_area": null,
            "grid_template_columns": null,
            "flex": null,
            "_model_name": "LayoutModel",
            "justify_items": null,
            "grid_row": null,
            "max_height": null,
            "align_content": null,
            "visibility": null,
            "align_self": null,
            "height": null,
            "min_height": null,
            "padding": null,
            "grid_auto_rows": null,
            "grid_gap": null,
            "max_width": null,
            "order": null,
            "_view_module_version": "1.2.0",
            "grid_template_areas": null,
            "object_position": null,
            "object_fit": null,
            "grid_auto_columns": null,
            "margin": null,
            "display": null,
            "left": null
          }
        },
        "61331dd5d09948858d395704cc0bd47e": {
          "model_module": "@jupyter-widgets/controls",
          "model_name": "HBoxModel",
          "state": {
            "_view_name": "HBoxView",
            "_dom_classes": [],
            "_model_name": "HBoxModel",
            "_view_module": "@jupyter-widgets/controls",
            "_model_module_version": "1.5.0",
            "_view_count": null,
            "_view_module_version": "1.5.0",
            "box_style": "",
            "layout": "IPY_MODEL_02cb350cacee40f2915ba465093adc92",
            "_model_module": "@jupyter-widgets/controls",
            "children": [
              "IPY_MODEL_e2de8453fee04562a94988b9201442b2",
              "IPY_MODEL_55b52d9069aa4799bd74bfe114aa6615"
            ]
          }
        },
        "02cb350cacee40f2915ba465093adc92": {
          "model_module": "@jupyter-widgets/base",
          "model_name": "LayoutModel",
          "state": {
            "_view_name": "LayoutView",
            "grid_template_rows": null,
            "right": null,
            "justify_content": null,
            "_view_module": "@jupyter-widgets/base",
            "overflow": null,
            "_model_module_version": "1.2.0",
            "_view_count": null,
            "flex_flow": null,
            "width": null,
            "min_width": null,
            "border": null,
            "align_items": null,
            "bottom": null,
            "_model_module": "@jupyter-widgets/base",
            "top": null,
            "grid_column": null,
            "overflow_y": null,
            "overflow_x": null,
            "grid_auto_flow": null,
            "grid_area": null,
            "grid_template_columns": null,
            "flex": null,
            "_model_name": "LayoutModel",
            "justify_items": null,
            "grid_row": null,
            "max_height": null,
            "align_content": null,
            "visibility": null,
            "align_self": null,
            "height": null,
            "min_height": null,
            "padding": null,
            "grid_auto_rows": null,
            "grid_gap": null,
            "max_width": null,
            "order": null,
            "_view_module_version": "1.2.0",
            "grid_template_areas": null,
            "object_position": null,
            "object_fit": null,
            "grid_auto_columns": null,
            "margin": null,
            "display": null,
            "left": null
          }
        },
        "e2de8453fee04562a94988b9201442b2": {
          "model_module": "@jupyter-widgets/controls",
          "model_name": "FloatProgressModel",
          "state": {
            "_view_name": "ProgressView",
            "style": "IPY_MODEL_7e9fe63e981540109546020f1e7ac2ab",
            "_dom_classes": [],
            "description": "Downloading: 100%",
            "_model_name": "FloatProgressModel",
            "bar_style": "success",
            "max": 1344997306,
            "_view_module": "@jupyter-widgets/controls",
            "_model_module_version": "1.5.0",
            "value": 1344997306,
            "_view_count": null,
            "_view_module_version": "1.5.0",
            "orientation": "horizontal",
            "min": 0,
            "description_tooltip": null,
            "_model_module": "@jupyter-widgets/controls",
            "layout": "IPY_MODEL_ba0ceb8bf6ff4f06bdf5c82609b1b03f"
          }
        },
        "55b52d9069aa4799bd74bfe114aa6615": {
          "model_module": "@jupyter-widgets/controls",
          "model_name": "HTMLModel",
          "state": {
            "_view_name": "HTMLView",
            "style": "IPY_MODEL_2c4c1208c7434344ac7c2a481355936c",
            "_dom_classes": [],
            "description": "",
            "_model_name": "HTMLModel",
            "placeholder": "​",
            "_view_module": "@jupyter-widgets/controls",
            "_model_module_version": "1.5.0",
            "value": " 1.34G/1.34G [00:20&lt;00:00, 66.2MB/s]",
            "_view_count": null,
            "_view_module_version": "1.5.0",
            "description_tooltip": null,
            "_model_module": "@jupyter-widgets/controls",
            "layout": "IPY_MODEL_577a32e4187d467ea975c151d4a65401"
          }
        },
        "7e9fe63e981540109546020f1e7ac2ab": {
          "model_module": "@jupyter-widgets/controls",
          "model_name": "ProgressStyleModel",
          "state": {
            "_view_name": "StyleView",
            "_model_name": "ProgressStyleModel",
            "description_width": "initial",
            "_view_module": "@jupyter-widgets/base",
            "_model_module_version": "1.5.0",
            "_view_count": null,
            "_view_module_version": "1.2.0",
            "bar_color": null,
            "_model_module": "@jupyter-widgets/controls"
          }
        },
        "ba0ceb8bf6ff4f06bdf5c82609b1b03f": {
          "model_module": "@jupyter-widgets/base",
          "model_name": "LayoutModel",
          "state": {
            "_view_name": "LayoutView",
            "grid_template_rows": null,
            "right": null,
            "justify_content": null,
            "_view_module": "@jupyter-widgets/base",
            "overflow": null,
            "_model_module_version": "1.2.0",
            "_view_count": null,
            "flex_flow": null,
            "width": null,
            "min_width": null,
            "border": null,
            "align_items": null,
            "bottom": null,
            "_model_module": "@jupyter-widgets/base",
            "top": null,
            "grid_column": null,
            "overflow_y": null,
            "overflow_x": null,
            "grid_auto_flow": null,
            "grid_area": null,
            "grid_template_columns": null,
            "flex": null,
            "_model_name": "LayoutModel",
            "justify_items": null,
            "grid_row": null,
            "max_height": null,
            "align_content": null,
            "visibility": null,
            "align_self": null,
            "height": null,
            "min_height": null,
            "padding": null,
            "grid_auto_rows": null,
            "grid_gap": null,
            "max_width": null,
            "order": null,
            "_view_module_version": "1.2.0",
            "grid_template_areas": null,
            "object_position": null,
            "object_fit": null,
            "grid_auto_columns": null,
            "margin": null,
            "display": null,
            "left": null
          }
        },
        "2c4c1208c7434344ac7c2a481355936c": {
          "model_module": "@jupyter-widgets/controls",
          "model_name": "DescriptionStyleModel",
          "state": {
            "_view_name": "StyleView",
            "_model_name": "DescriptionStyleModel",
            "description_width": "",
            "_view_module": "@jupyter-widgets/base",
            "_model_module_version": "1.5.0",
            "_view_count": null,
            "_view_module_version": "1.2.0",
            "_model_module": "@jupyter-widgets/controls"
          }
        },
        "577a32e4187d467ea975c151d4a65401": {
          "model_module": "@jupyter-widgets/base",
          "model_name": "LayoutModel",
          "state": {
            "_view_name": "LayoutView",
            "grid_template_rows": null,
            "right": null,
            "justify_content": null,
            "_view_module": "@jupyter-widgets/base",
            "overflow": null,
            "_model_module_version": "1.2.0",
            "_view_count": null,
            "flex_flow": null,
            "width": null,
            "min_width": null,
            "border": null,
            "align_items": null,
            "bottom": null,
            "_model_module": "@jupyter-widgets/base",
            "top": null,
            "grid_column": null,
            "overflow_y": null,
            "overflow_x": null,
            "grid_auto_flow": null,
            "grid_area": null,
            "grid_template_columns": null,
            "flex": null,
            "_model_name": "LayoutModel",
            "justify_items": null,
            "grid_row": null,
            "max_height": null,
            "align_content": null,
            "visibility": null,
            "align_self": null,
            "height": null,
            "min_height": null,
            "padding": null,
            "grid_auto_rows": null,
            "grid_gap": null,
            "max_width": null,
            "order": null,
            "_view_module_version": "1.2.0",
            "grid_template_areas": null,
            "object_position": null,
            "object_fit": null,
            "grid_auto_columns": null,
            "margin": null,
            "display": null,
            "left": null
          }
        },
        "b66927d5dd9b4c20935786235ff889bb": {
          "model_module": "@jupyter-widgets/controls",
          "model_name": "HBoxModel",
          "state": {
            "_view_name": "HBoxView",
            "_dom_classes": [],
            "_model_name": "HBoxModel",
            "_view_module": "@jupyter-widgets/controls",
            "_model_module_version": "1.5.0",
            "_view_count": null,
            "_view_module_version": "1.5.0",
            "box_style": "",
            "layout": "IPY_MODEL_32bffa24a3db4cbd899269c7476afeda",
            "_model_module": "@jupyter-widgets/controls",
            "children": [
              "IPY_MODEL_966048cc26574fa286fee4d24faae35d",
              "IPY_MODEL_4dae9e30cb2b4ae0bbd65b06e7f1416a"
            ]
          }
        },
        "32bffa24a3db4cbd899269c7476afeda": {
          "model_module": "@jupyter-widgets/base",
          "model_name": "LayoutModel",
          "state": {
            "_view_name": "LayoutView",
            "grid_template_rows": null,
            "right": null,
            "justify_content": null,
            "_view_module": "@jupyter-widgets/base",
            "overflow": null,
            "_model_module_version": "1.2.0",
            "_view_count": null,
            "flex_flow": null,
            "width": null,
            "min_width": null,
            "border": null,
            "align_items": null,
            "bottom": null,
            "_model_module": "@jupyter-widgets/base",
            "top": null,
            "grid_column": null,
            "overflow_y": null,
            "overflow_x": null,
            "grid_auto_flow": null,
            "grid_area": null,
            "grid_template_columns": null,
            "flex": null,
            "_model_name": "LayoutModel",
            "justify_items": null,
            "grid_row": null,
            "max_height": null,
            "align_content": null,
            "visibility": null,
            "align_self": null,
            "height": null,
            "min_height": null,
            "padding": null,
            "grid_auto_rows": null,
            "grid_gap": null,
            "max_width": null,
            "order": null,
            "_view_module_version": "1.2.0",
            "grid_template_areas": null,
            "object_position": null,
            "object_fit": null,
            "grid_auto_columns": null,
            "margin": null,
            "display": null,
            "left": null
          }
        },
        "966048cc26574fa286fee4d24faae35d": {
          "model_module": "@jupyter-widgets/controls",
          "model_name": "FloatProgressModel",
          "state": {
            "_view_name": "ProgressView",
            "style": "IPY_MODEL_0598c2f6567d4ea0abc7fad2e93c9d9a",
            "_dom_classes": [],
            "description": "Downloading: 100%",
            "_model_name": "FloatProgressModel",
            "bar_style": "success",
            "max": 231508,
            "_view_module": "@jupyter-widgets/controls",
            "_model_module_version": "1.5.0",
            "value": 231508,
            "_view_count": null,
            "_view_module_version": "1.5.0",
            "orientation": "horizontal",
            "min": 0,
            "description_tooltip": null,
            "_model_module": "@jupyter-widgets/controls",
            "layout": "IPY_MODEL_5b7b7894f5bf471d9c4321aaac019569"
          }
        },
        "4dae9e30cb2b4ae0bbd65b06e7f1416a": {
          "model_module": "@jupyter-widgets/controls",
          "model_name": "HTMLModel",
          "state": {
            "_view_name": "HTMLView",
            "style": "IPY_MODEL_bc3f00c3a1cf43af897b9cb82c75f3f3",
            "_dom_classes": [],
            "description": "",
            "_model_name": "HTMLModel",
            "placeholder": "​",
            "_view_module": "@jupyter-widgets/controls",
            "_model_module_version": "1.5.0",
            "value": " 232k/232k [00:00&lt;00:00, 1.34MB/s]",
            "_view_count": null,
            "_view_module_version": "1.5.0",
            "description_tooltip": null,
            "_model_module": "@jupyter-widgets/controls",
            "layout": "IPY_MODEL_9d15ca77f8424215b09091bef9eb9a27"
          }
        },
        "0598c2f6567d4ea0abc7fad2e93c9d9a": {
          "model_module": "@jupyter-widgets/controls",
          "model_name": "ProgressStyleModel",
          "state": {
            "_view_name": "StyleView",
            "_model_name": "ProgressStyleModel",
            "description_width": "initial",
            "_view_module": "@jupyter-widgets/base",
            "_model_module_version": "1.5.0",
            "_view_count": null,
            "_view_module_version": "1.2.0",
            "bar_color": null,
            "_model_module": "@jupyter-widgets/controls"
          }
        },
        "5b7b7894f5bf471d9c4321aaac019569": {
          "model_module": "@jupyter-widgets/base",
          "model_name": "LayoutModel",
          "state": {
            "_view_name": "LayoutView",
            "grid_template_rows": null,
            "right": null,
            "justify_content": null,
            "_view_module": "@jupyter-widgets/base",
            "overflow": null,
            "_model_module_version": "1.2.0",
            "_view_count": null,
            "flex_flow": null,
            "width": null,
            "min_width": null,
            "border": null,
            "align_items": null,
            "bottom": null,
            "_model_module": "@jupyter-widgets/base",
            "top": null,
            "grid_column": null,
            "overflow_y": null,
            "overflow_x": null,
            "grid_auto_flow": null,
            "grid_area": null,
            "grid_template_columns": null,
            "flex": null,
            "_model_name": "LayoutModel",
            "justify_items": null,
            "grid_row": null,
            "max_height": null,
            "align_content": null,
            "visibility": null,
            "align_self": null,
            "height": null,
            "min_height": null,
            "padding": null,
            "grid_auto_rows": null,
            "grid_gap": null,
            "max_width": null,
            "order": null,
            "_view_module_version": "1.2.0",
            "grid_template_areas": null,
            "object_position": null,
            "object_fit": null,
            "grid_auto_columns": null,
            "margin": null,
            "display": null,
            "left": null
          }
        },
        "bc3f00c3a1cf43af897b9cb82c75f3f3": {
          "model_module": "@jupyter-widgets/controls",
          "model_name": "DescriptionStyleModel",
          "state": {
            "_view_name": "StyleView",
            "_model_name": "DescriptionStyleModel",
            "description_width": "",
            "_view_module": "@jupyter-widgets/base",
            "_model_module_version": "1.5.0",
            "_view_count": null,
            "_view_module_version": "1.2.0",
            "_model_module": "@jupyter-widgets/controls"
          }
        },
        "9d15ca77f8424215b09091bef9eb9a27": {
          "model_module": "@jupyter-widgets/base",
          "model_name": "LayoutModel",
          "state": {
            "_view_name": "LayoutView",
            "grid_template_rows": null,
            "right": null,
            "justify_content": null,
            "_view_module": "@jupyter-widgets/base",
            "overflow": null,
            "_model_module_version": "1.2.0",
            "_view_count": null,
            "flex_flow": null,
            "width": null,
            "min_width": null,
            "border": null,
            "align_items": null,
            "bottom": null,
            "_model_module": "@jupyter-widgets/base",
            "top": null,
            "grid_column": null,
            "overflow_y": null,
            "overflow_x": null,
            "grid_auto_flow": null,
            "grid_area": null,
            "grid_template_columns": null,
            "flex": null,
            "_model_name": "LayoutModel",
            "justify_items": null,
            "grid_row": null,
            "max_height": null,
            "align_content": null,
            "visibility": null,
            "align_self": null,
            "height": null,
            "min_height": null,
            "padding": null,
            "grid_auto_rows": null,
            "grid_gap": null,
            "max_width": null,
            "order": null,
            "_view_module_version": "1.2.0",
            "grid_template_areas": null,
            "object_position": null,
            "object_fit": null,
            "grid_auto_columns": null,
            "margin": null,
            "display": null,
            "left": null
          }
        }
      }
    }
  },
  "cells": [
    {
      "cell_type": "markdown",
      "metadata": {
        "id": "view-in-github",
        "colab_type": "text"
      },
      "source": [
        "<a href=\"https://colab.research.google.com/github/AlexBB999/NLP/blob/master/Brian_Cosine_2_5_Similarity_2.ipynb\" target=\"_parent\"><img src=\"https://colab.research.google.com/assets/colab-badge.svg\" alt=\"Open In Colab\"/></a>"
      ]
    },
    {
      "cell_type": "markdown",
      "metadata": {
        "id": "kGfiMQES6dYi",
        "colab_type": "text"
      },
      "source": [
        "**HERE ARE SOME OF THE MANY PROBLEMS:**\n",
        "\n",
        "1 - **THIS STUFF IS ALL UNSUPERVISED**\n",
        "\n",
        "2 - **I WANTED TO DO MORE WITH CLUSTERING -- WILL DO IF TIME PERMITS**\n",
        "\n",
        "3 - **I WANTED TO  BUILD MY OWN BERT  SUMARIZER**\n",
        "\n",
        "4 - **I WANTED TO APPLY METRICS TO COMPARE THE SUMMARIZATIONS -- UNENDING NIGHTMARE -- SEE \"ROGUE\" AT THE BOTTOM -- ROGUE IS A METRIC FOR EVALUATIONG SUMMARIZATIONS (AND TRANSLATION) -- I INSTALLED IT  -- YOU WILL SEE THE ERROR WHEN I TRIED TO SCORE RESULTS ON DEMO**\n",
        "\n",
        "5 -- **NEED  MORE VISUALS**"
      ]
    },
    {
      "cell_type": "code",
      "metadata": {
        "id": "-gX5QGvhwh6F",
        "colab_type": "code",
        "outputId": "832e9182-67a6-4264-f8d7-5a6b78837be8",
        "colab": {
          "base_uri": "https://localhost:8080/",
          "height": 193
        }
      },
      "source": [
        "!pip install umap-learn"
      ],
      "execution_count": 0,
      "outputs": [
        {
          "output_type": "stream",
          "text": [
            "Requirement already satisfied: umap-learn in /usr/local/lib/python3.6/dist-packages (0.4.3)\n",
            "Requirement already satisfied: scikit-learn>=0.20 in /usr/local/lib/python3.6/dist-packages (from umap-learn) (0.22.2.post1)\n",
            "Requirement already satisfied: tbb in /usr/local/lib/python3.6/dist-packages (from umap-learn) (2020.0.133)\n",
            "Requirement already satisfied: numba!=0.47,>=0.46 in /usr/local/lib/python3.6/dist-packages (from umap-learn) (0.48.0)\n",
            "Requirement already satisfied: scipy>=1.3.1 in /usr/local/lib/python3.6/dist-packages (from umap-learn) (1.4.1)\n",
            "Requirement already satisfied: numpy>=1.17 in /usr/local/lib/python3.6/dist-packages (from umap-learn) (1.18.4)\n",
            "Requirement already satisfied: joblib>=0.11 in /usr/local/lib/python3.6/dist-packages (from scikit-learn>=0.20->umap-learn) (0.15.1)\n",
            "Requirement already satisfied: llvmlite<0.32.0,>=0.31.0dev0 in /usr/local/lib/python3.6/dist-packages (from numba!=0.47,>=0.46->umap-learn) (0.31.0)\n",
            "Requirement already satisfied: setuptools in /usr/local/lib/python3.6/dist-packages (from numba!=0.47,>=0.46->umap-learn) (46.3.0)\n"
          ],
          "name": "stdout"
        }
      ]
    },
    {
      "cell_type": "code",
      "metadata": {
        "id": "FrVVdZCA0X_E",
        "colab_type": "code",
        "colab": {}
      },
      "source": [
        "#! pip install umap-learn[plot]"
      ],
      "execution_count": 0,
      "outputs": []
    },
    {
      "cell_type": "code",
      "metadata": {
        "id": "WoQpUxCgwx5x",
        "colab_type": "code",
        "outputId": "deb7543d-8499-4cdd-97be-9399973c07f9",
        "colab": {
          "base_uri": "https://localhost:8080/",
          "height": 367
        }
      },
      "source": [
        "! pip install hdbscan"
      ],
      "execution_count": 6,
      "outputs": [
        {
          "output_type": "stream",
          "text": [
            "Collecting hdbscan\n",
            "\u001b[?25l  Downloading https://files.pythonhosted.org/packages/22/2f/2423d844072f007a74214c1adc46260e45f034bb1679ccadfbb8a601f647/hdbscan-0.8.26.tar.gz (4.7MB)\n",
            "\u001b[K     |████████████████████████████████| 4.7MB 3.4MB/s \n",
            "\u001b[?25h  Installing build dependencies ... \u001b[?25l\u001b[?25hdone\n",
            "  Getting requirements to build wheel ... \u001b[?25l\u001b[?25hdone\n",
            "    Preparing wheel metadata ... \u001b[?25l\u001b[?25hdone\n",
            "Requirement already satisfied: cython>=0.27 in /usr/local/lib/python3.6/dist-packages (from hdbscan) (0.29.18)\n",
            "Requirement already satisfied: scikit-learn>=0.17 in /usr/local/lib/python3.6/dist-packages (from hdbscan) (0.22.2.post1)\n",
            "Requirement already satisfied: numpy>=1.16.0 in /usr/local/lib/python3.6/dist-packages (from hdbscan) (1.18.4)\n",
            "Requirement already satisfied: six in /usr/local/lib/python3.6/dist-packages (from hdbscan) (1.12.0)\n",
            "Requirement already satisfied: joblib in /usr/local/lib/python3.6/dist-packages (from hdbscan) (0.15.1)\n",
            "Requirement already satisfied: scipy>=0.9 in /usr/local/lib/python3.6/dist-packages (from hdbscan) (1.4.1)\n",
            "Building wheels for collected packages: hdbscan\n",
            "  Building wheel for hdbscan (PEP 517) ... \u001b[?25l\u001b[?25hdone\n",
            "  Created wheel for hdbscan: filename=hdbscan-0.8.26-cp36-cp36m-linux_x86_64.whl size=2308886 sha256=b1b1be8616d96f30fb4633051cf33f2d8620a619b1d7300889f78acd076491a8\n",
            "  Stored in directory: /root/.cache/pip/wheels/82/38/41/372f034d8abd271ef7787a681e0a47fc05d472683a7eb088ed\n",
            "Successfully built hdbscan\n",
            "Installing collected packages: hdbscan\n",
            "Successfully installed hdbscan-0.8.26\n"
          ],
          "name": "stdout"
        }
      ]
    },
    {
      "cell_type": "code",
      "metadata": {
        "id": "xOv59zEuwsq-",
        "colab_type": "code",
        "colab": {}
      },
      "source": [
        "# import warnings filter\n",
        "from warnings import simplefilter\n",
        "# ignore all future warnings\n",
        "simplefilter(action='ignore', category=FutureWarning)"
      ],
      "execution_count": 0,
      "outputs": []
    },
    {
      "cell_type": "code",
      "metadata": {
        "id": "frGBxdPSxBry",
        "colab_type": "code",
        "colab": {}
      },
      "source": [
        "from sklearn.cluster import KMeans\n",
        "from sklearn.preprocessing import StandardScaler\n",
        "from sklearn.model_selection import train_test_split"
      ],
      "execution_count": 0,
      "outputs": []
    },
    {
      "cell_type": "code",
      "metadata": {
        "id": "FTp7m36rxMoT",
        "colab_type": "code",
        "colab": {}
      },
      "source": [
        "import pandas_profiling\n",
        "#from kmodes.kmodes import KModes\n",
        "from sklearn.metrics import silhouette_score"
      ],
      "execution_count": 0,
      "outputs": []
    },
    {
      "cell_type": "code",
      "metadata": {
        "id": "7xEkMH9ExTxd",
        "colab_type": "code",
        "colab": {}
      },
      "source": [
        "import umap\n",
        "%matplotlib inline\n",
        "import hdbscan\n",
        "import sklearn.cluster as cluster\n",
        "from sklearn.metrics import adjusted_rand_score, adjusted_mutual_info_score"
      ],
      "execution_count": 0,
      "outputs": []
    },
    {
      "cell_type": "code",
      "metadata": {
        "id": "t-TnoNQDbMd0",
        "colab_type": "code",
        "colab": {}
      },
      "source": [
        "import pandas as pd\n",
        "import numpy as np\n",
        "import re\n",
        "import json\n",
        "import spacy\n",
        "from sklearn.metrics.pairwise import cosine_similarity\n",
        "from sklearn.feature_extraction.text import CountVectorizer\n",
        "from sklearn.feature_extraction.text import TfidfVectorizer"
      ],
      "execution_count": 0,
      "outputs": []
    },
    {
      "cell_type": "code",
      "metadata": {
        "id": "qZwCWaLfz5Cv",
        "colab_type": "code",
        "colab": {}
      },
      "source": [
        "import en_core_web_sm\n",
        "nlp = en_core_web_sm.load()"
      ],
      "execution_count": 0,
      "outputs": []
    },
    {
      "cell_type": "code",
      "metadata": {
        "id": "9IHJgLEG_3IM",
        "colab_type": "code",
        "colab": {}
      },
      "source": [
        "import seaborn as sns\n",
        "import nltk\n",
        "from nltk import word_tokenize\n",
        "from nltk.corpus import stopwords\n",
        "from nltk.stem.snowball import SnowballStemmer\n",
        "from nltk.stem.wordnet import WordNetLemmatizer\n",
        "from nltk.corpus.reader.plaintext import PlaintextCorpusReader\n",
        "from sklearn.cluster import KMeans\n",
        "from sklearn.cluster import AgglomerativeClustering\n",
        "import matplotlib.pyplot as plt\n",
        "from yellowbrick.cluster import KElbowVisualizer"
      ],
      "execution_count": 0,
      "outputs": []
    },
    {
      "cell_type": "code",
      "metadata": {
        "id": "w7IcqvabclSt",
        "colab_type": "code",
        "outputId": "ca397926-92e3-4d93-f9a1-59f6c1084003",
        "colab": {
          "base_uri": "https://localhost:8080/",
          "height": 69
        }
      },
      "source": [
        "import nltk\n",
        "nltk.download('stopwords')"
      ],
      "execution_count": 14,
      "outputs": [
        {
          "output_type": "stream",
          "text": [
            "[nltk_data] Downloading package stopwords to /root/nltk_data...\n",
            "[nltk_data]   Unzipping corpora/stopwords.zip.\n"
          ],
          "name": "stdout"
        },
        {
          "output_type": "execute_result",
          "data": {
            "text/plain": [
              "True"
            ]
          },
          "metadata": {
            "tags": []
          },
          "execution_count": 14
        }
      ]
    },
    {
      "cell_type": "code",
      "metadata": {
        "id": "K6VZZAksEv2N",
        "colab_type": "code",
        "colab": {}
      },
      "source": [
        "from nltk.corpus import stopwords\n",
        "from nltk.cluster.util import cosine_distance\n",
        "import networkx as nx"
      ],
      "execution_count": 0,
      "outputs": []
    },
    {
      "cell_type": "code",
      "metadata": {
        "id": "yZr8QA6mamTg",
        "colab_type": "code",
        "colab": {}
      },
      "source": [
        "with open('/content/Allen2.json') as json_file:\n",
        "    data2 = json.load(json_file)"
      ],
      "execution_count": 0,
      "outputs": []
    },
    {
      "cell_type": "markdown",
      "metadata": {
        "id": "H9LpBUGvmvTv",
        "colab_type": "text"
      },
      "source": [
        "**K IS THE DOCUMENT AS ONE LONG STRING**"
      ]
    },
    {
      "cell_type": "code",
      "metadata": {
        "id": "fO0cif5ca9C_",
        "colab_type": "code",
        "colab": {}
      },
      "source": [
        "k=''\n",
        "for text in data2['body_text']:\n",
        "  k=k+(text[\"text\"])"
      ],
      "execution_count": 0,
      "outputs": []
    },
    {
      "cell_type": "code",
      "metadata": {
        "id": "b5DCdzw-9hOe",
        "colab_type": "code",
        "outputId": "16b192e5-6f25-48d4-9887-67b14945f2c4",
        "colab": {
          "base_uri": "https://localhost:8080/",
          "height": 35
        }
      },
      "source": [
        "len(k)"
      ],
      "execution_count": 19,
      "outputs": [
        {
          "output_type": "execute_result",
          "data": {
            "text/plain": [
              "46281"
            ]
          },
          "metadata": {
            "tags": []
          },
          "execution_count": 19
        }
      ]
    },
    {
      "cell_type": "code",
      "metadata": {
        "id": "B6zExyaEPNI5",
        "colab_type": "code",
        "outputId": "8fe312ff-7f80-487e-b968-a7713cde73de",
        "colab": {
          "base_uri": "https://localhost:8080/",
          "height": 55
        }
      },
      "source": [
        "k"
      ],
      "execution_count": 20,
      "outputs": [
        {
          "output_type": "execute_result",
          "data": {
            "text/plain": [
              "\"Background 5′-triphosphorylated, 2′-5′-linked oligoadenylate polyribonucleotides (2-5As) of the structure pppA(pA) n where n ≥ 1, are the key components of the interferon (IFN)induced antiviral 2-5A system. IFNs are extracellular cytokines specific to (jawed) vertebrates and central to host innate immunity. Upon binding of cognate receptors, they induce numerous intracellular signaling cascades, leading to transcriptional activation of several hundred genes, which altogether determine the biological outcome involving antiviral, antitumoral, and immunomodulatory effects [1] [2] [3] [4] . One gene family induced by IFNs is the double-stranded RNA-dependent 2′-5′ oligoadenylate synthetases (dsRNA-dependent OASs) in humans comprising four members, OAS1, OAS2, OAS3 and OAS-like (OASL). At least six OAS isoforms are expressed from these four human genes: two splice variants from the OAS1 and OAS2 genes and a single variant from each of the OASL and OAS3 genes [5, 6] . In comparison, the mice genome encodes multiple OAS genes: eight OAS1 genes, one each of the OAS2 and OAS3 genes and two OASL genes, believed to have arisen from duplication and divergence events from a common ancestral gene [7, 8] . Upon binding of viral dsRNA, the OAS enzymes synthesize 2-5As from ATP leading to accumulation of 2-5As. These 2-5As in turn activate RNase L, an endoRNase degrading viral and cellular RNA. RNase L cleaves RNA 3′ to UN sequences, but mainly at UA and UU sites, N being any of the nucleotide bases in RNA, and this results in inhibition of viral replication [9] [10] [11] [12] . Note that despite of binding dsRNA and ATP, the human OASL is catalytically inactive due to key mutations in the active site compared with the other OAS isoforms [13] .2-5A catalysis generally proceeds by hydrolysis of the phosphoanhydride linking the α and β phosphates of ATP when bound in the so-called donor-site of the enzymes resulting in pyrophosphate (PPi) and AMP, which is subsequently linked to the free 2′-OH group of a second ATP molecule or a 2-5A molecule placed in the acceptor-site of the enzymes [6] . The OASs actually combines a broad range of substrates (not only ATP) to form 2′-5′ heterooligonucleotides in vitro, thus they are better described as general 2′-5′-nucleotidyl transferases [14, 15] . The requirements on the acceptor-site is a 2′-end positioned AMP linked in an RpA configuration, where R specifies either ATP, nicotinamide adenine dinucleotide (NAD + ), or oligomeric or polymeric primers (e.g. tRNA, Ap 4 A, Ap 3 A). In the donor-site, all nucleoside-triphosphates (NTPs) as well as deoxy-nucleoside-triphosphates (dNTPs) can be used, N specifying the nucleotide bases in DNA and RNA. The following general reaction scheme apply to the varied enzyme capabilities of the OASs: RpA + (d)NTP → PPi + RpA-(d)NMP in which the incorporation of AMP prompts for oligoadenylate synthesis by means of multiple 2′ elongation events (the other NMPs and dNMPs make up single incorporation events only).Due to low sequence specificity, RNase L degrades cellular RNA and prolonged activation results in an antiproliferative response leading to apoptosis [9] [10] [11] 16] . Immediate de-activation of RNase L is therefore required following viral infection, which can be achieved by either of two ways, (i) through the reversible binding of an RNase L inhibitor allowing for temporary inactivation, or (ii) by degradation of the activator 2-5As leading to persistent inactivation [17, 18] . The identification and exploration of cellular nucleases degrading 2-5As and 2-5A core molecules (the 5′-dephosphorylated forms of 2-5As), is currently ongoing. At present, three enzyme candidates exist: the phosphodiesterase 12 (PDE12) [18] , the ectonucleotide pyrophosphatase/phosphodiesterase 1 (ENPP1) [19] and the A-kinase anchoring protein 7 (AKAP7) [20] . Even though these enzymes all degrade the 2′-5′ oligoadenylates in vitro, the evidence that they truly antagonize the 2-5A system in cells has yet to be reported. Also two viral proteins, ns2 [21] and VP3 [22] belonging to the group 2a betacoronaviruses and group A rotaviruses, respectively, have been found to degrade the 2′-5′ oligoadenylates in vitro. In addition, the ns2 and VP3 proteins have been shown to antagonize the 2-5A pathway during viral infection by preventing RNase L activation, thereby evading the host innate immune response [21, 22] . PDE12 is localized in the mitochondrial matrix [23] , ENPP1 in the plasma membrane with its active site pointing towards the extracellular matrix [24] and AKAP7 in the nucleus of cells [25] . 2-5As are mainly produced in the cytosol (and to some extend in the nucleus), which is also the site of viral replication [26] [27] [28] [29] . For PDE12 and ENPP1, the 2′-5′ oligoadenylates therefore need to traverse a membrane, i.e. either the inner mitochondrial membrane or the plasma membrane in order for degradation to take place. How exactly this would occur remains unknown, though processes like receptor-mediated transport or diffusion may be involved. By contrast, AKAP7 may have access to the 2′-5′ oligoadenylates based on its cellular localization and the fact that nuclear pores allow for diffusion of molecules between compartments. The ability of AKAP7 to restore infectivity of a mutant murine coronavirus carrying an inactivated variant of the ns2 gene has recently been investigated [20] . It was found that a mislocalized version of AKAP7 present in the cytoplasm could restore the infectivity of the mutant virus, which was not the case for the fulllength protein localized in the nucleus. This suggests that the 2′-5′ nucleases must be localized in very close proximity to the sites of viral replication, in order to maintain tight regulation over the 2-5A system. Also 5′-phosphatases trimming 2-5As to 2-5A core molecules might take play in degradation of 2′-5′ oligoadenylates in cells. This is based on experiments showing accumulation of 2-5A core molecules over 2-5As in cells upon viral infection [30, 31] . We hypothesize that regulation of 2-5As in cells is tightly controlled and orchestrated by multiple nucleases and phosphatases, some of which remains to be identified.Chemical-as well as enzyme-based strategies have been used to synthesize 2-5As. Whereas chemical synthesis is cumbersome being reported in an eight-step procedure [32] , enzyme-mediated synthesis is easier and done using purified OASs [14, [33] [34] [35] [36] . The literature on how to resolve and concentrate individual 2-5A molecules from within a mixture is however limited, the best option currently available being the high-performance liquid chromatography (HPLC)-based method described by Morin et al. [34] . Here we present an alternative to this procedure, which can be used to obtain highly pure 2-5As and 2-5A core molecules at the milligram scale.A variety of 2′-5′ oligo(adenylate) synthetase activity assays have been devised, which generally rely on ATP as substrate [4, 15, [37] [38] [39] . The assays have been used primarily to define and characterize the reaction products, and are not well suited to determine enzyme kinetic parameters, which are most easily achieved based on reactions generating only a single product. Also, the reaction products have mainly been resolved by HPLC using reverse-phased C 18 columns or thin-layer chromatography with PEI-Cellulose, in which the former has been used for production purposes. Likewise, many 2-5A nuclease assays have been reported [18, [40] [41] [42] [43] . They rely on very short 2′-5′ oligoadenylate substrates, especially the 2-5A core dimer ApA, which despite being commercially available, is not biologically relevant in the sense that oligoadenylates of a minimum of three AMP moieties (i.e. trimer) containing 5′ phosphate(s) are required for activation of RNase L [44] . Like above, the reaction products have been resolved by HPLC using reverse-phased C 18 columns or by thin-layer chromatography with PEI-Cellulose.This paper comprises an assay toolbox for the characterization and identification of nucleases and synthetases regulating the 2-5A system. A procedure for isolating 2′-5′ oligoadenylates is described, which results in high yields and purity of many 2-5As and 2-5A core molecules. The 2′-5′ oligoadenylates are used as substrates in enzyme assays for measurement of synthetase and nuclease activities. Amongst others, we present an enzyme assay using the A(pA) 3 tetramer core and dATP as substrates in producing a A(pA) 3 pdA pentameric product. The assay requires prior isolation of the A(pA) 3 tetramer core. We also present a synthetase assay using NAD + and either dATP, dCTP, dGTP or dTTP as substrates for the OAS enzyme. This assay is well-suited to assess the broader cellular role expected of the OASs, based on the very diverse substrate specificity in vitro.Human OAS1 p42 containing an N-terminal His-tag (His-OAS1) cloned in the pET9d bacterial expression vector was a kind gift from Kineta (formerly Illumigen Biosciences).The plasmid was transformed into the E.coli BL21 (DE3) strain and plated on selective LB agar (50 μg/mL ampicillin), followed by inoculation of single colonies to selective LB medium for incubation at 37°C for 16 h at 200 rpm. At OD 600 = 0.6, the cultures were added IPTG to a final concentration of 1 mM and left for overnight incubation at 20°C at 200 rpm to allow protein expression. The cells were harvested by centrifugation at 7000 rpm for 20 min at 4°C and ruptured using the B-PER Protein Extraction Reagent (0.5 mL/g dry weight, Thermo Scientific). The lysates were cleared by centrifugation at 12,000 rpm for 10 min at 4°C and diluted four-fold in Buffer A (20 mM Na 2 PO 4 , 0.5 M NaCl, pH 7.4) before filtration (0.22 μM). Protein purification was with a HiTrap Chelating HP column (1 mL, GE Healthcare) charged with 0.1 M NiSO 4 using an ÄKTAexplorer chromatography system (GE Healthcare). The elution was carried out in a gradient of Buffer B (20 mM Na 2 PO 4 , 0.5 M NaCl, 500 mM imidazole, pH 7.4): a step gradient from 0 to 10 % B, a linear gradient from 10 to 70 % B in 10 mL and a step gradient from 70 to 100 % B. The His-OAS1 eluted in the interval 10-70 %. Elution fractions were finally mixed with one volume of 80 % glycerol and stored at −80°C. We reproducibly obtained~2 mg of purified His-OAS1 per liter of E.coli cell culture using this procedure.Human PDE12 stripped for the mitochondrial targeting peptide (mTP) and containing a C-terminal His-tag (PDE12ΔmTP-His) was cloned in the pTriEx-3 Neo expression vector (Novagen) allowing for bacterial, insect as well as mammalian expression. Protein expression and purification were carried out as described in [23] . Briefly, BL21 (DE3) cells transformed with the above-mentioned construct were grown in selective LB medium and the expression induced with IPTG. The cells were harvested by centrifugation, and ruptured by sonication and highpressure homogenization. The cleared lysates were applied to Ni-NTA Superflow Cartridges (1 mL, Qiagen) using 300 mM of imidazole for elution, before fractionation of the eluates with a Mono Q HR 16/10 column (GE Healthcare) in a linear gradient of KCl to 500 mM. The fractions containing PDE12ΔmTP-His were finally pooled and diluted with one volume of 80 % glycerol before storage at −80°C. We reproducibly obtained~1 mg of purified PDE12ΔmTP-His per liter of E.coli cell culture using this procedure.For protein analyses, aliquots of the purified His-OAS1 and PDE12ΔmTP-His recombinant proteins were heattreated at 95°C for 5 min in loading buffer containing β-mercaptoethanol, and then subjected to SDS-PAGE followed by staining with Coomassie Blue (Pierce).HeLa cells grown in DMEM (Gibco BRL/Life Technology) with 10 % FBS and 1 % Penicillin/Streptomycin (Gibco BRL/Life Technology) were transfected using the PolyFect Transfection Reagent (Qiagen). Plasmids were the PDE12ΔmTP-His construct in pTriEx-3 Neo, redfluorescent protein (DsRed) also in pTriEx-3 Neo and as a control the empty pTriEx-3 Neo vector. Protein expression was carried out for 24 h, before lysis with 1 % NP40, 0.5 M CH 3 COOK added 2× Complete protease inhibitor cocktail (Roche). The lysates were cleared by centrifugation at 20,000 × g for 3 min, and the supernatants containing the proteins stored at −80°C. The BCA Protein Assay Kit (Pierce) was used for determination of the protein concentrations.In 200 mL reactions, 17 μg/mL of human His-OAS1 was incubated with 2 mM ATP, 4 mM Mg(OAc) 2 , 0.2 mM DTT, 40 μM EDTA, 0.2 mg/mL Poly(I)-Poly(C), 0.1 mg/mL BSA, 2 % glycerol and 4 mM Tris-Cl pH 7.8 for 3 h at 37°C [45] . In the time span 20-90 min, ATP was added every 10 min to sequentially increase the ATP concentration by 1 mM ending with with a final concentration of 10 mM. The reaction sample was heatinactivated at 85°C for 15 min before filtration (0.45 μm). The analysis of 2-5A synthesis was carried using a Mono Q HR 5/5 column (GE Healthcare) on the ÄKTAexplorer. A 200 μL aliquot was applied to the column equilibrated in Buffer C (20 mM Tris-HCl, pH 7.5) and fractionated in a linear gradient of 0-20 % and 20-22.8 % of Buffer D (1 M NaCl, 20 mM Tris-HCl pH 7.5) using 18 column volumes (CV) and 50 CV, respectively. The 200 mL reaction was then divided in two equal parts (100 mL each), one part for isolation of 2-5As and the other for isolation of 2-5A core molecules. The 2-5A core molecules were produced by incubation of the 2-5As with alkaline phosphatase (100 U/mL) for 16 h at 37°C. Preparative fractionation of 2-5As and 2-5A core molecules were with the Mono Q HR 16/10 column using a linear gradient of 0-10 % and 10-30 % of Buffer D over 3.6 CV and 24 CV, respectively. The sample injection volume were~10 mL for each of the fractionations, therefore the method was repeated several times in order to obtain separation of the entire reaction volume of 200 mL. For concentration of the oligoadenylates, the fractions of successive runs representing identical peaks were pooled and diluted 10 fold in Buffer C, in most cases resulting in total volumes of 1-2 l. This was applied over night to the Mono Q HR 16/10 column using the inlet A of the ÄKTAexplorer chromatography system running at a constant flow rate of 1 mL/min. The day after, elution was performed by a step gradient to 50 % of Buffer D, allowing for highly concentrated fractions of the individual oligoadenylates. Purity and concentration of the oligoadenylates were determined by application of small aliquots (~20 μl) to the Mono Q HR 16/10 column as described above. For concentration determination, ATP was used as an internal control. All the chromatographic procedures were carried using 254 nm as the absorbance wavelength. We used mass spectrometry for the exact identification of the isolated 2′-5′ oligoadenylates.The single-product 2′-5′ oligo(adenylate) synthetase (OAS) assaysThe dATP/A(pA) 3 assay was carried out in a 40 μl reaction volume containing 32 ng of purified recombinant human His-OAS1 protein, 2 mM dATP and 0.5 mM A(pA) 3 in 10 mM Mg(OAc) 2 , 1 mM DTT, 0.1 mg/mL BSA, 0.2 mM EDTA, 0.4 mg/mL poly(I):poly(C), 10 % glycerol, 0.1 mg/ml Creatine Kinase, 6 mM Creatine phosphate and 20 mM Tris-HCl, pH 7.8 for 30 min at 37°C using a thermal cycler.The NAD + /dNTP assay was performed in a 40 μl reaction volume using 32 ng of purified recombinant human His-OAS1 protein, 2 mM dNTP (dATP, dCTP, dGTP or TTP, respectively) and 3 mM NAD + in 10 mM Mg(OAc) 2 , 1 mM DTT, 0.1 mg/mL BSA, 0.2 mM EDTA, 0.4 mg/mL poly(I):poly(C), 10 % glycerol, 0.1 mg/ml Creatine Kinase, 6 mM Creatine phosphate and 20 mM Tris-HCl, pH 7.8 for 1 h at 37°C using a thermal cycler.The reactions were stopped by heat shock at 94°C for 5 min before dilution with ddH 2 O (3.5 fold) and filtration through AcroPrep TM 10 K Filter Plates (Pall Corporation) by centrifugation at 3000 x g for 15 min. For analysis of the samples 20 μl of filtrate was applied to a HiTrap Q column (1 mL, GE Healthcare) and fractionated with a stepwise linear gradient of 0-9 %, 9-17 %, 17-17.7 %, 17.7-22 %, 22-100 % of Buffer D in C over 3 mL, 54 mL, 20 mL, 50 mL and 6 mL, respectively. The chromatograms were obtained using 254 nm as the absorbance wavelength.The enzyme activity reaction catalyzed by OAS can be formulated with the general formula below, in which S1 and S2 are the substrates and P the product formed: S1 þ S2 → P E, the specific activity of the enzyme (mole P generated per second per gram protein) can be calculated from the equation:[S2] start is the start conc of S2, V is the reaction volume, M is the amount of protein added and T is the reaction time.The reaction schemes for the two kinds of OAS activities measured in this paper are depicted in reaction 1 and reaction 2, respectively.In reaction 1, the specific activity of the OAS1 enzyme (E1(OAS1) with dATP and A(pA) 3 as substrates (S1 and S2, respectively) was calculated with the formula:The integral refers to the area under the individual peaks from the substrates and products in the chromatograms.Reaction 2: dNTP + NAD + → NAD − pdN In reaction 2, dNTP (dATP, dCTP, dGTP or TTP) and NAD + were used as substrates (S1 and S2, respectively) in reactions with the OAS1 enzyme. Here the extinction coefficients, ε (M −1 × cm −1 ) of the individual dNTPs at 254 nm were used in the calculation of the specific enzyme activities, i.e. 15.200 for dATP, 9.300 for dCTP, 13.700 for dGTP and 9.600 for TTP. Thus the OAS1 specific enzyme activities E2(OAS1) from these reactions were calculated with the formula:The 2-5A nuclease assayThe nuclease reactions were performed in a total volume of 20 μl containing 1.2 μg of purified recombinant PDE12ΔmTP-His or 10 μg of crude protein extract together with 0.5 mM of substrate, either A(pA) 3 , A(pA) 4 or A(pA) 5 . The reactions also contained 1 mM MgCl 2 , 1 mM DTT, 1 mg/mL BSA, 1x protease inhibitor (EDTA-free, Roche Applied Science) and 20 mM Hepes, pH 7.0. The reactions were incubated for 1 h at 37°C using a thermal cycler, and stopped by heating to 94°C for 5 min. The end-reactions were diluted in Buffer C (15 fold) and applied to AcroPrep 10 K Filter Plates by centrifugation at 3000 × g for 15 min. The filtrates were analyzed on a Mono Q HR 5/5 column on an ÄKTAexplorer using a linear gradient of 0-12 % and 12-16 % of Buffer D in C over 18 CV and 20 CV, respectively. The chromatograms were obtained with 254 nm as the absorbance wave-length.For the PDE12 activity assay the following reaction scheme was used:n ≥ 1 and m ≥ 0. The specific activity of PDE12 (mole 5′-AMP synthesized per second per gram of protein (mole AMP/(sec*g)) was calculated with the formula:Total 254nm refers to the sum of the integral of all peaks in a given chromatogram at 254 nm for a single reaction, [A(pA) n ] start is the start concentration of the substrate A(pA) n, V is the reaction volume, T the reaction time and M the amount of protein added.As an example, the tetramer core substrate would be expected to undergo cleavage into the following products using PDE12 as the enzyme:In the case of purified protein, the specific enzyme activity of PDE12, E(PDE12) could therefore be calculated using the formula:For reactions including crude protein extracts, the specific enzyme activities were calculated in mmole AMP/ (sec*g of total protein). Note that the above formulas are valid only to enzymes producing one molecule of AMP per reaction cycle, which is true for exonucleases like PDE12. No endonucleases degrading 2-5As are currently known.To allow production of 2-5As as well as to develop and demonstrate the enzyme assays, recombinant OAS and PDE12 proteins were expressed and purified from bacteria. Synthesis of 2-5As was performed with a human OAS1 isoform known to produce oligomers up to 30mers in vitro [5] . The OAS2 and OAS3 can also produce oligomers of considerable length. OAS2 has been found to produce oligoadenylates of similar length as OAS1 [5] , whereas OAS3 can produce oligoadenylates of at least 12mer length [46, 47] . Expression and purification of OAS1 isoforms are straightforward compared with OAS2. Two splice variants, p42 and p46 are the main products of the human OAS1 gene. They are identical in their N-termini of 346 aa named the core OAS unit and differ in their Ctermini with extensions of 18 and 54 aa, respectively [5] . The OAS1 variant used here is the human p42 form cloned with an N-terminal His-tag fusion (His-OAS1).The mitochondrial localization of human PDE12 is facilitated by an N-terminal mitochondrial targeting peptide (mTP) spanning residues 1-16. For the present study, we used a His-tagged variant of PDE12 lacking the mTP (PDE12ΔmTP -His), which has previously been found not to alter the enzyme activity [23] . This variant was used primarily due to the fact that expression and purification was easier compared with the full-length form.Briefly, recombinant human His-OAS1 p42 and PDE12ΔmTP-His were expressed using the E.coli BL21 (DE3) strain. Purification of OAS1 p42 was done by Ni 2+ -chromatography in one step, and purification of PDE12ΔmTP-His was done in two steps, Ni 2+ -chromatography and quaternary (Q) anion-exchange chromatography. Isolated fractions were of high homogeneity as evaluated by Coomassie Blue stained SDS-PAGE protein gels (Additional file 1: Figure S1 ).Compared with 3′-5′ phosphodiester-linked oligonucleotides, 2-5As are difficult to attain chemically. Therefore,Ã start Â 4 Â 0:02 Â 10 −3 l 3600 s x Â 1:2 x 10 −6 g we synthesized the 2′-5′ oligoadenylates by enzymatic means using the His-OAS1 p42 variant in large-scale reactions with ATP. The efficiency of the reaction was assessed by Q anion-exchange chromatography, and the resulting chromatogram can be seen in Fig. 1a . In this figure two chromatograms have been superimposed, the 2-5A reaction mix (blue curve) and the control molecules (red curve): adenosine, 5′-AMP, 5′-ADP and 5′-ATP, in order to visually distinguish the reaction products (2-5As) from the ATP substrate. The batch of synthesised 2-5As was subsequently split in two parts, one part for isolation of 2-5As and the other for isolation of 2-5A core molecules. The conversion from 2-5As into 2-5A core molecules was performed by treatment with alkaline phosphatase. The 2-5As and 2-5A core molecules were then resolved by Mono Q chromatography, which resulted in high quality and quantity of many individual 2-5A molecules. Fig. 1b and c show how individual 2-5As and 2-5A core molecules up to and above the decamer length were successfully resolved. A homogenous preparation of the pppApA, the 2-5A dimer could not be obtained due to co-elution with ATP (see Fig. 1b) . Also, adenosine and the ApA core dimer were found to only weakly bind the resin under the experimental conditions used (running buffer: 20 mM Tris-HCl, pH 7.5). These molecules were thus detected 3 ). Blue curves: The 2′-5′ oligoadenylates numbered according to length, hence 2 specify the pppApA (or ApA) dimer, 3 the pppA(pA) 2 (or A(pA) 2 ) trimer, 4 the pppA(pA) 3 (or A(pA) 3 ) tetramer and so forth. Red curve in (a): Chromatogram obtained using control molecules: Adenosine, 5′-AMP, 5′-ADP and 5′-ATP as indicated. Brown curves: Experimental salt gradients. mAU (milli-absorbance unit) is the unit used for molecular detection at 254 nm, and mS/cm (milliSiemens/centimeter) the unit used to measure conductivities before application of the experimental salt gradient used for separation, but after the void volume of the column. The individual 2-5As and 2-5A core molecules were subsequently concentrated in three steps, by a 10 fold dilution of the samples in running buffer to reduce the overall sodium chloride content, re-application of the molecules to the Mono Q column and elution by a step-gradient of 0.5 M sodium chloride. In Fig. 1d the elution profile obtained from concentration of the A(pA) 3 tetramer core is shown. Here a starting volume of~200 mL (i.e. before dilution) was converted to less than 3 mL (~70 fold concentration of the molecule). In Fig. 1e , an aliquot of the final concentrated sample was resolved by Mono Q chromatography to confirm molecular purity. The detection of a single peak at the expected retention volume, suggests that this a very homogenous preparation of the A(pA) 3 tetramer core. Using this procedure, we have obtained very high yields of many individual 2′-5′ oligoadenylates. Of the three substrates utilized here: A(pA) 3 tetramer core, A(pA) 4 pentamer core and A(pA) 5 hexamer core, a total of 17.2, 15.5 and 11.3 mg were obtained corresponding to 10.1, 9.1 and 6.6 mg of oligoadenylate per mg human His-OAS1 used in the reaction, respectively.We have developed a number of OAS enzyme assays using the isolated oligoadenylates as well as NAD + as substrates. The assays produce only a single reaction product, as opposed to the large panel of 2-5As formed using ATP as substrate. This allows for a more precise kinetic assessment of the enzymes.In the first assay, the A(pA) 3 tetramer core and the deoxy-nucleotide dATP were used as substrates in formation of a pentameric product, A(pA) 3 pdA. Because dATP, as opposed to ATP is blocked for elongation/ acceptance of nucleotides due to an inert 2′ hydrogen atom, the dATP will only function in the donor-site of the enzymes. Similarly, the A(pA) 3 will be committed to the acceptor-site due to a lack of 5′ phosphates. Consequently, the single A(pA) 3 pdA product formed is blocked for further 2′ elongation by incorporation of dAMP. The reaction can be summarized as follows: dATP + A(pA) 3 → A(pA) 3 pdA + PPi. The fact that all reactants and products are negatively charged at physiological pH allow for fractionation by anionexchange chromatography.For demonstrating the assay we incubated the purified human His-OAS1 with the substrates dATP and A(pA) 3 and allowed the reaction to proceed for 30 min. The reactants and products were resolved by anion-exchange chromatography using a HiTrap Q column and a gradient of increasing sodium chloride concentration. Compared with the controls dATP or A(pA) 3 only, the product A(pA) 3 pdA exhibited a retention volume higher than A(pA) 3 and lower than dATP, and formed a discrete peak (Fig. 2) . We calculated the specific enzyme activity of the human OAS1 p42 for production of A(pA) 3 pdA to be 1.1 mmole/(sec*g).We also made additional set-ups and optimized the assay using alternative 'acceptor' and 'donor' molecules as substrates for the OAS (Fig. 3) . NAD + , a coenzyme present in all living cells is composed of two nucleotides one containing an adenine base (the 2′ nucleotide) and the other a nicotinamide base (Fig. 3a, inset) . Both in terms of unavailability of free/reactive 5′ phosphates and the presence of a 2′ hydroxyl group, NAD + closely mimics the A(pA) 3 substrate. Consequently, we substituted the A(pA) 3 substrate with NAD + and carried out the reactions with all of the dNTPs (dATP, dCTP, dGTP and TTP) separately, which should allow for synthesis of single-product NAD-dNMP derivatives. Indeed the human His-OAS1 was found to produce NAD-dNMP derivatives albeit with variable efficiencies, resulting in nice and discrete peaks with retention volumes higher than NAD + and lower than the dNTPs (Fig. 3) . The specific enzyme activities were calculated to be 0.2 mmole/(sec*g) for NAD-pdA; 0.1 mmole/(sec*g) for NAD-pdC; 0.02 mmole/(sec*g) for NAD-pdG and 0.1 mmole/(sec*g) for NAD-pT.To be able to better identify and characterize nucleases regulating cellular 2-5A levels we have developed a simple 2′-5′ nuclease assay. The reactions were set up using a single 2′-5′ oligoadenylate substrate, which are combined with a (candidate) nuclease and incubated for a given amount of time. The assays demonstrated here utilize the tetramer core A(pA) 3 , pentamer core A(pA) 4 and hexamer core A(pA) 5 substrates in reactions with the purified PDE12ΔmTP-His enzyme or HeLa cell protein extracts. The substrate and products were resolved by Mono Q chromatography. The chromatograms for purified protein (PDE12ΔmTP-His) are shown in Fig. 4 and for HeLa cell protein extracts in Fig. 5 . Different controls were included. For the purified protein, a reaction omitting the enzyme was used to measure the extent to which the substrate might undergo autohydrolysis. For the crude protein extracts, the contribution of normal cellular proteins to total enzyme activities, i.e. endogenous activities versus total enzyme activities, need to be distinguished to precisely map the activity specific to the expressed recombinant protein. This was done by including a reaction of protein extracts from emptyvector (EV) transfected cells, and using this as the measure of cellular endogenous activity (purple curves in Fig. 5) . We also carried out a reaction with protein extracts from HeLa cells overexpressing an irrelevant Fig. 2 Single-product OAS assay using dATP and A(pA) 3 as substrates. Purified human recombinant His-OAS1 enzyme was incubated with dATP and A(pA) 3 for 30 min at 37°C, and the reactants and product resolved using a HiTrap Q column. In the figure, three separate chromatograms have been superimposed with the position of the respective molecules indicated. Blue curve: Profile from a reaction using His-OAS1 with dATP and A(pA) 3 as substrates. Red and green curves: Control reactions using His-OAS1 together with dATP or A(pA) 3 alone, respectively. Brown curve: Experimental salt gradient. Chromatograms were obtained with 254 nm as the absorbance wavelength. mAU, milli-absorbance unit and mS/cm, milliSiemens/centimeter Fig. 3 Single-product OAS assay using dNTPs and NAD + as substrates. The purified human recombinant His-OAS1 enzyme was incubated with NAD + and dNTP (dATP, dCTP, dGTP or TTP) for 30 min at 37°C, and the reactants and product resolved using a HiTrap Q column. Each figure (a-d) includes three chromatograms that have been superimposed. The position of the reactants and product are indicated in the chromatograms. The substrates used were: (a) NAD + and dATP, (b) NAD + and dCTP, (c) NAD + and dGTP and (d) NAD + and TTP. Blue curves: Profiles from reactions using His-OAS1 together with NAD + and dNTP. Red and green curves: Control reactions after incubation of His-OAS1 with either NAD + or dNTP alone, respectively. The insert in (a) shows the structural formula of NAD + . The 2′ hydroxyl (OH) to be linked with dNMP during the reaction has been highlighted in red. Brown curves: experimental salt gradients. Chromatograms were obtained by using 254 nm as the absorbance wavelength. mAU, milli-absorbance unit and mS/cm, milliSiemens/centimeter protein (dsRed), to ascertain if substrate degradation is specific to PDE12, or simply is the result of overexpressing a protein (DsRed, yellow curves in Fig. 5 ). Please note that the activity chromatograms representing the EV (purple) and DsRed (yellow) controls in Fig. 5 closely overlap (as expected), and thus cannot be discerned in the figure.The levels of high molecular weight products are higher than low molecular weight products, e.g. for degradation of A(pA) 5 hexamer core the level of products are: pentamer core > tetramer core > trimer core > dimer core > adenosine (Figs. 4 and 5 ). This correlates with the fact that PDE12 has been described as a 2′-5′ exonuclease producing 5′-AMP during each reaction cycle, which is temporally separated by dissociation and re-binding of substrates (i.e. a distributive enzyme) [19] . The distributive cleavage of 2′-5′ oligoadenylates by PDE12 can be described with a single cleavage event conforming to the reaction scheme: (p) x A(pA) n → (p) x A(pA) n-1 + AMP, where x = [0, 1, 2 or 3], n ≥ 1, implying that substrates can be processed until n = 1. Processive enzymes on the other hand might catalyze the reactions to completion generating two reaction products exclusively: adenosine plus AMP for 2-5A core molecules and ATP plus AMP for 2-5As. The following reaction scheme describes this mode of catalysis: (p) x A(pA) n → (p) x A + nAMP, where x = [0, 1, 2 or 3] and n ≥ 1. Note that regardless of the degradation mechanism (distributive versus processive), one molecule of AMP is produced per cleavage event assuming that degradation is mediated by an exonuclease activity. Therefore the activities obtained from different nucleases on a single substrate as well as for one nuclease on several substrates, are directly comparable provided that the conclusions will be based on the quantity of AMP generated. Table 1 provides an overview of the specific enzyme activities calculated for PDE12, based on the reactions presented. Note that for crude protein extracts, the specific activity attributable to PDE12 only, can be inferred by subtraction of the cellular endogenous activities (either DsRed or EV analyses) from total enzyme activities (PDE12 reactions).This paper presents a toolbox for characterization and identification of the nucleases and synthetases regulating cellular 2-5A levels. A procedure for isolating 2-5A 4 pentamer core or (c) the A(pA) 5 hexamer core for 1 h at 37°C, and the products resolved by Mono Q chromatography. Each figure (a-c) includes two chromatograms that were superimposed. Blue curves: Profiles from reactions in which the enzyme was used, and red curves: Profiles from reactions where the enzyme was omitted. The 2-5A core molecules were numbered according to length with 2 specifying the ApA dimer core, 3 the A(pA) 2 trimer core and so forth. Brown curves: Experimental salt gradients. Chromatograms were obtained with 254 nm as the absorbance wavelength. mAU, milli-absorbance unit and mS/cm, milliSiemens/centimeter. This figure has been reproduced from [19] with courtesy of Biochimie, Elsevier molecules is described along with enzyme assays using purified OAS and PDE12 recombinant enzymes.Measurements of OAS enzyme activity have traditionally been assayed using ATP as substrate producing a mixture of 2-5A molecules [4, 15, 37, 39] . Our assays produce only a single reaction product allowing a precise kinetic assessment of the enzymes. In the dATP/A(pA) 3 assay, human OAS1 p42 was found to produce the A(pA) 3 pdA pentamer product with a specific activity of 1.1 mmole/(sec*g). An estimate of 0.2 mmole/(sec*g) on formation of 2-5As using ATP as substrate has previously been determined for human OAS1 p42 [48] . This difference (5-6 fold) might result from the lower estimate being based on formation of multiple products, i.e. 2-5As compared with the single product A(pA) 3 pdA formed in our assay. Variations may also result from the approach used to quantify reactants and products. We carried out quantification based on the integral of the corresponding peaks following anion-exchange chromatography, whereas in [48] quantification was based on 4 pentamer core or (c) A(pA) 5 hexamer core for one hour at 37°C, and the products resolved by Mono Q chromatography. Note that each figure (a-c) includes four superimposed chromatograms: blue curves PDE12, yellow curves DsRed, purple curves EV and green curves -. The 2-5A core molecules are numbered according to length with 2 specifying the ApA dimer core, 3 the A(pA) 2 trimer core and so forth. Brown curves: Experimental salt gradients. The chromatograms were obtained with 254 nm as the absorbance wavelength. mAU, milli-absorbance unit and mS/cm, milliSiemens/centimeter the densitometric scans of dots (molecules) resolved by thin-layer chromatography.In the dNTP/NAD + assay, human OAS1 p42 was found to produce NAD-dNMP derivatives with specific activities of 0.2 mmole/(sec*g) for NAD-pdA, 0.1 mmole/(sec*g) for NAD-pdC, 0.02 mmole/(sec*g) for NAD-pdG and 0.1 mmole/(sec*g) for NAD-pT. Similar assays using rabbit OAS1 in reactions with NAD + and NTPs (ATP, GTP, UTP and CTP, respectively) have previously been conducted yielding specific activities of 0.0009 mmole/(sec*g) for NAD-pA, 0.0005 mmole/(sec*g) for NAD-pG, 0.0009 mmole/(sec*g) for NAD-pU and 0.0008 mmole/(sec*g) for NAD-pC [15] . Indeed our estimates are higher, which may reflect the different sources of OAS used, i.e. human versus rabbit, the strategy undertaken for analyzing product formation, i.e. anion-exchange chromatography versus thin-layer chromatography, or simply that we have used dNTPs over NTPs in the reactions. Note that NAD + was initially demonstrated to be a preferred primer over ATP for the OASs, producing mainly NAD + derivatives such as NAD-pA in reactions of both substrates [49] . This result was however contradicted by Ferbus et al. [15] , showing that NAD + and ATP are used with equal efficiencies when part of the same reaction. In the dNTP/NAD + assay demonstrated here, we chose to substitute the ATP with dNTPs to accommodate the need for a singleproduct assay. Importantly, the above synthetase assays are applicable also to crude extracts, e.g. bacterial or mammalian cell protein extracts (data not shown). This is possible through use of a creatine kinase system applied in the reaction buffer, which continuously regenerates dATP from the dADP and dAMP inhibitors formed during the reaction.The OASs have been found to join a variety of oligoadenylates and derivatives in vitro. For instance, using NAD + , ADP-ribose and (A5′)p 4 (5′A) in reactions with ATP, the enzymes readily produce NAD-pA(pA) 2 , ADPribose-pA(pA) 2 and (A5′)p 4 (5′A)-pA(pA) 2 conjugates, respectively [49] . The varied set of products produced by the OASs in vitro therefore naturally raises the question if the OASs might retain other biological functions than that related to the 2-5A system. This has been studied for the NAD + , ADP-ribose and (A5′)p 4 (5′A) derivatives [49] . The conjugates were firstly screened for an ability to inhibit protein synthesis in an encephalomyocarditis-RNA-programmed tumour cell-free system. Whereas the (A5′)p 4 (5′A)-pA(pA) 2 strongly inhibited protein synthesis at concentrations similar to the pppA(pA) 2 trimer, no effect was observed for the NAD + and ADP-ribose derivatives. The (A5′)p 4 (5′A)-pA(pA) 2 could also activate RNase L in a rabbit reticulocyte lysate, which was not the case for the other derivatives. Conversion of the (A5′)p 4 (5′A)-pA(pA) 2 conjugate to the pppA(pA) 2 trimer was proposed as a possible way for activation of RNase L in the lysate, thereby also explaining the observation of inhibition of protein synthesis. Whether this is true, or the (A5′)p 4 (5′A)-pA(pA) 2 conjugate inhibited protein synthesis by another mechanism, was not determined. Importantly, neither of the conjugates were detected naturally in mouse L cells even after IFNstimulation and virus infection. This suggests that these conjugates may have functions not related to the 2-5A system and might be triggered by other stimuli.Enzyme measurements of 2-5A nucleases have mainly relied on short substrates unable to activate RNase L, which requires oligoadenylates of trimer length and above [18, [40] [41] [42] [43] [44] . We used oligoadenylates of tetramer length and above in our assays, thereby increasing the significance with regard to the 2-5A system. Furthermore, the assay was optimized to resolve all the reactants and products by anion-exchange chromatography, which allows the direct usage of the peak integrals for calculation of enzyme activities. The activities measured for purified human PDE12ΔmTP-His and PDE12ΔmTP-His in HeLa cell protein extracts are listed in Table 1 . The specific enzyme activity of PDE12 has previously been determined [41, 50] . The mouse enzyme was found to exhibit a specific activity of~20*10 −3 mmole/(sec*g) of 5′-AMP using the ApA dimer as substrate, and the bovine enzyme an activity of~0.02*10 −3 mmole/(sec*g) of 5′-AMP using the A(pA) 2 trimer as substrate. Our values are very close to that of the mouse enzyme however differ with one to three orders of magnitude from the bovine enzyme. The fact that PDE12 is conserved throughout the mammalian lineage (e.g. human and bovine proteins share 92 % similarity at the amino acid level), immediately suggests that assay-dependent factors and not variation in protein sequence may have caused the observed difference [18] . For instance, the purified bovine sample appeared very crude as analyzed by SDS-PAGE silver staining, whereas ours was nearly free of contaminants. Accordingly, such presence of contaminants would inevitable lower the overall enzyme activities by a factor proportional to the amount of impurities versus PDE12 protein in the sample.The described procedure has been used for isolation of 2-5As and 2-5A core molecules up to and above decamer length. We obtained 17.2, 15.5 and 11.3 mg of the A(pA) 3 tetramer core, A(pA) 4 pentamer core and A(pA) 5 hexamer core starting from a 100 mL reaction volume, corresponding to 10.1, 9.1 and 6.6 mg of oligoadenylate synthesized per mg of human His-OAS1 used, respectively. In comparison, Morin et al. [34] obtained 0.27, 1.01, 0.43, 0.09 and 0.01 mg of the pppA(pA) dimer, pppA(pA) 2 trimer, pppA(pA) 3 tetramer, pppA(pA) 4 pentamer and pppA(pA) 5 hexamer in their HPLC-based method starting from a 1 mL reaction volume, respectively. The porcine OAS1 used by them exhibited a conversion rate of 33.5, 124.9, 53.5, 10.7 and 1.4 mg of oligoadenylate production per mg OAS1, respectively. Our enzyme produced higher yields of the longer oligomers (6.6 mg vs. 1.4 mg pr mg enzyme of hexamers), whereas the enzymes used by Morin et al. produced higher yields of the smaller oligomers (53.5 mg vs. 17.2 mg pr. mg enzyme of tetramers). Nevertheless, the total yields obtained by us are at least an order of magnitude higher, which can be ascribed to the large difference in reaction volume, i.e. 1 mL in Morin et al. [34] versus 100 mL in our case. The larger reaction volume are practical only because of the ion-exchange procedure used, where in practice, no limits exist for the sample injection volume.In Poulsen et al. [23] , we described a model accounting for activation and deactivation of the 2-5A system following viral exposure based on tight regulation of 2-5As. The OASs are induced and activated by IFNs leading to nanomolar levels of 2-5As, which activate RNase L. Unknown 5′-phosphatases convert cytotoxic 2-5As to less cytotoxic 2-5A core molecules simultaneously with viral RNA degradation by 2-5A-activated RNase L. The 2-5A core molecules finally accumulate to micromolar levels for transportation (or diffusion) by a yet to be defined mechanism to the mitochondrial matrix for degradation by PDE12. With the recent discovery of novel cellular nucleases (ENPP1 and AKAP7) as well as virally encoded nucleases (ns2 and VP3), this process however might prove to be more complex than hitherto expected (readers are referred to a recent review by Silverman et al. [51] ). Despite PDE12, ENPP1 and AKAP7 degrades 2′-5′ oligoadenylates in vitro their importance during viral infection, has yet to be reported. Consequently, wide uncertainty exists as to i) which enzymes take part in 2-5A degradation in cells, ii) what are the contribution offered by each of the enzymes to the process, iii) do the enzymes have a preferred cellular substrate and iv) what are the interplay between cellular and viral nucleases during infection. The 2-5A nuclease assay demonstrated here is suitable for identification and characterization of enzyme candidates involved in the cellular degradation of 2′-5′ oligoadenylates. The preferred substrates of the enzymes, i.e. 2-5As versus 2-5A core molecules can also be deduced to hypothesize the exact cellular role of the proteins in question. The assay should also work for exploration of putative 5′-phosphatases converting 2-5As to 2-5A core molecules using a 2-5A molecule as substrate. 2-5As and 2-5A core molecules are easily resolved by ion-exchange chromatography, making this assay straightforward.The single-product dATP/A(pA) 3 assay can be used to precisely map and characterize the activities of the individual OAS isoforms. Based on cellular localization, one could then assign distinct roles to the individual forms in the pathway. The single-product dNTP/NAD + assay (or modifications hereof ) could be used to more broadly address properties of enzymes exhibiting 2′-5′-nucleotidyl transferase activity. Although the 2-5A system has only been described in vertebrates, orthologues of OAS exist throughout the evolutionary tree of life [38, 52] . These enzymes might be expected to fulfill other cellular roles from that of the 2-5A system. This is in line with the diverse substrate specificity identified for the mammalian OASs, which may be a reminiscence of the evolutionary past [15] .Here we have described some enzyme assays suitable for identification and characterization of the synthetases and nucleases regulating cellular 2-5A levels. The assays might help take our understanding of the 2-5A system one step further, by serving as a platform upon which new discoveries can be made.In this paper, we have described assays for the synthetases and nucleases regulating cellular 2-5A levels including a procedure to obtain high levels of individual 2-5As and 2-5A core molecules. The synthetase assays were designed to produce a single reaction product only, allowing for precise kinetic assessment of the enzymes. Contrary, the nuclease assays produced a mixture of 2-5A molecules, which were resolved by chromatography. Our assays are well-suited for scientists aiming to identify and characterize the synthetases and nucleases regulating cellular 2-5A levels, but can also be used to address a broader cellular role of the enzymes by means of alternative substrates like dNTP and NAD + .Additional file 1: Figure S1 . OAS1 and PDE12 recombinant proteins. Analysis of purified recombinant proteins by SDS-PAGE and Coomassie Blue staining.OASs: 2′-5′ oligoadenylate synthetases; PDE12: Phosphodiesterase 12; 2-5As: 5′triphosphorylated, 2′-5′-linked oligoadenylate polyribonucleotides; 2-5A core molecules: 5′-dephosphorylated forms of 2-5As; ENPP1: Ectonucleotide pyrophosphatase/phosphodiesterase 1; AKAP7: A-kinase anchoring protein 7; NAD + : Nicotinamide adenine dinucleotide.The authors declare that they have no competing interests.\""
            ]
          },
          "metadata": {
            "tags": []
          },
          "execution_count": 20
        }
      ]
    },
    {
      "cell_type": "markdown",
      "metadata": {
        "id": "1pfBv8XKm2Ds",
        "colab_type": "text"
      },
      "source": [
        "**K2 BREAKS IT INTO SENTENCES**"
      ]
    },
    {
      "cell_type": "code",
      "metadata": {
        "id": "UB-j5IZFtxzv",
        "colab_type": "code",
        "colab": {}
      },
      "source": [
        "k2=k.split('. ')"
      ],
      "execution_count": 0,
      "outputs": []
    },
    {
      "cell_type": "code",
      "metadata": {
        "id": "4Rx-NxkDgjVT",
        "colab_type": "code",
        "colab": {}
      },
      "source": [
        "#k2"
      ],
      "execution_count": 0,
      "outputs": []
    },
    {
      "cell_type": "code",
      "metadata": {
        "id": "t1puOJT0eDQb",
        "colab_type": "code",
        "colab": {}
      },
      "source": [
        "df_k2=pd.DataFrame(data=k2)"
      ],
      "execution_count": 0,
      "outputs": []
    },
    {
      "cell_type": "code",
      "metadata": {
        "id": "bzTGNXNeed40",
        "colab_type": "code",
        "colab": {}
      },
      "source": [
        "df_k2.columns=['text']"
      ],
      "execution_count": 0,
      "outputs": []
    },
    {
      "cell_type": "code",
      "metadata": {
        "id": "DAhB8LR5che3",
        "colab_type": "code",
        "outputId": "0053ae9f-257e-4fd6-f61e-6dc9617f7616",
        "colab": {
          "base_uri": "https://localhost:8080/",
          "height": 35
        }
      },
      "source": [
        "df_k2.shape"
      ],
      "execution_count": 25,
      "outputs": [
        {
          "output_type": "execute_result",
          "data": {
            "text/plain": [
              "(287, 1)"
            ]
          },
          "metadata": {
            "tags": []
          },
          "execution_count": 25
        }
      ]
    },
    {
      "cell_type": "markdown",
      "metadata": {
        "id": "OzkZEcctnAxs",
        "colab_type": "text"
      },
      "source": [
        "**COUNT VECTORIZE**"
      ]
    },
    {
      "cell_type": "code",
      "metadata": {
        "id": "W8iPpt8mOauq",
        "colab_type": "code",
        "colab": {}
      },
      "source": [
        "# Create the Document Term Matrix\n",
        "count_vectorizer = CountVectorizer(stop_words='english')\n",
        "count_vectorizer = CountVectorizer()\n",
        "sparse_matrix = count_vectorizer.fit_transform(df_k2)"
      ],
      "execution_count": 0,
      "outputs": []
    },
    {
      "cell_type": "code",
      "metadata": {
        "id": "jSgQtsppPl1I",
        "colab_type": "code",
        "colab": {}
      },
      "source": [
        "count_vectorizer = CountVectorizer()\n",
        "countx = count_vectorizer.fit_transform(df_k2.text)"
      ],
      "execution_count": 0,
      "outputs": []
    },
    {
      "cell_type": "code",
      "metadata": {
        "id": "X9UtRORIkRAu",
        "colab_type": "code",
        "outputId": "206c22f8-ceb6-499c-bbb0-09511bd64e08",
        "colab": {
          "base_uri": "https://localhost:8080/",
          "height": 52
        }
      },
      "source": [
        "countx"
      ],
      "execution_count": 28,
      "outputs": [
        {
          "output_type": "execute_result",
          "data": {
            "text/plain": [
              "<287x1406 sparse matrix of type '<class 'numpy.int64'>'\n",
              "\twith 5917 stored elements in Compressed Sparse Row format>"
            ]
          },
          "metadata": {
            "tags": []
          },
          "execution_count": 28
        }
      ]
    },
    {
      "cell_type": "markdown",
      "metadata": {
        "id": "o_Oz3jblnNfB",
        "colab_type": "text"
      },
      "source": [
        "**THREW DIMENSIONALITY REDUCTION IN HERE**"
      ]
    },
    {
      "cell_type": "code",
      "metadata": {
        "id": "m3M4pYyIhmtU",
        "colab_type": "code",
        "colab": {}
      },
      "source": [
        "embedding = umap.UMAP(n_components=2, metric='euclidean').fit(countx)"
      ],
      "execution_count": 0,
      "outputs": []
    },
    {
      "cell_type": "code",
      "metadata": {
        "id": "JvBA0fgTiPs6",
        "colab_type": "code",
        "outputId": "397ba8e8-076d-4a81-e4ad-c5359090f213",
        "colab": {
          "base_uri": "https://localhost:8080/",
          "height": 156
        }
      },
      "source": [
        "embedding"
      ],
      "execution_count": 0,
      "outputs": [
        {
          "output_type": "execute_result",
          "data": {
            "text/plain": [
              "UMAP(a=None, angular_rp_forest=False, b=None, init='spectral',\n",
              "     learning_rate=1.0, local_connectivity=1.0, metric='euclidean',\n",
              "     metric_kwds=None, min_dist=0.1, n_components=2, n_epochs=None,\n",
              "     n_neighbors=15, negative_sample_rate=5, random_state=None,\n",
              "     repulsion_strength=1.0, set_op_mix_ratio=1.0, spread=1.0,\n",
              "     target_metric='categorical', target_metric_kwds=None,\n",
              "     target_n_neighbors=-1, target_weight=0.5, transform_queue_size=4.0,\n",
              "     transform_seed=42, verbose=False)"
            ]
          },
          "metadata": {
            "tags": []
          },
          "execution_count": 547
        }
      ]
    },
    {
      "cell_type": "code",
      "metadata": {
        "id": "FqTQBeQei3xr",
        "colab_type": "code",
        "outputId": "96128404-9d23-483f-ff1e-0591a249bfff",
        "colab": {
          "base_uri": "https://localhost:8080/",
          "height": 35
        }
      },
      "source": [
        "type(embedding)"
      ],
      "execution_count": 32,
      "outputs": [
        {
          "output_type": "execute_result",
          "data": {
            "text/plain": [
              "umap.umap_.UMAP"
            ]
          },
          "metadata": {
            "tags": []
          },
          "execution_count": 32
        }
      ]
    },
    {
      "cell_type": "markdown",
      "metadata": {
        "id": "eNR4oIzjjTKp",
        "colab_type": "text"
      },
      "source": [
        "clusterer = hdbscan.HDBSCAN()"
      ]
    },
    {
      "cell_type": "code",
      "metadata": {
        "id": "SoZbQE4TnVIx",
        "colab_type": "code",
        "colab": {}
      },
      "source": [
        "clusterer = hdbscan.HDBSCAN(min_cluster_size=20, gen_min_span_tree=True,prediction_data=True)"
      ],
      "execution_count": 0,
      "outputs": []
    },
    {
      "cell_type": "code",
      "metadata": {
        "id": "rmWTIakYjU4E",
        "colab_type": "code",
        "outputId": "b14a93ed-12bf-4d30-8cf7-67f14dc2b878",
        "colab": {
          "base_uri": "https://localhost:8080/",
          "height": 139
        }
      },
      "source": [
        "clusterer.fit(embedding.embedding_)"
      ],
      "execution_count": 71,
      "outputs": [
        {
          "output_type": "execute_result",
          "data": {
            "text/plain": [
              "HDBSCAN(algorithm='best', allow_single_cluster=False, alpha=1.0,\n",
              "        approx_min_span_tree=True, cluster_selection_epsilon=0.0,\n",
              "        cluster_selection_method='eom', core_dist_n_jobs=4,\n",
              "        gen_min_span_tree=True, leaf_size=40,\n",
              "        match_reference_implementation=False, memory=Memory(location=None),\n",
              "        metric='euclidean', min_cluster_size=20, min_samples=None, p=None,\n",
              "        prediction_data=True)"
            ]
          },
          "metadata": {
            "tags": []
          },
          "execution_count": 71
        }
      ]
    },
    {
      "cell_type": "markdown",
      "metadata": {
        "id": "-PdEyOkap-XU",
        "colab_type": "text"
      },
      "source": [
        "**IT ONLY FOUND TWO CLUSTERS**"
      ]
    },
    {
      "cell_type": "code",
      "metadata": {
        "id": "Tk6d3WKt5xYb",
        "colab_type": "code",
        "colab": {
          "base_uri": "https://localhost:8080/",
          "height": 35
        },
        "outputId": "3f3632b1-f633-4371-89b6-e6ec2198e74a"
      },
      "source": [
        "clusterer.labels_.max()"
      ],
      "execution_count": 72,
      "outputs": [
        {
          "output_type": "execute_result",
          "data": {
            "text/plain": [
              "1"
            ]
          },
          "metadata": {
            "tags": []
          },
          "execution_count": 72
        }
      ]
    },
    {
      "cell_type": "code",
      "metadata": {
        "id": "Cpe7a8IblQvZ",
        "colab_type": "code",
        "outputId": "afd81d57-0619-4353-fc1d-ca43bf9900fc",
        "colab": {
          "base_uri": "https://localhost:8080/",
          "height": 283
        }
      },
      "source": [
        "palette = sns.color_palette()\n",
        "cluster_colors = [sns.desaturate(palette[col], sat)\n",
        "                  if col >= 0 else (0.5, 0.5, 0.5) for col, sat in\n",
        "                  zip(clusterer.labels_, clusterer.probabilities_)]\n",
        "plt.scatter(embedding.embedding_.T[0],embedding.embedding_.T[1], c=cluster_colors)"
      ],
      "execution_count": 73,
      "outputs": [
        {
          "output_type": "execute_result",
          "data": {
            "text/plain": [
              "<matplotlib.collections.PathCollection at 0x7f834b653c18>"
            ]
          },
          "metadata": {
            "tags": []
          },
          "execution_count": 73
        },
        {
          "output_type": "display_data",
          "data": {
            "image/png": "[encoded data removed]",
            "text/plain": [
              "<Figure size 432x288 with 1 Axes>"
            ]
          },
          "metadata": {
            "tags": [],
            "needs_background": "light"
          }
        }
      ]
    },
    {
      "cell_type": "code",
      "metadata": {
        "id": "i_JRWt7ipxxF",
        "colab_type": "code",
        "outputId": "0647b59d-89bf-4468-da74-b9d550f2af27",
        "colab": {
          "base_uri": "https://localhost:8080/",
          "height": 283
        }
      },
      "source": [
        "sns.distplot(clusterer.outlier_scores_[np.isfinite(clusterer.outlier_scores_)], rug=True)"
      ],
      "execution_count": 74,
      "outputs": [
        {
          "output_type": "execute_result",
          "data": {
            "text/plain": [
              "<matplotlib.axes._subplots.AxesSubplot at 0x7f8349bff908>"
            ]
          },
          "metadata": {
            "tags": []
          },
          "execution_count": 74
        },
        {
          "output_type": "display_data",
          "data": {
            "image/png": "[encoded data removed]",
            "text/plain": [
              "<Figure size 432x288 with 1 Axes>"
            ]
          },
          "metadata": {
            "tags": [],
            "needs_background": "light"
          }
        }
      ]
    },
    {
      "cell_type": "markdown",
      "metadata": {
        "id": "ICEpgYz9pkgm",
        "colab_type": "text"
      },
      "source": [
        "**RED DOTS ARE OUTLIERS**"
      ]
    },
    {
      "cell_type": "code",
      "metadata": {
        "id": "ycE1ExBMph3M",
        "colab_type": "code",
        "outputId": "fa51aec3-46a5-4082-891e-eee496230aa8",
        "colab": {
          "base_uri": "https://localhost:8080/",
          "height": 283
        }
      },
      "source": [
        "threshold = pd.Series(clusterer.outlier_scores_).quantile(0.9)\n",
        "outliers = np.where(clusterer.outlier_scores_ > threshold)[0]\n",
        "plt.scatter(*embedding.embedding_.T, s=50, linewidth=0, c='gray', alpha=0.25)\n",
        "plt.scatter(*embedding.embedding_[outliers].T, s=50, linewidth=0, c='red', alpha=0.5)"
      ],
      "execution_count": 75,
      "outputs": [
        {
          "output_type": "execute_result",
          "data": {
            "text/plain": [
              "<matplotlib.collections.PathCollection at 0x7f8348b0f0f0>"
            ]
          },
          "metadata": {
            "tags": []
          },
          "execution_count": 75
        },
        {
          "output_type": "display_data",
          "data": {
            "image/png": "[encoded data removed]",
            "text/plain": [
              "<Figure size 432x288 with 1 Axes>"
            ]
          },
          "metadata": {
            "tags": [],
            "needs_background": "light"
          }
        }
      ]
    },
    {
      "cell_type": "code",
      "metadata": {
        "id": "GNn9JmuFlrS6",
        "colab_type": "code",
        "outputId": "e2d84428-ac69-456e-ebff-d990b3045d00",
        "colab": {
          "base_uri": "https://localhost:8080/",
          "height": 265
        }
      },
      "source": [
        "f = plt.hist(embedding.embedding_)"
      ],
      "execution_count": 76,
      "outputs": [
        {
          "output_type": "display_data",
          "data": {
            "image/png": "[encoded data removed]",
            "text/plain": [
              "<Figure size 432x288 with 1 Axes>"
            ]
          },
          "metadata": {
            "tags": [],
            "needs_background": "light"
          }
        }
      ]
    },
    {
      "cell_type": "markdown",
      "metadata": {
        "id": "WRteF85xuANB",
        "colab_type": "text"
      },
      "source": [
        "**BACK TO COUNT VECTORIZE**"
      ]
    },
    {
      "cell_type": "code",
      "metadata": {
        "id": "Vbd3RhVhP9Vd",
        "colab_type": "code",
        "outputId": "0e262799-968b-4997-bc02-230be0719765",
        "colab": {
          "base_uri": "https://localhost:8080/",
          "height": 52
        }
      },
      "source": [
        "countx"
      ],
      "execution_count": 77,
      "outputs": [
        {
          "output_type": "execute_result",
          "data": {
            "text/plain": [
              "<287x1406 sparse matrix of type '<class 'numpy.int64'>'\n",
              "\twith 5917 stored elements in Compressed Sparse Row format>"
            ]
          },
          "metadata": {
            "tags": []
          },
          "execution_count": 77
        }
      ]
    },
    {
      "cell_type": "code",
      "metadata": {
        "id": "EgxuZvo0QFMc",
        "colab_type": "code",
        "colab": {}
      },
      "source": [
        "doc_term_matrix = countx.todense()\n",
        "df = pd.DataFrame(doc_term_matrix)"
      ],
      "execution_count": 0,
      "outputs": []
    },
    {
      "cell_type": "code",
      "metadata": {
        "id": "IH1_Il1VQMa_",
        "colab_type": "code",
        "outputId": "6dbb1cb2-6d3b-45d8-ea5f-63e680fbcaff",
        "colab": {
          "base_uri": "https://localhost:8080/",
          "height": 251
        }
      },
      "source": [
        "df.head()"
      ],
      "execution_count": 79,
      "outputs": [
        {
          "output_type": "execute_result",
          "data": {
            "text/html": [
              "<div>\n",
              "<style scoped>\n",
              "    .dataframe tbody tr th:only-of-type {\n",
              "        vertical-align: middle;\n",
              "    }\n",
              "\n",
              "    .dataframe tbody tr th {\n",
              "        vertical-align: top;\n",
              "    }\n",
              "\n",
              "    .dataframe thead th {\n",
              "        text-align: right;\n",
              "    }\n",
              "</style>\n",
              "<table border=\"1\" class=\"dataframe\">\n",
              "  <thead>\n",
              "    <tr style=\"text-align: right;\">\n",
              "      <th></th>\n",
              "      <th>0</th>\n",
              "      <th>1</th>\n",
              "      <th>2</th>\n",
              "      <th>3</th>\n",
              "      <th>4</th>\n",
              "      <th>5</th>\n",
              "      <th>6</th>\n",
              "      <th>7</th>\n",
              "      <th>8</th>\n",
              "      <th>9</th>\n",
              "      <th>10</th>\n",
              "      <th>11</th>\n",
              "      <th>12</th>\n",
              "      <th>13</th>\n",
              "      <th>14</th>\n",
              "      <th>15</th>\n",
              "      <th>16</th>\n",
              "      <th>17</th>\n",
              "      <th>18</th>\n",
              "      <th>19</th>\n",
              "      <th>20</th>\n",
              "      <th>21</th>\n",
              "      <th>22</th>\n",
              "      <th>23</th>\n",
              "      <th>24</th>\n",
              "      <th>25</th>\n",
              "      <th>26</th>\n",
              "      <th>27</th>\n",
              "      <th>28</th>\n",
              "      <th>29</th>\n",
              "      <th>30</th>\n",
              "      <th>31</th>\n",
              "      <th>32</th>\n",
              "      <th>33</th>\n",
              "      <th>34</th>\n",
              "      <th>35</th>\n",
              "      <th>36</th>\n",
              "      <th>37</th>\n",
              "      <th>38</th>\n",
              "      <th>39</th>\n",
              "      <th>...</th>\n",
              "      <th>1366</th>\n",
              "      <th>1367</th>\n",
              "      <th>1368</th>\n",
              "      <th>1369</th>\n",
              "      <th>1370</th>\n",
              "      <th>1371</th>\n",
              "      <th>1372</th>\n",
              "      <th>1373</th>\n",
              "      <th>1374</th>\n",
              "      <th>1375</th>\n",
              "      <th>1376</th>\n",
              "      <th>1377</th>\n",
              "      <th>1378</th>\n",
              "      <th>1379</th>\n",
              "      <th>1380</th>\n",
              "      <th>1381</th>\n",
              "      <th>1382</th>\n",
              "      <th>1383</th>\n",
              "      <th>1384</th>\n",
              "      <th>1385</th>\n",
              "      <th>1386</th>\n",
              "      <th>1387</th>\n",
              "      <th>1388</th>\n",
              "      <th>1389</th>\n",
              "      <th>1390</th>\n",
              "      <th>1391</th>\n",
              "      <th>1392</th>\n",
              "      <th>1393</th>\n",
              "      <th>1394</th>\n",
              "      <th>1395</th>\n",
              "      <th>1396</th>\n",
              "      <th>1397</th>\n",
              "      <th>1398</th>\n",
              "      <th>1399</th>\n",
              "      <th>1400</th>\n",
              "      <th>1401</th>\n",
              "      <th>1402</th>\n",
              "      <th>1403</th>\n",
              "      <th>1404</th>\n",
              "      <th>1405</th>\n",
              "    </tr>\n",
              "  </thead>\n",
              "  <tbody>\n",
              "    <tr>\n",
              "      <th>0</th>\n",
              "      <td>0</td>\n",
              "      <td>0</td>\n",
              "      <td>0</td>\n",
              "      <td>0</td>\n",
              "      <td>0</td>\n",
              "      <td>0</td>\n",
              "      <td>0</td>\n",
              "      <td>0</td>\n",
              "      <td>0</td>\n",
              "      <td>0</td>\n",
              "      <td>0</td>\n",
              "      <td>0</td>\n",
              "      <td>0</td>\n",
              "      <td>0</td>\n",
              "      <td>0</td>\n",
              "      <td>0</td>\n",
              "      <td>0</td>\n",
              "      <td>0</td>\n",
              "      <td>0</td>\n",
              "      <td>0</td>\n",
              "      <td>0</td>\n",
              "      <td>0</td>\n",
              "      <td>0</td>\n",
              "      <td>0</td>\n",
              "      <td>0</td>\n",
              "      <td>0</td>\n",
              "      <td>0</td>\n",
              "      <td>0</td>\n",
              "      <td>0</td>\n",
              "      <td>0</td>\n",
              "      <td>0</td>\n",
              "      <td>0</td>\n",
              "      <td>0</td>\n",
              "      <td>0</td>\n",
              "      <td>0</td>\n",
              "      <td>0</td>\n",
              "      <td>0</td>\n",
              "      <td>0</td>\n",
              "      <td>0</td>\n",
              "      <td>0</td>\n",
              "      <td>...</td>\n",
              "      <td>0</td>\n",
              "      <td>0</td>\n",
              "      <td>0</td>\n",
              "      <td>0</td>\n",
              "      <td>0</td>\n",
              "      <td>0</td>\n",
              "      <td>0</td>\n",
              "      <td>0</td>\n",
              "      <td>0</td>\n",
              "      <td>0</td>\n",
              "      <td>0</td>\n",
              "      <td>0</td>\n",
              "      <td>0</td>\n",
              "      <td>0</td>\n",
              "      <td>0</td>\n",
              "      <td>0</td>\n",
              "      <td>0</td>\n",
              "      <td>0</td>\n",
              "      <td>0</td>\n",
              "      <td>0</td>\n",
              "      <td>0</td>\n",
              "      <td>0</td>\n",
              "      <td>1</td>\n",
              "      <td>0</td>\n",
              "      <td>0</td>\n",
              "      <td>0</td>\n",
              "      <td>0</td>\n",
              "      <td>0</td>\n",
              "      <td>0</td>\n",
              "      <td>0</td>\n",
              "      <td>0</td>\n",
              "      <td>0</td>\n",
              "      <td>0</td>\n",
              "      <td>0</td>\n",
              "      <td>0</td>\n",
              "      <td>0</td>\n",
              "      <td>0</td>\n",
              "      <td>0</td>\n",
              "      <td>0</td>\n",
              "      <td>0</td>\n",
              "    </tr>\n",
              "    <tr>\n",
              "      <th>1</th>\n",
              "      <td>0</td>\n",
              "      <td>0</td>\n",
              "      <td>0</td>\n",
              "      <td>0</td>\n",
              "      <td>0</td>\n",
              "      <td>0</td>\n",
              "      <td>0</td>\n",
              "      <td>0</td>\n",
              "      <td>0</td>\n",
              "      <td>0</td>\n",
              "      <td>0</td>\n",
              "      <td>0</td>\n",
              "      <td>0</td>\n",
              "      <td>0</td>\n",
              "      <td>0</td>\n",
              "      <td>0</td>\n",
              "      <td>0</td>\n",
              "      <td>0</td>\n",
              "      <td>0</td>\n",
              "      <td>0</td>\n",
              "      <td>0</td>\n",
              "      <td>0</td>\n",
              "      <td>0</td>\n",
              "      <td>0</td>\n",
              "      <td>0</td>\n",
              "      <td>0</td>\n",
              "      <td>0</td>\n",
              "      <td>0</td>\n",
              "      <td>0</td>\n",
              "      <td>0</td>\n",
              "      <td>0</td>\n",
              "      <td>0</td>\n",
              "      <td>0</td>\n",
              "      <td>0</td>\n",
              "      <td>0</td>\n",
              "      <td>0</td>\n",
              "      <td>0</td>\n",
              "      <td>0</td>\n",
              "      <td>0</td>\n",
              "      <td>0</td>\n",
              "      <td>...</td>\n",
              "      <td>0</td>\n",
              "      <td>0</td>\n",
              "      <td>0</td>\n",
              "      <td>0</td>\n",
              "      <td>0</td>\n",
              "      <td>0</td>\n",
              "      <td>0</td>\n",
              "      <td>0</td>\n",
              "      <td>0</td>\n",
              "      <td>0</td>\n",
              "      <td>0</td>\n",
              "      <td>0</td>\n",
              "      <td>0</td>\n",
              "      <td>0</td>\n",
              "      <td>0</td>\n",
              "      <td>0</td>\n",
              "      <td>0</td>\n",
              "      <td>0</td>\n",
              "      <td>0</td>\n",
              "      <td>0</td>\n",
              "      <td>0</td>\n",
              "      <td>0</td>\n",
              "      <td>0</td>\n",
              "      <td>0</td>\n",
              "      <td>0</td>\n",
              "      <td>0</td>\n",
              "      <td>0</td>\n",
              "      <td>0</td>\n",
              "      <td>0</td>\n",
              "      <td>0</td>\n",
              "      <td>0</td>\n",
              "      <td>0</td>\n",
              "      <td>0</td>\n",
              "      <td>0</td>\n",
              "      <td>0</td>\n",
              "      <td>0</td>\n",
              "      <td>0</td>\n",
              "      <td>0</td>\n",
              "      <td>0</td>\n",
              "      <td>0</td>\n",
              "    </tr>\n",
              "    <tr>\n",
              "      <th>2</th>\n",
              "      <td>0</td>\n",
              "      <td>0</td>\n",
              "      <td>0</td>\n",
              "      <td>0</td>\n",
              "      <td>0</td>\n",
              "      <td>0</td>\n",
              "      <td>0</td>\n",
              "      <td>0</td>\n",
              "      <td>0</td>\n",
              "      <td>0</td>\n",
              "      <td>0</td>\n",
              "      <td>0</td>\n",
              "      <td>0</td>\n",
              "      <td>0</td>\n",
              "      <td>0</td>\n",
              "      <td>0</td>\n",
              "      <td>0</td>\n",
              "      <td>0</td>\n",
              "      <td>0</td>\n",
              "      <td>0</td>\n",
              "      <td>0</td>\n",
              "      <td>0</td>\n",
              "      <td>0</td>\n",
              "      <td>0</td>\n",
              "      <td>0</td>\n",
              "      <td>0</td>\n",
              "      <td>0</td>\n",
              "      <td>0</td>\n",
              "      <td>0</td>\n",
              "      <td>0</td>\n",
              "      <td>0</td>\n",
              "      <td>0</td>\n",
              "      <td>0</td>\n",
              "      <td>0</td>\n",
              "      <td>0</td>\n",
              "      <td>0</td>\n",
              "      <td>0</td>\n",
              "      <td>0</td>\n",
              "      <td>0</td>\n",
              "      <td>0</td>\n",
              "      <td>...</td>\n",
              "      <td>0</td>\n",
              "      <td>0</td>\n",
              "      <td>0</td>\n",
              "      <td>0</td>\n",
              "      <td>0</td>\n",
              "      <td>0</td>\n",
              "      <td>0</td>\n",
              "      <td>0</td>\n",
              "      <td>0</td>\n",
              "      <td>0</td>\n",
              "      <td>0</td>\n",
              "      <td>0</td>\n",
              "      <td>0</td>\n",
              "      <td>0</td>\n",
              "      <td>0</td>\n",
              "      <td>0</td>\n",
              "      <td>0</td>\n",
              "      <td>0</td>\n",
              "      <td>0</td>\n",
              "      <td>0</td>\n",
              "      <td>0</td>\n",
              "      <td>0</td>\n",
              "      <td>0</td>\n",
              "      <td>0</td>\n",
              "      <td>0</td>\n",
              "      <td>1</td>\n",
              "      <td>0</td>\n",
              "      <td>0</td>\n",
              "      <td>0</td>\n",
              "      <td>0</td>\n",
              "      <td>0</td>\n",
              "      <td>0</td>\n",
              "      <td>0</td>\n",
              "      <td>0</td>\n",
              "      <td>0</td>\n",
              "      <td>0</td>\n",
              "      <td>0</td>\n",
              "      <td>0</td>\n",
              "      <td>0</td>\n",
              "      <td>0</td>\n",
              "    </tr>\n",
              "    <tr>\n",
              "      <th>3</th>\n",
              "      <td>0</td>\n",
              "      <td>0</td>\n",
              "      <td>0</td>\n",
              "      <td>0</td>\n",
              "      <td>0</td>\n",
              "      <td>0</td>\n",
              "      <td>0</td>\n",
              "      <td>0</td>\n",
              "      <td>0</td>\n",
              "      <td>0</td>\n",
              "      <td>0</td>\n",
              "      <td>0</td>\n",
              "      <td>0</td>\n",
              "      <td>0</td>\n",
              "      <td>0</td>\n",
              "      <td>0</td>\n",
              "      <td>0</td>\n",
              "      <td>0</td>\n",
              "      <td>0</td>\n",
              "      <td>0</td>\n",
              "      <td>0</td>\n",
              "      <td>0</td>\n",
              "      <td>0</td>\n",
              "      <td>0</td>\n",
              "      <td>0</td>\n",
              "      <td>0</td>\n",
              "      <td>0</td>\n",
              "      <td>0</td>\n",
              "      <td>0</td>\n",
              "      <td>0</td>\n",
              "      <td>0</td>\n",
              "      <td>0</td>\n",
              "      <td>0</td>\n",
              "      <td>0</td>\n",
              "      <td>0</td>\n",
              "      <td>0</td>\n",
              "      <td>0</td>\n",
              "      <td>0</td>\n",
              "      <td>0</td>\n",
              "      <td>0</td>\n",
              "      <td>...</td>\n",
              "      <td>0</td>\n",
              "      <td>0</td>\n",
              "      <td>0</td>\n",
              "      <td>0</td>\n",
              "      <td>0</td>\n",
              "      <td>0</td>\n",
              "      <td>0</td>\n",
              "      <td>0</td>\n",
              "      <td>0</td>\n",
              "      <td>0</td>\n",
              "      <td>0</td>\n",
              "      <td>0</td>\n",
              "      <td>0</td>\n",
              "      <td>0</td>\n",
              "      <td>0</td>\n",
              "      <td>0</td>\n",
              "      <td>0</td>\n",
              "      <td>0</td>\n",
              "      <td>0</td>\n",
              "      <td>0</td>\n",
              "      <td>0</td>\n",
              "      <td>0</td>\n",
              "      <td>0</td>\n",
              "      <td>0</td>\n",
              "      <td>0</td>\n",
              "      <td>0</td>\n",
              "      <td>0</td>\n",
              "      <td>0</td>\n",
              "      <td>0</td>\n",
              "      <td>0</td>\n",
              "      <td>0</td>\n",
              "      <td>0</td>\n",
              "      <td>0</td>\n",
              "      <td>0</td>\n",
              "      <td>0</td>\n",
              "      <td>0</td>\n",
              "      <td>0</td>\n",
              "      <td>0</td>\n",
              "      <td>0</td>\n",
              "      <td>0</td>\n",
              "    </tr>\n",
              "    <tr>\n",
              "      <th>4</th>\n",
              "      <td>0</td>\n",
              "      <td>0</td>\n",
              "      <td>0</td>\n",
              "      <td>0</td>\n",
              "      <td>0</td>\n",
              "      <td>0</td>\n",
              "      <td>0</td>\n",
              "      <td>0</td>\n",
              "      <td>0</td>\n",
              "      <td>0</td>\n",
              "      <td>0</td>\n",
              "      <td>0</td>\n",
              "      <td>0</td>\n",
              "      <td>0</td>\n",
              "      <td>0</td>\n",
              "      <td>0</td>\n",
              "      <td>0</td>\n",
              "      <td>0</td>\n",
              "      <td>0</td>\n",
              "      <td>0</td>\n",
              "      <td>0</td>\n",
              "      <td>0</td>\n",
              "      <td>0</td>\n",
              "      <td>0</td>\n",
              "      <td>0</td>\n",
              "      <td>0</td>\n",
              "      <td>0</td>\n",
              "      <td>0</td>\n",
              "      <td>0</td>\n",
              "      <td>0</td>\n",
              "      <td>0</td>\n",
              "      <td>0</td>\n",
              "      <td>0</td>\n",
              "      <td>0</td>\n",
              "      <td>0</td>\n",
              "      <td>0</td>\n",
              "      <td>0</td>\n",
              "      <td>0</td>\n",
              "      <td>0</td>\n",
              "      <td>0</td>\n",
              "      <td>...</td>\n",
              "      <td>0</td>\n",
              "      <td>0</td>\n",
              "      <td>0</td>\n",
              "      <td>0</td>\n",
              "      <td>0</td>\n",
              "      <td>0</td>\n",
              "      <td>0</td>\n",
              "      <td>0</td>\n",
              "      <td>0</td>\n",
              "      <td>0</td>\n",
              "      <td>0</td>\n",
              "      <td>0</td>\n",
              "      <td>0</td>\n",
              "      <td>0</td>\n",
              "      <td>0</td>\n",
              "      <td>0</td>\n",
              "      <td>0</td>\n",
              "      <td>0</td>\n",
              "      <td>0</td>\n",
              "      <td>0</td>\n",
              "      <td>0</td>\n",
              "      <td>0</td>\n",
              "      <td>0</td>\n",
              "      <td>0</td>\n",
              "      <td>0</td>\n",
              "      <td>0</td>\n",
              "      <td>0</td>\n",
              "      <td>0</td>\n",
              "      <td>0</td>\n",
              "      <td>0</td>\n",
              "      <td>0</td>\n",
              "      <td>0</td>\n",
              "      <td>0</td>\n",
              "      <td>0</td>\n",
              "      <td>0</td>\n",
              "      <td>0</td>\n",
              "      <td>0</td>\n",
              "      <td>0</td>\n",
              "      <td>0</td>\n",
              "      <td>0</td>\n",
              "    </tr>\n",
              "  </tbody>\n",
              "</table>\n",
              "<p>5 rows × 1406 columns</p>\n",
              "</div>"
            ],
            "text/plain": [
              "   0     1     2     3     4     5     ...  1400  1401  1402  1403  1404  1405\n",
              "0     0     0     0     0     0     0  ...     0     0     0     0     0     0\n",
              "1     0     0     0     0     0     0  ...     0     0     0     0     0     0\n",
              "2     0     0     0     0     0     0  ...     0     0     0     0     0     0\n",
              "3     0     0     0     0     0     0  ...     0     0     0     0     0     0\n",
              "4     0     0     0     0     0     0  ...     0     0     0     0     0     0\n",
              "\n",
              "[5 rows x 1406 columns]"
            ]
          },
          "metadata": {
            "tags": []
          },
          "execution_count": 79
        }
      ]
    },
    {
      "cell_type": "code",
      "metadata": {
        "id": "kBughlXvzttg",
        "colab_type": "code",
        "colab": {}
      },
      "source": [
        "import scipy.sparse\n",
        "import sympy\n",
        "import sklearn.datasets\n",
        "import sklearn.feature_extraction.text\n",
        "import umap\n",
        "\n",
        "#import umap.plot\n",
        "%matplotlib inline"
      ],
      "execution_count": 0,
      "outputs": []
    },
    {
      "cell_type": "code",
      "metadata": {
        "id": "05IIPuskSfau",
        "colab_type": "code",
        "colab": {}
      },
      "source": [
        "cs=cosine_similarity(df.values, df.values)"
      ],
      "execution_count": 0,
      "outputs": []
    },
    {
      "cell_type": "code",
      "metadata": {
        "id": "jvwb9MJJTJ9a",
        "colab_type": "code",
        "outputId": "13faacf4-026d-406d-b92d-d433f98317c2",
        "colab": {
          "base_uri": "https://localhost:8080/",
          "height": 35
        }
      },
      "source": [
        "cs.shape"
      ],
      "execution_count": 48,
      "outputs": [
        {
          "output_type": "execute_result",
          "data": {
            "text/plain": [
              "(287, 287)"
            ]
          },
          "metadata": {
            "tags": []
          },
          "execution_count": 48
        }
      ]
    },
    {
      "cell_type": "code",
      "metadata": {
        "id": "QEz5MHaPTWNH",
        "colab_type": "code",
        "colab": {}
      },
      "source": [
        " sentence_similarity_graph=nx.from_numpy_matrix(cs)\n",
        " scores = nx.pagerank(sentence_similarity_graph)"
      ],
      "execution_count": 0,
      "outputs": []
    },
    {
      "cell_type": "code",
      "metadata": {
        "id": "ZT4OCEy0wZ8E",
        "colab_type": "code",
        "colab": {}
      },
      "source": [
        "ranked_sentence = sorted(((scores[i],s) for i,s in enumerate(k2)), reverse=True)  "
      ],
      "execution_count": 0,
      "outputs": []
    },
    {
      "cell_type": "code",
      "metadata": {
        "id": "h2EtVPubTwcO",
        "colab_type": "code",
        "colab": {
          "base_uri": "https://localhost:8080/",
          "height": 107
        },
        "outputId": "e7ef6e1d-cb21-4821-f8b0-378cdfdefa68"
      },
      "source": [
        "  ranked_sentence = sorted(((scores[i],s) for i,s in enumerate(k2)), reverse=True)   \n",
        "  print(' ') \n",
        "  print(' ')\n",
        "  print('ranked sentences',ranked_sentence)\n",
        "  print(\"Indexes of top ranked_sentence order are \", ranked_sentence)    \n",
        "  #ranked_sentence"
      ],
      "execution_count": 51,
      "outputs": [
        {
          "output_type": "stream",
          "text": [
            " \n",
            " \n",
            "ranked sentences [(0.006336042112799102, 'The chromatograms were obtained using 254 nm as the absorbance wavelength.The enzyme activity reaction catalyzed by OAS can be formulated with the general formula below, in which S1 and S2 are the substrates and P the product formed: S1 þ S2 → P E, the specific activity of the enzyme (mole P generated per second per gram protein) can be calculated from the equation:[S2] start is the start conc of S2, V is the reaction volume, M is the amount of protein added and T is the reaction time.The reaction schemes for the two kinds of OAS activities measured in this paper are depicted in reaction 1 and reaction 2, respectively.In reaction 1, the specific activity of the OAS1 enzyme (E1(OAS1) with dATP and A(pA) 3 as substrates (S1 and S2, respectively) was calculated with the formula:The integral refers to the area under the individual peaks from the substrates and products in the chromatograms.Reaction 2: dNTP + NAD + → NAD − pdN In reaction 2, dNTP (dATP, dCTP, dGTP or TTP) and NAD + were used as substrates (S1 and S2, respectively) in reactions with the OAS1 enzyme'), (0.006155112816624812, 'The specific activity of PDE12 (mole 5′-AMP synthesized per second per gram of protein (mole AMP/(sec*g)) was calculated with the formula:Total 254nm refers to the sum of the integral of all peaks in a given chromatogram at 254 nm for a single reaction, [A(pA) n ] start is the start concentration of the substrate A(pA) n, V is the reaction volume, T the reaction time and M the amount of protein added.As an example, the tetramer core substrate would be expected to undergo cleavage into the following products using PDE12 as the enzyme:In the case of purified protein, the specific enzyme activity of PDE12, E(PDE12) could therefore be calculated using the formula:For reactions including crude protein extracts, the specific enzyme activities were calculated in mmole AMP/ (sec*g of total protein)'), (0.006041779593828575, 'Note that despite of binding dsRNA and ATP, the human OASL is catalytically inactive due to key mutations in the active site compared with the other OAS isoforms [13] .2-5A catalysis generally proceeds by hydrolysis of the phosphoanhydride linking the α and β phosphates of ATP when bound in the so-called donor-site of the enzymes resulting in pyrophosphate (PPi) and AMP, which is subsequently linked to the free 2′-OH group of a second ATP molecule or a 2-5A molecule placed in the acceptor-site of the enzymes [6] '), (0.005742492152628496, 'Accordingly, such presence of contaminants would inevitable lower the overall enzyme activities by a factor proportional to the amount of impurities versus PDE12 protein in the sample.The described procedure has been used for isolation of 2-5As and 2-5A core molecules up to and above decamer length'), (0.0057076409728675555, 'The individual 2-5As and 2-5A core molecules were subsequently concentrated in three steps, by a 10 fold dilution of the samples in running buffer to reduce the overall sodium chloride content, re-application of the molecules to the Mono Q column and elution by a step-gradient of 0.5 M sodium chloride'), (0.005625127031342624, 'The position of the reactants and product are indicated in the chromatograms'), (0.005613930896945075, 'This allows for a more precise kinetic assessment of the enzymes.In the first assay, the A(pA) 3 tetramer core and the deoxy-nucleotide dATP were used as substrates in formation of a pentameric product, A(pA) 3 pdA'), (0.005517098695872308, \"We calculated the specific enzyme activity of the human OAS1 p42 for production of A(pA) 3 pdA to be 1.1 mmole/(sec*g).We also made additional set-ups and optimized the assay using alternative 'acceptor' and 'donor' molecules as substrates for the OAS (Fig\"), (0.005396727614098469, 'This is in line with the diverse substrate specificity identified for the mammalian OASs, which may be a reminiscence of the evolutionary past [15] .Here we have described some enzyme assays suitable for identification and characterization of the synthetases and nucleases regulating cellular 2-5A levels'), (0.00539407326429082, 'The fact that all reactants and products are negatively charged at physiological pH allow for fractionation by anionexchange chromatography.For demonstrating the assay we incubated the purified human His-OAS1 with the substrates dATP and A(pA) 3 and allowed the reaction to proceed for 30 min'), (0.0053923830452485095, 'It was found that a mislocalized version of AKAP7 present in the cytoplasm could restore the infectivity of the mutant virus, which was not the case for the fulllength protein localized in the nucleus'), (0.005390462133595546, 'Furthermore, the assay was optimized to resolve all the reactants and products by anion-exchange chromatography, which allows the direct usage of the peak integrals for calculation of enzyme activities'), (0.005305724914543126, 'This is possible through use of a creatine kinase system applied in the reaction buffer, which continuously regenerates dATP from the dADP and dAMP inhibitors formed during the reaction.The OASs have been found to join a variety of oligoadenylates and derivatives in vitro'), (0.005294962940416714, 'Conversion of the (A5′)p 4 (5′A)-pA(pA) 2 conjugate to the pppA(pA) 2 trimer was proposed as a possible way for activation of RNase L in the lysate, thereby also explaining the observation of inhibition of protein synthesis'), (0.0052608402360202694, 'Here the extinction coefficients, ε (M −1 × cm −1 ) of the individual dNTPs at 254 nm were used in the calculation of the specific enzyme activities, i.e'), (0.005226615936334165, 'Of the three substrates utilized here: A(pA) 3 tetramer core, A(pA) 4 pentamer core and A(pA) 5 hexamer core, a total of 17.2, 15.5 and 11.3 mg were obtained corresponding to 10.1, 9.1 and 6.6 mg of oligoadenylate per mg human His-OAS1 used in the reaction, respectively.We have developed a number of OAS enzyme assays using the isolated oligoadenylates as well as NAD + as substrates'), (0.005215389218888252, 'The following general reaction scheme apply to the varied enzyme capabilities of the OASs: RpA + (d)NTP → PPi + RpA-(d)NMP in which the incorporation of AMP prompts for oligoadenylate synthesis by means of multiple 2′ elongation events (the other NMPs and dNMPs make up single incorporation events only).Due to low sequence specificity, RNase L degrades cellular RNA and prolonged activation results in an antiproliferative response leading to apoptosis [9] [10] [11] 16] '), (0.005193401347747445, 'The efficiency of the reaction was assessed by Q anion-exchange chromatography, and the resulting chromatogram can be seen in Fig'), (0.005171523264666222, 'The sample injection volume were~10 mL for each of the fractionations, therefore the method was repeated several times in order to obtain separation of the entire reaction volume of 200 mL'), (0.005129863902073473, 'The chromatograms were obtained with 254 nm as the absorbance wave-length.For the PDE12 activity assay the following reaction scheme was used:n ≥ 1 and m ≥ 0'), (0.005071038897955878, 'Consequently, wide uncertainty exists as to i) which enzymes take part in 2-5A degradation in cells, ii) what are the contribution offered by each of the enzymes to the process, iii) do the enzymes have a preferred cellular substrate and iv) what are the interplay between cellular and viral nucleases during infection'), (0.0050407962004708215, 'This assay is well-suited to assess the broader cellular role expected of the OASs, based on the very diverse substrate specificity in vitro.Human OAS1 p42 containing an N-terminal His-tag (His-OAS1) cloned in the pET9d bacterial expression vector was a kind gift from Kineta (formerly Illumigen Biosciences).The plasmid was transformed into the E.coli BL21 (DE3) strain and plated on selective LB agar (50 μg/mL ampicillin), followed by inoculation of single colonies to selective LB medium for incubation at 37°C for 16 h at 200 rpm'), (0.005011513378378448, 'mAU (milli-absorbance unit) is the unit used for molecular detection at 254 nm, and mS/cm (milliSiemens/centimeter) the unit used to measure conductivities before application of the experimental salt gradient used for separation, but after the void volume of the column'), (0.004994752003288784, 'The mouse enzyme was found to exhibit a specific activity of~20*10 −3 mmole/(sec*g) of 5′-AMP using the ApA dimer as substrate, and the bovine enzyme an activity of~0.02*10 −3 mmole/(sec*g) of 5′-AMP using the A(pA) 2 trimer as substrate'), (0.0049860346816323715, '2-5As and 2-5A core molecules are easily resolved by ion-exchange chromatography, making this assay straightforward.The single-product dATP/A(pA) 3 assay can be used to precisely map and characterize the activities of the individual OAS isoforms'), (0.0049830576801931075, '2-5As are mainly produced in the cytosol (and to some extend in the nucleus), which is also the site of viral replication [26] [27] [28] [29] '), (0.004965815915479517, 'In this figure two chromatograms have been superimposed, the 2-5A reaction mix (blue curve) and the control molecules (red curve): adenosine, 5′-AMP, 5′-ADP and 5′-ATP, in order to visually distinguish the reaction products (2-5As) from the ATP substrate'), (0.0049619794490583695, 'Consequently, we substituted the A(pA) 3 substrate with NAD + and carried out the reactions with all of the dNTPs (dATP, dCTP, dGTP and TTP) separately, which should allow for synthesis of single-product NAD-dNMP derivatives'), (0.004949144961696943, 'The 2-5A nuclease assay demonstrated here is suitable for identification and characterization of enzyme candidates involved in the cellular degradation of 2′-5′ oligoadenylates'), (0.004908268600450982, 'The varied set of products produced by the OASs in vitro therefore naturally raises the question if the OASs might retain other biological functions than that related to the 2-5A system'), (0.0048985649482269095, 'The preferred substrates of the enzymes, i.e'), (0.004878714141087819, 'For the purified protein, a reaction omitting the enzyme was used to measure the extent to which the substrate might undergo autohydrolysis'), (0.004855499421876604, 'In the figure, three separate chromatograms have been superimposed with the position of the respective molecules indicated'), (0.0048389538434445495, 'The assays might help take our understanding of the 2-5A system one step further, by serving as a platform upon which new discoveries can be made.In this paper, we have described assays for the synthetases and nucleases regulating cellular 2-5A levels including a procedure to obtain high levels of individual 2-5As and 2-5A core molecules'), (0.004837641126517555, 'The batch of synthesised 2-5As was subsequently split in two parts, one part for isolation of 2-5As and the other for isolation of 2-5A core molecules'), (0.004835545964978498, 'We used oligoadenylates of tetramer length and above in our assays, thereby increasing the significance with regard to the 2-5A system'), (0.0048354202279835105, 'PDE12 is localized in the mitochondrial matrix [23] , ENPP1 in the plasma membrane with its active site pointing towards the extracellular matrix [24] and AKAP7 in the nucleus of cells [25] '), (0.0047719258202296505, 'Note that for crude protein extracts, the specific activity attributable to PDE12 only, can be inferred by subtraction of the cellular endogenous activities (either DsRed or EV analyses) from total enzyme activities (PDE12 reactions).This paper presents a toolbox for characterization and identification of the nucleases and synthetases regulating cellular 2-5A levels'), (0.004756976247885916, 'The insert in (a) shows the structural formula of NAD + '), (0.004749289573096, 'The identification and exploration of cellular nucleases degrading 2-5As and 2-5A core molecules (the 5′-dephosphorylated forms of 2-5As), is currently ongoing'), (0.0047488815195708325, 'Both in terms of unavailability of free/reactive 5′ phosphates and the presence of a 2′ hydroxyl group, NAD + closely mimics the A(pA) 3 substrate'), (0.00473714367709908, 'Because dATP, as opposed to ATP is blocked for elongation/ acceptance of nucleotides due to an inert 2′ hydrogen atom, the dATP will only function in the donor-site of the enzymes'), (0.004729962149817801, 'For concentration of the oligoadenylates, the fractions of successive runs representing identical peaks were pooled and diluted 10 fold in Buffer C, in most cases resulting in total volumes of 1-2 l'), (0.004695483259939605, 'Like above, the reaction products have been resolved by HPLC using reverse-phased C 18 columns or by thin-layer chromatography with PEI-Cellulose.This paper comprises an assay toolbox for the characterization and identification of nucleases and synthetases regulating the 2-5A system'), (0.004683344815617335, 'The detection of a single peak at the expected retention volume, suggests that this a very homogenous preparation of the A(pA) 3 tetramer core'), (0.004643372766265643, 'Purity and concentration of the oligoadenylates were determined by application of small aliquots (~20 μl) to the Mono Q HR 16/10 column as described above'), (0.004630838067278337, 'The 200 mL reaction was then divided in two equal parts (100 mL each), one part for isolation of 2-5As and the other for isolation of 2-5A core molecules'), (0.004626647329667463, 'This suggests that the 2′-5′ nucleases must be localized in very close proximity to the sites of viral replication, in order to maintain tight regulation over the 2-5A system'), (0.004577818270160992, 'Our assays are well-suited for scientists aiming to identify and characterize the synthetases and nucleases regulating cellular 2-5A levels, but can also be used to address a broader cellular role of the enzymes by means of alternative substrates like dNTP and NAD + .Additional file 1: Figure S1 '), (0.004571379516882954, 'This was applied over night to the Mono Q HR 16/10 column using the inlet A of the ÄKTAexplorer chromatography system running at a constant flow rate of 1 mL/min'), (0.004557305312492653, 'Thus the OAS1 specific enzyme activities E2(OAS1) from these reactions were calculated with the formula:The 2-5A nuclease assayThe nuclease reactions were performed in a total volume of 20 μl containing 1.2 μg of purified recombinant PDE12ΔmTP-His or 10 μg of crude protein extract together with 0.5 mM of substrate, either A(pA) 3 , A(pA) 4 or A(pA) 5 '), (0.004527259463120384, 'The 2-5A core molecules were numbered according to length with 2 specifying the ApA dimer core, 3 the A(pA) 2 trimer core and so forth'), (0.004516157228879623, 'The 2-5A core molecules were produced by incubation of the 2-5As with alkaline phosphatase (100 U/mL) for 16 h at 37°C'), (0.004481399101631866, 'The assay requires prior isolation of the A(pA) 3 tetramer core'), (0.0044784227826199655, 'For the crude protein extracts, the contribution of normal cellular proteins to total enzyme activities, i.e'), (0.0044773059126604516, 'In the dNTP/NAD + assay demonstrated here, we chose to substitute the ATP with dNTPs to accommodate the need for a singleproduct assay'), (0.00447457998856777, 'The 2-5A core molecules are numbered according to length with 2 specifying the ApA dimer core, 3 the A(pA) 2 trimer core and so forth'), (0.004450644806719857, 'In the dATP/A(pA) 3 assay, human OAS1 p42 was found to produce the A(pA) 3 pdA pentamer product with a specific activity of 1.1 mmole/(sec*g)'), (0.004442767388074973, '2-5As versus 2-5A core molecules can also be deduced to hypothesize the exact cellular role of the proteins in question'), (0.004434879384667172, 'The 2′-5′ oligoadenylates are used as substrates in enzyme assays for measurement of synthetase and nuclease activities'), (0.004425239279168854, 'Background 5′-triphosphorylated, 2′-5′-linked oligoadenylate polyribonucleotides (2-5As) of the structure pppA(pA) n where n ≥ 1, are the key components of the interferon (IFN)induced antiviral 2-5A system'), (0.00441670491497187, 'The lysates were cleared by centrifugation at 20,000 × g for 3 min, and the supernatants containing the proteins stored at −80°C'), (0.004387724690462656, 'Two splice variants, p42 and p46 are the main products of the human OAS1 gene'), (0.004377660435360946, 'The day after, elution was performed by a step gradient to 50 % of Buffer D, allowing for highly concentrated fractions of the individual oligoadenylates'), (0.0043570772547417745, 'The purified human recombinant His-OAS1 enzyme was incubated with NAD + and dNTP (dATP, dCTP, dGTP or TTP) for 30 min at 37°C, and the reactants and product resolved using a HiTrap Q column'), (0.004354665886426403, 'For the present study, we used a His-tagged variant of PDE12 lacking the mTP (PDE12ΔmTP -His), which has previously been found not to alter the enzyme activity [23] '), (0.004350663536551324, 'This variant was used primarily due to the fact that expression and purification was easier compared with the full-length form.Briefly, recombinant human His-OAS1 p42 and PDE12ΔmTP-His were expressed using the E.coli BL21 (DE3) strain'), (0.0043499337932239425, 'We reproducibly obtained~1 mg of purified PDE12ΔmTP-His per liter of E.coli cell culture using this procedure.For protein analyses, aliquots of the purified His-OAS1 and PDE12ΔmTP-His recombinant proteins were heattreated at 95°C for 5 min in loading buffer containing β-mercaptoethanol, and then subjected to SDS-PAGE followed by staining with Coomassie Blue (Pierce).HeLa cells grown in DMEM (Gibco BRL/Life Technology) with 10 % FBS and 1 % Penicillin/Streptomycin (Gibco BRL/Life Technology) were transfected using the PolyFect Transfection Reagent (Qiagen)'), (0.004343584547382578, 'We carried out quantification based on the integral of the corresponding peaks following anion-exchange chromatography, whereas in [48] quantification was based on 4 pentamer core or (c) A(pA) 5 hexamer core for one hour at 37°C, and the products resolved by Mono Q chromatography'), (0.004324438722028854, 'The assays demonstrated here utilize the tetramer core A(pA) 3 , pentamer core A(pA) 4 and hexamer core A(pA) 5 substrates in reactions with the purified PDE12ΔmTP-His enzyme or HeLa cell protein extracts'), (0.004296706144843207, 'The cleared lysates were applied to Ni-NTA Superflow Cartridges (1 mL, Qiagen) using 300 mM of imidazole for elution, before fractionation of the eluates with a Mono Q HR 16/10 column (GE Healthcare) in a linear gradient of KCl to 500 mM'), (0.004294809949688519, 'Whereas the (A5′)p 4 (5′A)-pA(pA) 2 strongly inhibited protein synthesis at concentrations similar to the pppA(pA) 2 trimer, no effect was observed for the NAD + and ADP-ribose derivatives'), (0.0042898438042524994, 'The larger reaction volume are practical only because of the ion-exchange procedure used, where in practice, no limits exist for the sample injection volume.In Poulsen et al'), (0.004273842319889713, 'The (A5′)p 4 (5′A)-pA(pA) 2 could also activate RNase L in a rabbit reticulocyte lysate, which was not the case for the other derivatives'), (0.004264452100950049, 'By contrast, AKAP7 may have access to the 2′-5′ oligoadenylates based on its cellular localization and the fact that nuclear pores allow for diffusion of molecules between compartments'), (0.004263788359499352, 'Also, adenosine and the ApA core dimer were found to only weakly bind the resin under the experimental conditions used (running buffer: 20 mM Tris-HCl, pH 7.5)'), (0.004260064221424056, 'The synthetase assays were designed to produce a single reaction product only, allowing for precise kinetic assessment of the enzymes'), (0.004259742924851351, 'Our values are very close to that of the mouse enzyme however differ with one to three orders of magnitude from the bovine enzyme'), (0.004230666323126509, 'Even though these enzymes all degrade the 2′-5′ oligoadenylates in vitro, the evidence that they truly antagonize the 2-5A system in cells has yet to be reported'), (0.0042273588964466795, 'A procedure for isolating 2-5A 4 pentamer core or (c) the A(pA) 5 hexamer core for 1 h at 37°C, and the products resolved by Mono Q chromatography'), (0.0042258086522676055, 'Similarly, the A(pA) 3 will be committed to the acceptor-site due to a lack of 5′ phosphates'), (0.004215600651387628, 'In addition, the ns2 and VP3 proteins have been shown to antagonize the 2-5A pathway during viral infection by preventing RNase L activation, thereby evading the host innate immune response [21, 22] '), (0.0041770843057442565, '1d the elution profile obtained from concentration of the A(pA) 3 tetramer core is shown'), (0.0041614436821630595, 'The His-OAS1 eluted in the interval 10-70 %'), (0.004155704698382432, 'We obtained 17.2, 15.5 and 11.3 mg of the A(pA) 3 tetramer core, A(pA) 4 pentamer core and A(pA) 5 hexamer core starting from a 100 mL reaction volume, corresponding to 10.1, 9.1 and 6.6 mg of oligoadenylate synthesized per mg of human His-OAS1 used, respectively'), (0.004153177973496973, 'This was done by including a reaction of protein extracts from emptyvector (EV) transfected cells, and using this as the measure of cellular endogenous activity (purple curves in Fig'), (0.004143187685624016, 'Blue curves: The 2′-5′ oligoadenylates numbered according to length, hence 2 specify the pppApA (or ApA) dimer, 3 the pppA(pA) 2 (or A(pA) 2 ) trimer, 4 the pppA(pA) 3 (or A(pA) 3 ) tetramer and so forth'), (0.00413253958254766, 'The assays produce only a single reaction product, as opposed to the large panel of 2-5As formed using ATP as substrate'), (0.004122313784719674, 'Preparative fractionation of 2-5As and 2-5A core molecules were with the Mono Q HR 16/10 column using a linear gradient of 0-10 % and 10-30 % of Buffer D over 3.6 CV and 24 CV, respectively'), (0.0041146044784039085, 'Nevertheless, the total yields obtained by us are at least an order of magnitude higher, which can be ascribed to the large difference in reaction volume, i.e'), (0.004106410220625742, 'The 2-5As and 2-5A core molecules were then resolved by Mono Q chromatography, which resulted in high quality and quantity of many individual 2-5A molecules'), (0.0040911951063295916, '1b and c show how individual 2-5As and 2-5A core molecules up to and above the decamer length were successfully resolved'), (0.004072699627840371, 'Although the 2-5A system has only been described in vertebrates, orthologues of OAS exist throughout the evolutionary tree of life [38, 52] '), (0.004068017715045512, 'A homogenous preparation of the pppApA, the 2-5A dimer could not be obtained due to co-elution with ATP (see Fig'), (0.0040646913773870535, 'Please note that the activity chromatograms representing the EV (purple) and DsRed (yellow) controls in Fig'), (0.004039942122747113, 'Table 1 provides an overview of the specific enzyme activities calculated for PDE12, based on the reactions presented'), (0.004035306916622318, 'The ability of AKAP7 to restore infectivity of a mutant murine coronavirus carrying an inactivated variant of the ns2 gene has recently been investigated [20] '), (0.004009873031819709, 'The 2′ hydroxyl (OH) to be linked with dNMP during the reaction has been highlighted in red'), (0.003999113141944471, 'The chromatograms were obtained with 254 nm as the absorbance wavelength'), (0.003980413892201816, 'No endonucleases degrading 2-5As are currently known.To allow production of 2-5As as well as to develop and demonstrate the enzyme assays, recombinant OAS and PDE12 proteins were expressed and purified from bacteria'), (0.0039793464534276166, 'The analysis of 2-5A synthesis was carried using a Mono Q HR 5/5 column (GE Healthcare) on the ÄKTAexplorer'), (0.003977244197965046, 'Also two viral proteins, ns2 [21] and VP3 [22] belonging to the group 2a betacoronaviruses and group A rotaviruses, respectively, have been found to degrade the 2′-5′ oligoadenylates in vitro'), (0.003968422661130181, 'Immediate de-activation of RNase L is therefore required following viral infection, which can be achieved by either of two ways, (i) through the reversible binding of an RNase L inhibitor allowing for temporary inactivation, or (ii) by degradation of the activator 2-5As leading to persistent inactivation [17, 18] '), (0.003967442992347203, 'NAD + , a coenzyme present in all living cells is composed of two nucleotides one containing an adenine base (the 2′ nucleotide) and the other a nicotinamide base (Fig'), (0.003965943682322452, 'We reproducibly obtained~2 mg of purified His-OAS1 per liter of E.coli cell culture using this procedure.Human PDE12 stripped for the mitochondrial targeting peptide (mTP) and containing a C-terminal His-tag (PDE12ΔmTP-His) was cloned in the pTriEx-3 Neo expression vector (Novagen) allowing for bacterial, insect as well as mammalian expression'), (0.003947356259992495, 'Indeed the human His-OAS1 was found to produce NAD-dNMP derivatives albeit with variable efficiencies, resulting in nice and discrete peaks with retention volumes higher than NAD + and lower than the dNTPs (Fig'), (0.003941184570459705, 'The literature on how to resolve and concentrate individual 2-5A molecules from within a mixture is however limited, the best option currently available being the high-performance liquid chromatography (HPLC)-based method described by Morin et al'), (0.003935714274551045, 'Purified human recombinant His-OAS1 enzyme was incubated with dATP and A(pA) 3 for 30 min at 37°C, and the reactants and product resolved using a HiTrap Q column'), (0.0039232528153189975, 'The assays have been used primarily to define and characterize the reaction products, and are not well suited to determine enzyme kinetic parameters, which are most easily achieved based on reactions generating only a single product'), (0.003912963115123528, 'They are identical in their N-termini of 346 aa named the core OAS unit and differ in their Ctermini with extensions of 18 and 54 aa, respectively [5] '), (0.0038916890148090306, 'RNase L cleaves RNA 3′ to UN sequences, but mainly at UA and UU sites, N being any of the nucleotide bases in RNA, and this results in inhibition of viral replication [9] [10] [11] [12] '), (0.0038827787383943456, 'At present, three enzyme candidates exist: the phosphodiesterase 12 (PDE12) [18] , the ectonucleotide pyrophosphatase/phosphodiesterase 1 (ENPP1) [19] and the A-kinase anchoring protein 7 (AKAP7) [20] '), (0.00388237994895713, 'Therefore the activities obtained from different nucleases on a single substrate as well as for one nuclease on several substrates, are directly comparable provided that the conclusions will be based on the quantity of AMP generated'), (0.003865535507535131, 'We used mass spectrometry for the exact identification of the isolated 2′-5′ oligoadenylates.The single-product 2′-5′ oligo(adenylate) synthetase (OAS) assaysThe dATP/A(pA) 3 assay was carried out in a 40 μl reaction volume containing 32 ng of purified recombinant human His-OAS1 protein, 2 mM dATP and 0.5 mM A(pA) 3 in 10 mM Mg(OAc) 2 , 1 mM DTT, 0.1 mg/mL BSA, 0.2 mM EDTA, 0.4 mg/mL poly(I):poly(C), 10 % glycerol, 0.1 mg/ml Creatine Kinase, 6 mM Creatine phosphate and 20 mM Tris-HCl, pH 7.8 for 30 min at 37°C using a thermal cycler.The NAD + /dNTP assay was performed in a 40 μl reaction volume using 32 ng of purified recombinant human His-OAS1 protein, 2 mM dNTP (dATP, dCTP, dGTP or TTP, respectively) and 3 mM NAD + in 10 mM Mg(OAc) 2 , 1 mM DTT, 0.1 mg/mL BSA, 0.2 mM EDTA, 0.4 mg/mL poly(I):poly(C), 10 % glycerol, 0.1 mg/ml Creatine Kinase, 6 mM Creatine phosphate and 20 mM Tris-HCl, pH 7.8 for 1 h at 37°C using a thermal cycler.The reactions were stopped by heat shock at 94°C for 5 min before dilution with ddH 2 O (3.5 fold) and filtration through AcroPrep TM 10 K Filter Plates (Pall Corporation) by centrifugation at 3000 x g for 15 min'), (0.0038508464055721204, 'The reactants and products were resolved by anion-exchange chromatography using a HiTrap Q column and a gradient of increasing sodium chloride concentration'), (0.0038447590559875207, 'They rely on very short 2′-5′ oligoadenylate substrates, especially the 2-5A core dimer ApA, which despite being commercially available, is not biologically relevant in the sense that oligoadenylates of a minimum of three AMP moieties (i.e'), (0.0038367447965100155, 'The OASs are induced and activated by IFNs leading to nanomolar levels of 2-5As, which activate RNase L'), (0.0038332681700203406, 'The 2-5A core molecules finally accumulate to micromolar levels for transportation (or diffusion) by a yet to be defined mechanism to the mitochondrial matrix for degradation by PDE12'), (0.003780001461596947, '[23] , we described a model accounting for activation and deactivation of the 2-5A system following viral exposure based on tight regulation of 2-5As'), (0.003774847189280499, 'Processive enzymes on the other hand might catalyze the reactions to completion generating two reaction products exclusively: adenosine plus AMP for 2-5A core molecules and ATP plus AMP for 2-5As'), (0.003770333280398055, 'In comparison, the mice genome encodes multiple OAS genes: eight OAS1 genes, one each of the OAS2 and OAS3 genes and two OASL genes, believed to have arisen from duplication and divergence events from a common ancestral gene [7, 8] '), (0.0037496367990890577, 'either the inner mitochondrial membrane or the plasma membrane in order for degradation to take place'), (0.0037409632561934696, 'Briefly, BL21 (DE3) cells transformed with the above-mentioned construct were grown in selective LB medium and the expression induced with IPTG'), (0.0037400207158432386, 'This suggests that these conjugates may have functions not related to the 2-5A system and might be triggered by other stimuli.Enzyme measurements of 2-5A nucleases have mainly relied on short substrates unable to activate RNase L, which requires oligoadenylates of trimer length and above [18, [40] [41] [42] [43] [44] '), (0.0037392161833710975, 'The filtrates were analyzed on a Mono Q HR 5/5 column on an ÄKTAexplorer using a linear gradient of 0-12 % and 12-16 % of Buffer D in C over 18 CV and 20 CV, respectively'), (0.003734950162679673, 'Blue curves: Profiles from reactions in which the enzyme was used, and red curves: Profiles from reactions where the enzyme was omitted'), (0.00372964597534091, 'At least six OAS isoforms are expressed from these four human genes: two splice variants from the OAS1 and OAS2 genes and a single variant from each of the OASL and OAS3 genes [5, 6] '), (0.003729564973104685, '5 closely overlap (as expected), and thus cannot be discerned in the figure.The levels of high molecular weight products are higher than low molecular weight products, e.g'), (0.003718703083175284, 'The distributive cleavage of 2′-5′ oligoadenylates by PDE12 can be described with a single cleavage event conforming to the reaction scheme: (p) x A(pA) n → (p) x A(pA) n-1 + AMP, where x = [0, 1, 2 or 3], n ≥ 1, implying that substrates can be processed until n = 1'), (0.003701752593241996, '[15] , showing that NAD + and ATP are used with equal efficiencies when part of the same reaction'), (0.0036998242611203853, 'mAU, milli-absorbance unit and mS/cm, milliSiemens/centimeter the densitometric scans of dots (molecules) resolved by thin-layer chromatography.In the dNTP/NAD + assay, human OAS1 p42 was found to produce NAD-dNMP derivatives with specific activities of 0.2 mmole/(sec*g) for NAD-pdA, 0.1 mmole/(sec*g) for NAD-pdC, 0.02 mmole/(sec*g) for NAD-pdG and 0.1 mmole/(sec*g) for NAD-pT'), (0.003697267224711628, 'The OAS2 and OAS3 can also produce oligomers of considerable length'), (0.003694303348918661, 'The substrate and products were resolved by Mono Q chromatography'), (0.0036932428873967236, 'The reactions were set up using a single 2′-5′ oligoadenylate substrate, which are combined with a (candidate) nuclease and incubated for a given amount of time'), (0.003692343195064209, 'The cells were harvested by centrifugation at 7000 rpm for 20 min at 4°C and ruptured using the B-PER Protein Extraction Reagent (0.5 mL/g dry weight, Thermo Scientific)'), (0.003683815404136403, 'For PDE12 and ENPP1, the 2′-5′ oligoadenylates therefore need to traverse a membrane, i.e'), (0.003680417866282977, 'The following reaction scheme describes this mode of catalysis: (p) x A(pA) n → (p) x A + nAMP, where x = [0, 1, 2 or 3] and n ≥ 1'), (0.003661433442952843, 'human and bovine proteins share 92 % similarity at the amino acid level), immediately suggests that assay-dependent factors and not variation in protein sequence may have caused the observed difference [18] '), (0.003657101782644532, 'We hypothesize that regulation of 2-5As in cells is tightly controlled and orchestrated by multiple nucleases and phosphatases, some of which remains to be identified.Chemical-as well as enzyme-based strategies have been used to synthesize 2-5As'), (0.0036473869245511998, 'The reactions were incubated for 1 h at 37°C using a thermal cycler, and stopped by heating to 94°C for 5 min'), (0.003630066716191577, 'Compared with the controls dATP or A(pA) 3 only, the product A(pA) 3 pdA exhibited a retention volume higher than A(pA) 3 and lower than dATP, and formed a discrete peak (Fig'), (0.003628777394081419, 'The BCA Protein Assay Kit (Pierce) was used for determination of the protein concentrations.In 200 mL reactions, 17 μg/mL of human His-OAS1 was incubated with 2 mM ATP, 4 mM Mg(OAc) 2 , 0.2 mM DTT, 40 μM EDTA, 0.2 mg/mL Poly(I)-Poly(C), 0.1 mg/mL BSA, 2 % glycerol and 4 mM Tris-Cl pH 7.8 for 3 h at 37°C [45] '), (0.0036242413801881685, 'In the time span 20-90 min, ATP was added every 10 min to sequentially increase the ATP concentration by 1 mM ending with with a final concentration of 10 mM'), (0.003624102488675715, 'All the chromatographic procedures were carried using 254 nm as the absorbance wavelength'), (0.0036169549114478, 'Based on cellular localization, one could then assign distinct roles to the individual forms in the pathway'), (0.003595906883464917, 'The assay should also work for exploration of putative 5′-phosphatases converting 2-5As to 2-5A core molecules using a 2-5A molecule as substrate'), (0.0035804760926238543, 'Importantly, neither of the conjugates were detected naturally in mouse L cells even after IFNstimulation and virus infection'), (0.0035700350615725835, 'The fact that PDE12 is conserved throughout the mammalian lineage (e.g'), (0.0035645452048975977, 'The OAS1 variant used here is the human p42 form cloned with an N-terminal His-tag fusion (His-OAS1).The mitochondrial localization of human PDE12 is facilitated by an N-terminal mitochondrial targeting peptide (mTP) spanning residues 1-16'), (0.003558711820345652, 'Also, the reaction products have mainly been resolved by HPLC using reverse-phased C 18 columns or thin-layer chromatography with PEI-Cellulose, in which the former has been used for production purposes'), (0.0035473572188719407, 'tRNA, Ap 4 A, Ap 3 A)'), (0.0035473572188719407, '[51] )'), (0.0035473572188719407, '3a, inset) '), (0.0035473572188719407, '1a '), (0.003528378947765362, 'mAU, milli-absorbance unit and mS/cm, milliSiemens/centimeter protein (dsRed), to ascertain if substrate degradation is specific to PDE12, or simply is the result of overexpressing a protein (DsRed, yellow curves in Fig'), (0.003512376541008387, 'In the donor-site, all nucleoside-triphosphates (NTPs) as well as deoxy-nucleoside-triphosphates (dNTPs) can be used, N specifying the nucleotide bases in DNA and RNA'), (0.0035054413039512142, 'Amongst others, we present an enzyme assay using the A(pA) 3 tetramer core and dATP as substrates in producing a A(pA) 3 pdA pentameric product'), (0.003504174337945301, 'Upon binding of viral dsRNA, the OAS enzymes synthesize 2-5As from ATP leading to accumulation of 2-5As'), (0.0034933683490836124, 'A procedure for isolating 2′-5′ oligoadenylates is described, which results in high yields and purity of many 2-5As and 2-5A core molecules'), (0.0034931931678465946, 'The chromatograms for purified protein (PDE12ΔmTP-His) are shown in Fig'), (0.003482624941278791, 'Contrary, the nuclease assays produced a mixture of 2-5A molecules, which were resolved by chromatography'), (0.003470721234126745, 'Therefore,Ã start Â 4 Â 0:02 Â 10 −3 l 3600 s x Â 1:2 x 10 −6 g we synthesized the 2′-5′ oligoadenylates by enzymatic means using the His-OAS1 p42 variant in large-scale reactions with ATP'), (0.0034580655777783705, 'Here we present an alternative to this procedure, which can be used to obtain highly pure 2-5As and 2-5A core molecules at the milligram scale.A variety of 2′-5′ oligo(adenylate) synthetase activity assays have been devised, which generally rely on ATP as substrate [4, 15, [37] [38] [39] '), (0.0034537885158295247, 'The porcine OAS1 used by them exhibited a conversion rate of 33.5, 124.9, 53.5, 10.7 and 1.4 mg of oligoadenylate production per mg OAS1, respectively'), (0.003450435826434565, 'For analysis of the samples 20 μl of filtrate was applied to a HiTrap Q column (1 mL, GE Healthcare) and fractionated with a stepwise linear gradient of 0-9 %, 9-17 %, 17-17.7 %, 17.7-22 %, 22-100 % of Buffer D in C over 3 mL, 54 mL, 20 mL, 50 mL and 6 mL, respectively'), (0.0034476309567844517, 'The cells were harvested by centrifugation, and ruptured by sonication and highpressure homogenization'), (0.0034473146988569943, 'The end-reactions were diluted in Buffer C (15 fold) and applied to AcroPrep 10 K Filter Plates by centrifugation at 3000 × g for 15 min'), (0.003436170716321645, 'A 200 μL aliquot was applied to the column equilibrated in Buffer C (20 mM Tris-HCl, pH 7.5) and fractionated in a linear gradient of 0-20 % and 20-22.8 % of Buffer D (1 M NaCl, 20 mM Tris-HCl pH 7.5) using 18 column volumes (CV) and 50 CV, respectively'), (0.003432141801448754, 'This correlates with the fact that PDE12 has been described as a 2′-5′ exonuclease producing 5′-AMP during each reaction cycle, which is temporally separated by dissociation and re-binding of substrates (i.e'), (0.0034127415431748002, 'Note that NAD + was initially demonstrated to be a preferred primer over ATP for the OASs, producing mainly NAD + derivatives such as NAD-pA in reactions of both substrates [49] '), (0.003411156895982856, 'The substrates used were: (a) NAD + and dATP, (b) NAD + and dCTP, (c) NAD + and dGTP and (d) NAD + and TTP'), (0.0034099345964692784, 'At OD 600 = 0.6, the cultures were added IPTG to a final concentration of 1 mM and left for overnight incubation at 20°C at 200 rpm to allow protein expression'), (0.0034041967045029395, 'endogenous activities versus total enzyme activities, need to be distinguished to precisely map the activity specific to the expressed recombinant protein'), (0.0033797096386221966, 'These enzymes might be expected to fulfill other cellular roles from that of the 2-5A system'), (0.003376617743914086, 'Plasmids were the PDE12ΔmTP-His construct in pTriEx-3 Neo, redfluorescent protein (DsRed) also in pTriEx-3 Neo and as a control the empty pTriEx-3 Neo vector'), (0.0033765646067512034, 'With the recent discovery of novel cellular nucleases (ENPP1 and AKAP7) as well as virally encoded nucleases (ns2 and VP3), this process however might prove to be more complex than hitherto expected (readers are referred to a recent review by Silverman et al'), (0.0033559455140073392, 'We also present a synthetase assay using NAD + and either dATP, dCTP, dGTP or dTTP as substrates for the OAS enzyme'), (0.003343075414868848, 'The activities measured for purified human PDE12ΔmTP-His and PDE12ΔmTP-His in HeLa cell protein extracts are listed in Table 1 '), (0.0033210204646885026, 'Consequently, the single A(pA) 3 pdA product formed is blocked for further 2′ elongation by incorporation of dAMP'), (0.0032951300092686, 'The fractions containing PDE12ΔmTP-His were finally pooled and diluted with one volume of 80 % glycerol before storage at −80°C'), (0.003285163089335082, 'Variations may also result from the approach used to quantify reactants and products'), (0.003284492470009073, '2-5As compared with the single product A(pA) 3 pdA formed in our assay'), (0.0032572747117023747, 'This has been studied for the NAD + , ADP-ribose and (A5′)p 4 (5′A) derivatives [49] '), (0.003232902759976754, 'before dilution) was converted to less than 3 mL (~70 fold concentration of the molecule)'), (0.0032306286340507574, '1e , an aliquot of the final concentrated sample was resolved by Mono Q chromatography to confirm molecular purity'), (0.0031925604954318424, 'Note that the above formulas are valid only to enzymes producing one molecule of AMP per reaction cycle, which is true for exonucleases like PDE12'), (0.0031735163038001924, 'This figure has been reproduced from [19] with courtesy of Biochimie, Elsevier molecules is described along with enzyme assays using purified OAS and PDE12 recombinant enzymes.Measurements of OAS enzyme activity have traditionally been assayed using ATP as substrate producing a mixture of 2-5A molecules [4, 15, 37, 39] '), (0.003156516270118733, 'The specific enzyme activity of PDE12 has previously been determined [41, 50] '), (0.0031542112488470862, '1.4 mg pr mg enzyme of hexamers), whereas the enzymes used by Morin et al'), (0.0031496962523956873, 'Our enzyme produced higher yields of the longer oligomers (6.6 mg vs'), (0.003086389373426582, 'The elution was carried out in a gradient of Buffer B (20 mM Na 2 PO 4 , 0.5 M NaCl, 500 mM imidazole, pH 7.4): a step gradient from 0 to 10 % B, a linear gradient from 10 to 70 % B in 10 mL and a step gradient from 70 to 100 % B'), (0.0030784199606114595, 'For instance, using NAD + , ADP-ribose and (A5′)p 4 (5′A) in reactions with ATP, the enzymes readily produce NAD-pA(pA) 2 , ADPribose-pA(pA) 2 and (A5′)p 4 (5′A)-pA(pA) 2 conjugates, respectively [49] '), (0.0030774177304366524, 'Purification of OAS1 p42 was done by Ni 2+ -chromatography in one step, and purification of PDE12ΔmTP-His was done in two steps, Ni 2+ -chromatography and quaternary (Q) anion-exchange chromatography'), (0.003069925065341954, 'produced higher yields of the smaller oligomers (53.5 mg vs'), (0.0030652657335993438, 'Upon binding of cognate receptors, they induce numerous intracellular signaling cascades, leading to transcriptional activation of several hundred genes, which altogether determine the biological outcome involving antiviral, antitumoral, and immunomodulatory effects [1] [2] [3] [4] '), (0.0030532743225396035, 'Chromatograms were obtained by using 254 nm as the absorbance wavelength'), (0.0030409827383676797, 'The OASs actually combines a broad range of substrates (not only ATP) to form 2′-5′ heterooligonucleotides in vitro, thus they are better described as general 2′-5′-nucleotidyl transferases [14, 15] '), (0.0030384386575445337, 'Analysis of purified recombinant proteins by SDS-PAGE and Coomassie Blue staining.OASs: 2′-5′ oligoadenylate synthetases; PDE12: Phosphodiesterase 12; 2-5As: 5′triphosphorylated, 2′-5′-linked oligoadenylate polyribonucleotides; 2-5A core molecules: 5′-dephosphorylated forms of 2-5As; ENPP1: Ectonucleotide pyrophosphatase/phosphodiesterase 1; AKAP7: A-kinase anchoring protein 7; NAD + : Nicotinamide adenine dinucleotide.The authors declare that they have no competing interests.'), (0.0030355140834327377, 'The specific enzyme activities were calculated to be 0.2 mmole/(sec*g) for NAD-pdA; 0.1 mmole/(sec*g) for NAD-pdC; 0.02 mmole/(sec*g) for NAD-pdG and 0.1 mmole/(sec*g) for NAD-pT.To be able to better identify and characterize nucleases regulating cellular 2-5A levels we have developed a simple 2′-5′ nuclease assay'), (0.0030234206533631403, 'Chromatograms were obtained with 254 nm as the absorbance wavelength'), (0.0030234206533631394, 'Chromatograms were obtained with 254 nm as the absorbance wavelength'), (0.003007655866689713, 'The requirements on the acceptor-site is a 2′-end positioned AMP linked in an RpA configuration, where R specifies either ATP, nicotinamide adenine dinucleotide (NAD + ), or oligomeric or polymeric primers (e.g'), (0.002980829952275352, 'The lysates were cleared by centrifugation at 12,000 rpm for 10 min at 4°C and diluted four-fold in Buffer A (20 mM Na 2 PO 4 , 0.5 M NaCl, pH 7.4) before filtration (0.22 μM)'), (0.002980718729410084, 'Our assays produce only a single reaction product allowing a precise kinetic assessment of the enzymes'), (0.0029711353841559746, 'The single-product dNTP/NAD + assay (or modifications hereof ) could be used to more broadly address properties of enzymes exhibiting 2′-5′-nucleotidyl transferase activity'), (0.0029707487441095037, 'The conversion from 2-5As into 2-5A core molecules was performed by treatment with alkaline phosphatase'), (0.0029606606283506874, 'Indeed our estimates are higher, which may reflect the different sources of OAS used, i.e'), (0.002951155955795399, 'for degradation of A(pA) 5 hexamer core the level of products are: pentamer core > tetramer core > trimer core > dimer core > adenosine (Figs'), (0.002927087064979631, 'Also 5′-phosphatases trimming 2-5As to 2-5A core molecules might take play in degradation of 2′-5′ oligoadenylates in cells'), (0.0029198580267590915, '4 and 5 )'), (0.0029134050305722643, 'The conjugates were firstly screened for an ability to inhibit protein synthesis in an encephalomyocarditis-RNA-programmed tumour cell-free system'), (0.0028960461523705947, '[34] obtained 0.27, 1.01, 0.43, 0.09 and 0.01 mg of the pppA(pA) dimer, pppA(pA) 2 trimer, pppA(pA) 3 tetramer, pppA(pA) 4 pentamer and pppA(pA) 5 hexamer in their HPLC-based method starting from a 1 mL reaction volume, respectively'), (0.0028659458162104906, 'For instance, the purified bovine sample appeared very crude as analyzed by SDS-PAGE silver staining, whereas ours was nearly free of contaminants'), (0.002854102101164394, 'Note that regardless of the degradation mechanism (distributive versus processive), one molecule of AMP is produced per cleavage event assuming that degradation is mediated by an exonuclease activity'), (0.0028297088486138058, '4 and for HeLa cell protein extracts in Fig'), (0.0028108763489253473, 'Synthesis of 2-5As was performed with a human OAS1 isoform known to produce oligomers up to 30mers in vitro [5] '), (0.0027996915178799945, 'This difference (5-6 fold) might result from the lower estimate being based on formation of multiple products, i.e'), (0.002785867486106929, 'Similar assays using rabbit OAS1 in reactions with NAD + and NTPs (ATP, GTP, UTP and CTP, respectively) have previously been conducted yielding specific activities of 0.0009 mmole/(sec*g) for NAD-pA, 0.0005 mmole/(sec*g) for NAD-pG, 0.0009 mmole/(sec*g) for NAD-pU and 0.0008 mmole/(sec*g) for NAD-pC [15] '), (0.002766175179515166, 'Importantly, the above synthetase assays are applicable also to crude extracts, e.g'), (0.0027426893944567056, 'An estimate of 0.2 mmole/(sec*g) on formation of 2-5As using ATP as substrate has previously been determined for human OAS1 p42 [48] '), (0.002729941784958598, 'The reaction can be summarized as follows: dATP + A(pA) 3 → A(pA) 3 pdA + PPi'), (0.002677975085535425, 'Expression and purification of OAS1 isoforms are straightforward compared with OAS2'), (0.002677029528799616, 'Red and green curves: Control reactions after incubation of His-OAS1 with either NAD + or dNTP alone, respectively'), (0.0026315260834955875, 'Whether this is true, or the (A5′)p 4 (5′A)-pA(pA) 2 conjugate inhibited protein synthesis by another mechanism, was not determined'), (0.0026118347942061504, 'One gene family induced by IFNs is the double-stranded RNA-dependent 2′-5′ oligoadenylate synthetases (dsRNA-dependent OASs) in humans comprising four members, OAS1, OAS2, OAS3 and OAS-like (OASL)'), (0.0026117753793753217, 'human versus rabbit, the strategy undertaken for analyzing product formation, i.e'), (0.002605218065220887, 'The reaction sample was heatinactivated at 85°C for 15 min before filtration (0.45 μm)'), (0.0025699129810362346, 'anion-exchange chromatography versus thin-layer chromatography, or simply that we have used dNTPs over NTPs in the reactions'), (0.0025693765750642644, 'Blue curve: Profile from a reaction using His-OAS1 with dATP and A(pA) 3 as substrates'), (0.002496443727926041, 'Protein expression and purification were carried out as described in [23] '), (0.0023996565287631075, 'Elution fractions were finally mixed with one volume of 80 % glycerol and stored at −80°C'), (0.002387848319356932, '2 Single-product OAS assay using dATP and A(pA) 3 as substrates'), (0.002384561140598816, 'Red and green curves: Control reactions using His-OAS1 together with dATP or A(pA) 3 alone, respectively'), (0.00237336012397245, 'Blue curves: Profiles from reactions using His-OAS1 together with NAD + and dNTP'), (0.002361348800013608, 'This is based on experiments showing accumulation of 2-5A core molecules over 2-5As in cells upon viral infection [30, 31] '), (0.0023449325409326907, 'OAS2 has been found to produce oligoadenylates of similar length as OAS1 [5] , whereas OAS3 can produce oligoadenylates of at least 12mer length [46, 47] '), (0.0023122133114425974, 'Red curve in (a): Chromatogram obtained using control molecules: Adenosine, 5′-AMP, 5′-ADP and 5′-ATP as indicated'), (0.0022977138538824177, 'mg enzyme of tetramers)'), (0.002258136500116832, 'The reactions also contained 1 mM MgCl 2 , 1 mM DTT, 1 mg/mL BSA, 1x protease inhibitor (EDTA-free, Roche Applied Science) and 20 mM Hepes, pH 7.0'), (0.002233709208006537, '3 Single-product OAS assay using dNTPs and NAD + as substrates'), (0.0022189629771127324, 'Despite PDE12, ENPP1 and AKAP7 degrades 2′-5′ oligoadenylates in vitro their importance during viral infection, has yet to be reported'), (0.0022014663722938147, 'Isolated fractions were of high homogeneity as evaluated by Coomassie Blue stained SDS-PAGE protein gels (Additional file 1: Figure S1 ).Compared with 3′-5′ phosphodiester-linked oligonucleotides, 2-5As are difficult to attain chemically'), (0.002111936542630527, 'These 2-5As in turn activate RNase L, an endoRNase degrading viral and cellular RNA'), (0.0020459049318854155, '15.200 for dATP, 9.300 for dCTP, 13.700 for dGTP and 9.600 for TTP'), (0.0020454786646964015, 'IFNs are extracellular cytokines specific to (jawed) vertebrates and central to host innate immunity'), (0.002039241647825526, 'OAS1 and PDE12 recombinant proteins'), (0.0020261128594144607, 'In Fig'), (0.0020261128594144602, 'In Fig'), (0.0020245766460682208, 'trimer) containing 5′ phosphate(s) are required for activation of RNase L [44] '), (0.0019658959820188626, 'Brown curves: experimental salt gradients'), (0.0019658959820188626, 'Brown curves: Experimental salt gradients'), (0.0019658959820188626, 'Brown curves: Experimental salt gradients'), (0.0019658959820188626, 'Brown curves: Experimental salt gradients'), (0.0019595998499419287, 'Whereas chemical synthesis is cumbersome being reported in an eight-step procedure [32] , enzyme-mediated synthesis is easier and done using purified OASs [14, [33] [34] [35] [36] '), (0.0019473493887548657, 'Using this procedure, we have obtained very high yields of many individual 2′-5′ oligoadenylates'), (0.0019394112903309388, '1b) '), (0.0018939570146646301, 'Here a starting volume of~200 mL (i.e'), (0.0018679338746706998, 'Unknown 5′-phosphatases convert cytotoxic 2-5As to less cytotoxic 2-5A core molecules simultaneously with viral RNA degradation by 2-5A-activated RNase L'), (0.0018068390271250034, 'Note that each figure (a-c) includes four superimposed chromatograms: blue curves PDE12, yellow curves DsRed, purple curves EV and green curves -'), (0.0016959103599093748, 'For concentration determination, ATP was used as an internal control'), (0.001693657617917696, '[34] versus 100 mL in our case'), (0.0016765483657224893, 'mAU, milli-absorbance unit and mS/cm, milliSiemens/centimeter Fig'), (0.0016068724551802055, '1 mL in Morin et al'), (0.0016066538200732927, 'Brown curve: Experimental salt gradient'), (0.0015823257516608966, 'mAU, milli-absorbance unit and mS/cm, milliSiemens/centimeter'), (0.0015658124136549206, 'We also carried out a reaction with protein extracts from HeLa cells overexpressing an irrelevant Fig'), (0.0014909277541503732, 'Protein purification was with a HiTrap Chelating HP column (1 mL, GE Healthcare) charged with 0.1 M NiSO 4 using an ÄKTAexplorer chromatography system (GE Healthcare)'), (0.001477070408346611, 'In comparison, Morin et al'), (0.0014004500115257941, 'Protein expression was carried out for 24 h, before lysis with 1 % NP40, 0.5 M CH 3 COOK added 2× Complete protease inhibitor cocktail (Roche)'), (0.001274054991077142, 'This result was however contradicted by Ferbus et al'), (0.0012664394547669399, 'Each figure (a-c) includes two chromatograms that were superimposed'), (0.0012145844134220018, '[34] '), (0.001180664522052517, 'These molecules were thus detected 3 )'), (0.001167592507021843, 'Each figure (a-d) includes three chromatograms that have been superimposed'), (0.0011138825014488961, 'Likewise, many 2-5A nuclease assays have been reported [18, [40] [41] [42] [43] '), (0.001042543720253514, 'bacterial or mammalian cell protein extracts (data not shown)'), (0.001033669714539486, 'Different controls were included'), (0.001000489246575145, 'Fig'), (0.0009807120063320097, 'How exactly this would occur remains unknown, though processes like receptor-mediated transport or diffusion may be involved'), (0.0009661080132776074, 'a distributive enzyme) [19] '), (0.0009190105921651885, '17.2 mg pr'), (0.0005321035828307911, '5) '), (0.0005321035828307911, '5 )'), (0.0005321035828307911, '5 '), (0.0005321035828307911, '3) '), (0.0005321035828307911, '3) '), (0.0005321035828307911, '2) ')]\n",
            "Indexes of top ranked_sentence order are  [(0.006336042112799102, 'The chromatograms were obtained using 254 nm as the absorbance wavelength.The enzyme activity reaction catalyzed by OAS can be formulated with the general formula below, in which S1 and S2 are the substrates and P the product formed: S1 þ S2 → P E, the specific activity of the enzyme (mole P generated per second per gram protein) can be calculated from the equation:[S2] start is the start conc of S2, V is the reaction volume, M is the amount of protein added and T is the reaction time.The reaction schemes for the two kinds of OAS activities measured in this paper are depicted in reaction 1 and reaction 2, respectively.In reaction 1, the specific activity of the OAS1 enzyme (E1(OAS1) with dATP and A(pA) 3 as substrates (S1 and S2, respectively) was calculated with the formula:The integral refers to the area under the individual peaks from the substrates and products in the chromatograms.Reaction 2: dNTP + NAD + → NAD − pdN In reaction 2, dNTP (dATP, dCTP, dGTP or TTP) and NAD + were used as substrates (S1 and S2, respectively) in reactions with the OAS1 enzyme'), (0.006155112816624812, 'The specific activity of PDE12 (mole 5′-AMP synthesized per second per gram of protein (mole AMP/(sec*g)) was calculated with the formula:Total 254nm refers to the sum of the integral of all peaks in a given chromatogram at 254 nm for a single reaction, [A(pA) n ] start is the start concentration of the substrate A(pA) n, V is the reaction volume, T the reaction time and M the amount of protein added.As an example, the tetramer core substrate would be expected to undergo cleavage into the following products using PDE12 as the enzyme:In the case of purified protein, the specific enzyme activity of PDE12, E(PDE12) could therefore be calculated using the formula:For reactions including crude protein extracts, the specific enzyme activities were calculated in mmole AMP/ (sec*g of total protein)'), (0.006041779593828575, 'Note that despite of binding dsRNA and ATP, the human OASL is catalytically inactive due to key mutations in the active site compared with the other OAS isoforms [13] .2-5A catalysis generally proceeds by hydrolysis of the phosphoanhydride linking the α and β phosphates of ATP when bound in the so-called donor-site of the enzymes resulting in pyrophosphate (PPi) and AMP, which is subsequently linked to the free 2′-OH group of a second ATP molecule or a 2-5A molecule placed in the acceptor-site of the enzymes [6] '), (0.005742492152628496, 'Accordingly, such presence of contaminants would inevitable lower the overall enzyme activities by a factor proportional to the amount of impurities versus PDE12 protein in the sample.The described procedure has been used for isolation of 2-5As and 2-5A core molecules up to and above decamer length'), (0.0057076409728675555, 'The individual 2-5As and 2-5A core molecules were subsequently concentrated in three steps, by a 10 fold dilution of the samples in running buffer to reduce the overall sodium chloride content, re-application of the molecules to the Mono Q column and elution by a step-gradient of 0.5 M sodium chloride'), (0.005625127031342624, 'The position of the reactants and product are indicated in the chromatograms'), (0.005613930896945075, 'This allows for a more precise kinetic assessment of the enzymes.In the first assay, the A(pA) 3 tetramer core and the deoxy-nucleotide dATP were used as substrates in formation of a pentameric product, A(pA) 3 pdA'), (0.005517098695872308, \"We calculated the specific enzyme activity of the human OAS1 p42 for production of A(pA) 3 pdA to be 1.1 mmole/(sec*g).We also made additional set-ups and optimized the assay using alternative 'acceptor' and 'donor' molecules as substrates for the OAS (Fig\"), (0.005396727614098469, 'This is in line with the diverse substrate specificity identified for the mammalian OASs, which may be a reminiscence of the evolutionary past [15] .Here we have described some enzyme assays suitable for identification and characterization of the synthetases and nucleases regulating cellular 2-5A levels'), (0.00539407326429082, 'The fact that all reactants and products are negatively charged at physiological pH allow for fractionation by anionexchange chromatography.For demonstrating the assay we incubated the purified human His-OAS1 with the substrates dATP and A(pA) 3 and allowed the reaction to proceed for 30 min'), (0.0053923830452485095, 'It was found that a mislocalized version of AKAP7 present in the cytoplasm could restore the infectivity of the mutant virus, which was not the case for the fulllength protein localized in the nucleus'), (0.005390462133595546, 'Furthermore, the assay was optimized to resolve all the reactants and products by anion-exchange chromatography, which allows the direct usage of the peak integrals for calculation of enzyme activities'), (0.005305724914543126, 'This is possible through use of a creatine kinase system applied in the reaction buffer, which continuously regenerates dATP from the dADP and dAMP inhibitors formed during the reaction.The OASs have been found to join a variety of oligoadenylates and derivatives in vitro'), (0.005294962940416714, 'Conversion of the (A5′)p 4 (5′A)-pA(pA) 2 conjugate to the pppA(pA) 2 trimer was proposed as a possible way for activation of RNase L in the lysate, thereby also explaining the observation of inhibition of protein synthesis'), (0.0052608402360202694, 'Here the extinction coefficients, ε (M −1 × cm −1 ) of the individual dNTPs at 254 nm were used in the calculation of the specific enzyme activities, i.e'), (0.005226615936334165, 'Of the three substrates utilized here: A(pA) 3 tetramer core, A(pA) 4 pentamer core and A(pA) 5 hexamer core, a total of 17.2, 15.5 and 11.3 mg were obtained corresponding to 10.1, 9.1 and 6.6 mg of oligoadenylate per mg human His-OAS1 used in the reaction, respectively.We have developed a number of OAS enzyme assays using the isolated oligoadenylates as well as NAD + as substrates'), (0.005215389218888252, 'The following general reaction scheme apply to the varied enzyme capabilities of the OASs: RpA + (d)NTP → PPi + RpA-(d)NMP in which the incorporation of AMP prompts for oligoadenylate synthesis by means of multiple 2′ elongation events (the other NMPs and dNMPs make up single incorporation events only).Due to low sequence specificity, RNase L degrades cellular RNA and prolonged activation results in an antiproliferative response leading to apoptosis [9] [10] [11] 16] '), (0.005193401347747445, 'The efficiency of the reaction was assessed by Q anion-exchange chromatography, and the resulting chromatogram can be seen in Fig'), (0.005171523264666222, 'The sample injection volume were~10 mL for each of the fractionations, therefore the method was repeated several times in order to obtain separation of the entire reaction volume of 200 mL'), (0.005129863902073473, 'The chromatograms were obtained with 254 nm as the absorbance wave-length.For the PDE12 activity assay the following reaction scheme was used:n ≥ 1 and m ≥ 0'), (0.005071038897955878, 'Consequently, wide uncertainty exists as to i) which enzymes take part in 2-5A degradation in cells, ii) what are the contribution offered by each of the enzymes to the process, iii) do the enzymes have a preferred cellular substrate and iv) what are the interplay between cellular and viral nucleases during infection'), (0.0050407962004708215, 'This assay is well-suited to assess the broader cellular role expected of the OASs, based on the very diverse substrate specificity in vitro.Human OAS1 p42 containing an N-terminal His-tag (His-OAS1) cloned in the pET9d bacterial expression vector was a kind gift from Kineta (formerly Illumigen Biosciences).The plasmid was transformed into the E.coli BL21 (DE3) strain and plated on selective LB agar (50 μg/mL ampicillin), followed by inoculation of single colonies to selective LB medium for incubation at 37°C for 16 h at 200 rpm'), (0.005011513378378448, 'mAU (milli-absorbance unit) is the unit used for molecular detection at 254 nm, and mS/cm (milliSiemens/centimeter) the unit used to measure conductivities before application of the experimental salt gradient used for separation, but after the void volume of the column'), (0.004994752003288784, 'The mouse enzyme was found to exhibit a specific activity of~20*10 −3 mmole/(sec*g) of 5′-AMP using the ApA dimer as substrate, and the bovine enzyme an activity of~0.02*10 −3 mmole/(sec*g) of 5′-AMP using the A(pA) 2 trimer as substrate'), (0.0049860346816323715, '2-5As and 2-5A core molecules are easily resolved by ion-exchange chromatography, making this assay straightforward.The single-product dATP/A(pA) 3 assay can be used to precisely map and characterize the activities of the individual OAS isoforms'), (0.0049830576801931075, '2-5As are mainly produced in the cytosol (and to some extend in the nucleus), which is also the site of viral replication [26] [27] [28] [29] '), (0.004965815915479517, 'In this figure two chromatograms have been superimposed, the 2-5A reaction mix (blue curve) and the control molecules (red curve): adenosine, 5′-AMP, 5′-ADP and 5′-ATP, in order to visually distinguish the reaction products (2-5As) from the ATP substrate'), (0.0049619794490583695, 'Consequently, we substituted the A(pA) 3 substrate with NAD + and carried out the reactions with all of the dNTPs (dATP, dCTP, dGTP and TTP) separately, which should allow for synthesis of single-product NAD-dNMP derivatives'), (0.004949144961696943, 'The 2-5A nuclease assay demonstrated here is suitable for identification and characterization of enzyme candidates involved in the cellular degradation of 2′-5′ oligoadenylates'), (0.004908268600450982, 'The varied set of products produced by the OASs in vitro therefore naturally raises the question if the OASs might retain other biological functions than that related to the 2-5A system'), (0.0048985649482269095, 'The preferred substrates of the enzymes, i.e'), (0.004878714141087819, 'For the purified protein, a reaction omitting the enzyme was used to measure the extent to which the substrate might undergo autohydrolysis'), (0.004855499421876604, 'In the figure, three separate chromatograms have been superimposed with the position of the respective molecules indicated'), (0.0048389538434445495, 'The assays might help take our understanding of the 2-5A system one step further, by serving as a platform upon which new discoveries can be made.In this paper, we have described assays for the synthetases and nucleases regulating cellular 2-5A levels including a procedure to obtain high levels of individual 2-5As and 2-5A core molecules'), (0.004837641126517555, 'The batch of synthesised 2-5As was subsequently split in two parts, one part for isolation of 2-5As and the other for isolation of 2-5A core molecules'), (0.004835545964978498, 'We used oligoadenylates of tetramer length and above in our assays, thereby increasing the significance with regard to the 2-5A system'), (0.0048354202279835105, 'PDE12 is localized in the mitochondrial matrix [23] , ENPP1 in the plasma membrane with its active site pointing towards the extracellular matrix [24] and AKAP7 in the nucleus of cells [25] '), (0.0047719258202296505, 'Note that for crude protein extracts, the specific activity attributable to PDE12 only, can be inferred by subtraction of the cellular endogenous activities (either DsRed or EV analyses) from total enzyme activities (PDE12 reactions).This paper presents a toolbox for characterization and identification of the nucleases and synthetases regulating cellular 2-5A levels'), (0.004756976247885916, 'The insert in (a) shows the structural formula of NAD + '), (0.004749289573096, 'The identification and exploration of cellular nucleases degrading 2-5As and 2-5A core molecules (the 5′-dephosphorylated forms of 2-5As), is currently ongoing'), (0.0047488815195708325, 'Both in terms of unavailability of free/reactive 5′ phosphates and the presence of a 2′ hydroxyl group, NAD + closely mimics the A(pA) 3 substrate'), (0.00473714367709908, 'Because dATP, as opposed to ATP is blocked for elongation/ acceptance of nucleotides due to an inert 2′ hydrogen atom, the dATP will only function in the donor-site of the enzymes'), (0.004729962149817801, 'For concentration of the oligoadenylates, the fractions of successive runs representing identical peaks were pooled and diluted 10 fold in Buffer C, in most cases resulting in total volumes of 1-2 l'), (0.004695483259939605, 'Like above, the reaction products have been resolved by HPLC using reverse-phased C 18 columns or by thin-layer chromatography with PEI-Cellulose.This paper comprises an assay toolbox for the characterization and identification of nucleases and synthetases regulating the 2-5A system'), (0.004683344815617335, 'The detection of a single peak at the expected retention volume, suggests that this a very homogenous preparation of the A(pA) 3 tetramer core'), (0.004643372766265643, 'Purity and concentration of the oligoadenylates were determined by application of small aliquots (~20 μl) to the Mono Q HR 16/10 column as described above'), (0.004630838067278337, 'The 200 mL reaction was then divided in two equal parts (100 mL each), one part for isolation of 2-5As and the other for isolation of 2-5A core molecules'), (0.004626647329667463, 'This suggests that the 2′-5′ nucleases must be localized in very close proximity to the sites of viral replication, in order to maintain tight regulation over the 2-5A system'), (0.004577818270160992, 'Our assays are well-suited for scientists aiming to identify and characterize the synthetases and nucleases regulating cellular 2-5A levels, but can also be used to address a broader cellular role of the enzymes by means of alternative substrates like dNTP and NAD + .Additional file 1: Figure S1 '), (0.004571379516882954, 'This was applied over night to the Mono Q HR 16/10 column using the inlet A of the ÄKTAexplorer chromatography system running at a constant flow rate of 1 mL/min'), (0.004557305312492653, 'Thus the OAS1 specific enzyme activities E2(OAS1) from these reactions were calculated with the formula:The 2-5A nuclease assayThe nuclease reactions were performed in a total volume of 20 μl containing 1.2 μg of purified recombinant PDE12ΔmTP-His or 10 μg of crude protein extract together with 0.5 mM of substrate, either A(pA) 3 , A(pA) 4 or A(pA) 5 '), (0.004527259463120384, 'The 2-5A core molecules were numbered according to length with 2 specifying the ApA dimer core, 3 the A(pA) 2 trimer core and so forth'), (0.004516157228879623, 'The 2-5A core molecules were produced by incubation of the 2-5As with alkaline phosphatase (100 U/mL) for 16 h at 37°C'), (0.004481399101631866, 'The assay requires prior isolation of the A(pA) 3 tetramer core'), (0.0044784227826199655, 'For the crude protein extracts, the contribution of normal cellular proteins to total enzyme activities, i.e'), (0.0044773059126604516, 'In the dNTP/NAD + assay demonstrated here, we chose to substitute the ATP with dNTPs to accommodate the need for a singleproduct assay'), (0.00447457998856777, 'The 2-5A core molecules are numbered according to length with 2 specifying the ApA dimer core, 3 the A(pA) 2 trimer core and so forth'), (0.004450644806719857, 'In the dATP/A(pA) 3 assay, human OAS1 p42 was found to produce the A(pA) 3 pdA pentamer product with a specific activity of 1.1 mmole/(sec*g)'), (0.004442767388074973, '2-5As versus 2-5A core molecules can also be deduced to hypothesize the exact cellular role of the proteins in question'), (0.004434879384667172, 'The 2′-5′ oligoadenylates are used as substrates in enzyme assays for measurement of synthetase and nuclease activities'), (0.004425239279168854, 'Background 5′-triphosphorylated, 2′-5′-linked oligoadenylate polyribonucleotides (2-5As) of the structure pppA(pA) n where n ≥ 1, are the key components of the interferon (IFN)induced antiviral 2-5A system'), (0.00441670491497187, 'The lysates were cleared by centrifugation at 20,000 × g for 3 min, and the supernatants containing the proteins stored at −80°C'), (0.004387724690462656, 'Two splice variants, p42 and p46 are the main products of the human OAS1 gene'), (0.004377660435360946, 'The day after, elution was performed by a step gradient to 50 % of Buffer D, allowing for highly concentrated fractions of the individual oligoadenylates'), (0.0043570772547417745, 'The purified human recombinant His-OAS1 enzyme was incubated with NAD + and dNTP (dATP, dCTP, dGTP or TTP) for 30 min at 37°C, and the reactants and product resolved using a HiTrap Q column'), (0.004354665886426403, 'For the present study, we used a His-tagged variant of PDE12 lacking the mTP (PDE12ΔmTP -His), which has previously been found not to alter the enzyme activity [23] '), (0.004350663536551324, 'This variant was used primarily due to the fact that expression and purification was easier compared with the full-length form.Briefly, recombinant human His-OAS1 p42 and PDE12ΔmTP-His were expressed using the E.coli BL21 (DE3) strain'), (0.0043499337932239425, 'We reproducibly obtained~1 mg of purified PDE12ΔmTP-His per liter of E.coli cell culture using this procedure.For protein analyses, aliquots of the purified His-OAS1 and PDE12ΔmTP-His recombinant proteins were heattreated at 95°C for 5 min in loading buffer containing β-mercaptoethanol, and then subjected to SDS-PAGE followed by staining with Coomassie Blue (Pierce).HeLa cells grown in DMEM (Gibco BRL/Life Technology) with 10 % FBS and 1 % Penicillin/Streptomycin (Gibco BRL/Life Technology) were transfected using the PolyFect Transfection Reagent (Qiagen)'), (0.004343584547382578, 'We carried out quantification based on the integral of the corresponding peaks following anion-exchange chromatography, whereas in [48] quantification was based on 4 pentamer core or (c) A(pA) 5 hexamer core for one hour at 37°C, and the products resolved by Mono Q chromatography'), (0.004324438722028854, 'The assays demonstrated here utilize the tetramer core A(pA) 3 , pentamer core A(pA) 4 and hexamer core A(pA) 5 substrates in reactions with the purified PDE12ΔmTP-His enzyme or HeLa cell protein extracts'), (0.004296706144843207, 'The cleared lysates were applied to Ni-NTA Superflow Cartridges (1 mL, Qiagen) using 300 mM of imidazole for elution, before fractionation of the eluates with a Mono Q HR 16/10 column (GE Healthcare) in a linear gradient of KCl to 500 mM'), (0.004294809949688519, 'Whereas the (A5′)p 4 (5′A)-pA(pA) 2 strongly inhibited protein synthesis at concentrations similar to the pppA(pA) 2 trimer, no effect was observed for the NAD + and ADP-ribose derivatives'), (0.0042898438042524994, 'The larger reaction volume are practical only because of the ion-exchange procedure used, where in practice, no limits exist for the sample injection volume.In Poulsen et al'), (0.004273842319889713, 'The (A5′)p 4 (5′A)-pA(pA) 2 could also activate RNase L in a rabbit reticulocyte lysate, which was not the case for the other derivatives'), (0.004264452100950049, 'By contrast, AKAP7 may have access to the 2′-5′ oligoadenylates based on its cellular localization and the fact that nuclear pores allow for diffusion of molecules between compartments'), (0.004263788359499352, 'Also, adenosine and the ApA core dimer were found to only weakly bind the resin under the experimental conditions used (running buffer: 20 mM Tris-HCl, pH 7.5)'), (0.004260064221424056, 'The synthetase assays were designed to produce a single reaction product only, allowing for precise kinetic assessment of the enzymes'), (0.004259742924851351, 'Our values are very close to that of the mouse enzyme however differ with one to three orders of magnitude from the bovine enzyme'), (0.004230666323126509, 'Even though these enzymes all degrade the 2′-5′ oligoadenylates in vitro, the evidence that they truly antagonize the 2-5A system in cells has yet to be reported'), (0.0042273588964466795, 'A procedure for isolating 2-5A 4 pentamer core or (c) the A(pA) 5 hexamer core for 1 h at 37°C, and the products resolved by Mono Q chromatography'), (0.0042258086522676055, 'Similarly, the A(pA) 3 will be committed to the acceptor-site due to a lack of 5′ phosphates'), (0.004215600651387628, 'In addition, the ns2 and VP3 proteins have been shown to antagonize the 2-5A pathway during viral infection by preventing RNase L activation, thereby evading the host innate immune response [21, 22] '), (0.0041770843057442565, '1d the elution profile obtained from concentration of the A(pA) 3 tetramer core is shown'), (0.0041614436821630595, 'The His-OAS1 eluted in the interval 10-70 %'), (0.004155704698382432, 'We obtained 17.2, 15.5 and 11.3 mg of the A(pA) 3 tetramer core, A(pA) 4 pentamer core and A(pA) 5 hexamer core starting from a 100 mL reaction volume, corresponding to 10.1, 9.1 and 6.6 mg of oligoadenylate synthesized per mg of human His-OAS1 used, respectively'), (0.004153177973496973, 'This was done by including a reaction of protein extracts from emptyvector (EV) transfected cells, and using this as the measure of cellular endogenous activity (purple curves in Fig'), (0.004143187685624016, 'Blue curves: The 2′-5′ oligoadenylates numbered according to length, hence 2 specify the pppApA (or ApA) dimer, 3 the pppA(pA) 2 (or A(pA) 2 ) trimer, 4 the pppA(pA) 3 (or A(pA) 3 ) tetramer and so forth'), (0.00413253958254766, 'The assays produce only a single reaction product, as opposed to the large panel of 2-5As formed using ATP as substrate'), (0.004122313784719674, 'Preparative fractionation of 2-5As and 2-5A core molecules were with the Mono Q HR 16/10 column using a linear gradient of 0-10 % and 10-30 % of Buffer D over 3.6 CV and 24 CV, respectively'), (0.0041146044784039085, 'Nevertheless, the total yields obtained by us are at least an order of magnitude higher, which can be ascribed to the large difference in reaction volume, i.e'), (0.004106410220625742, 'The 2-5As and 2-5A core molecules were then resolved by Mono Q chromatography, which resulted in high quality and quantity of many individual 2-5A molecules'), (0.0040911951063295916, '1b and c show how individual 2-5As and 2-5A core molecules up to and above the decamer length were successfully resolved'), (0.004072699627840371, 'Although the 2-5A system has only been described in vertebrates, orthologues of OAS exist throughout the evolutionary tree of life [38, 52] '), (0.004068017715045512, 'A homogenous preparation of the pppApA, the 2-5A dimer could not be obtained due to co-elution with ATP (see Fig'), (0.0040646913773870535, 'Please note that the activity chromatograms representing the EV (purple) and DsRed (yellow) controls in Fig'), (0.004039942122747113, 'Table 1 provides an overview of the specific enzyme activities calculated for PDE12, based on the reactions presented'), (0.004035306916622318, 'The ability of AKAP7 to restore infectivity of a mutant murine coronavirus carrying an inactivated variant of the ns2 gene has recently been investigated [20] '), (0.004009873031819709, 'The 2′ hydroxyl (OH) to be linked with dNMP during the reaction has been highlighted in red'), (0.003999113141944471, 'The chromatograms were obtained with 254 nm as the absorbance wavelength'), (0.003980413892201816, 'No endonucleases degrading 2-5As are currently known.To allow production of 2-5As as well as to develop and demonstrate the enzyme assays, recombinant OAS and PDE12 proteins were expressed and purified from bacteria'), (0.0039793464534276166, 'The analysis of 2-5A synthesis was carried using a Mono Q HR 5/5 column (GE Healthcare) on the ÄKTAexplorer'), (0.003977244197965046, 'Also two viral proteins, ns2 [21] and VP3 [22] belonging to the group 2a betacoronaviruses and group A rotaviruses, respectively, have been found to degrade the 2′-5′ oligoadenylates in vitro'), (0.003968422661130181, 'Immediate de-activation of RNase L is therefore required following viral infection, which can be achieved by either of two ways, (i) through the reversible binding of an RNase L inhibitor allowing for temporary inactivation, or (ii) by degradation of the activator 2-5As leading to persistent inactivation [17, 18] '), (0.003967442992347203, 'NAD + , a coenzyme present in all living cells is composed of two nucleotides one containing an adenine base (the 2′ nucleotide) and the other a nicotinamide base (Fig'), (0.003965943682322452, 'We reproducibly obtained~2 mg of purified His-OAS1 per liter of E.coli cell culture using this procedure.Human PDE12 stripped for the mitochondrial targeting peptide (mTP) and containing a C-terminal His-tag (PDE12ΔmTP-His) was cloned in the pTriEx-3 Neo expression vector (Novagen) allowing for bacterial, insect as well as mammalian expression'), (0.003947356259992495, 'Indeed the human His-OAS1 was found to produce NAD-dNMP derivatives albeit with variable efficiencies, resulting in nice and discrete peaks with retention volumes higher than NAD + and lower than the dNTPs (Fig'), (0.003941184570459705, 'The literature on how to resolve and concentrate individual 2-5A molecules from within a mixture is however limited, the best option currently available being the high-performance liquid chromatography (HPLC)-based method described by Morin et al'), (0.003935714274551045, 'Purified human recombinant His-OAS1 enzyme was incubated with dATP and A(pA) 3 for 30 min at 37°C, and the reactants and product resolved using a HiTrap Q column'), (0.0039232528153189975, 'The assays have been used primarily to define and characterize the reaction products, and are not well suited to determine enzyme kinetic parameters, which are most easily achieved based on reactions generating only a single product'), (0.003912963115123528, 'They are identical in their N-termini of 346 aa named the core OAS unit and differ in their Ctermini with extensions of 18 and 54 aa, respectively [5] '), (0.0038916890148090306, 'RNase L cleaves RNA 3′ to UN sequences, but mainly at UA and UU sites, N being any of the nucleotide bases in RNA, and this results in inhibition of viral replication [9] [10] [11] [12] '), (0.0038827787383943456, 'At present, three enzyme candidates exist: the phosphodiesterase 12 (PDE12) [18] , the ectonucleotide pyrophosphatase/phosphodiesterase 1 (ENPP1) [19] and the A-kinase anchoring protein 7 (AKAP7) [20] '), (0.00388237994895713, 'Therefore the activities obtained from different nucleases on a single substrate as well as for one nuclease on several substrates, are directly comparable provided that the conclusions will be based on the quantity of AMP generated'), (0.003865535507535131, 'We used mass spectrometry for the exact identification of the isolated 2′-5′ oligoadenylates.The single-product 2′-5′ oligo(adenylate) synthetase (OAS) assaysThe dATP/A(pA) 3 assay was carried out in a 40 μl reaction volume containing 32 ng of purified recombinant human His-OAS1 protein, 2 mM dATP and 0.5 mM A(pA) 3 in 10 mM Mg(OAc) 2 , 1 mM DTT, 0.1 mg/mL BSA, 0.2 mM EDTA, 0.4 mg/mL poly(I):poly(C), 10 % glycerol, 0.1 mg/ml Creatine Kinase, 6 mM Creatine phosphate and 20 mM Tris-HCl, pH 7.8 for 30 min at 37°C using a thermal cycler.The NAD + /dNTP assay was performed in a 40 μl reaction volume using 32 ng of purified recombinant human His-OAS1 protein, 2 mM dNTP (dATP, dCTP, dGTP or TTP, respectively) and 3 mM NAD + in 10 mM Mg(OAc) 2 , 1 mM DTT, 0.1 mg/mL BSA, 0.2 mM EDTA, 0.4 mg/mL poly(I):poly(C), 10 % glycerol, 0.1 mg/ml Creatine Kinase, 6 mM Creatine phosphate and 20 mM Tris-HCl, pH 7.8 for 1 h at 37°C using a thermal cycler.The reactions were stopped by heat shock at 94°C for 5 min before dilution with ddH 2 O (3.5 fold) and filtration through AcroPrep TM 10 K Filter Plates (Pall Corporation) by centrifugation at 3000 x g for 15 min'), (0.0038508464055721204, 'The reactants and products were resolved by anion-exchange chromatography using a HiTrap Q column and a gradient of increasing sodium chloride concentration'), (0.0038447590559875207, 'They rely on very short 2′-5′ oligoadenylate substrates, especially the 2-5A core dimer ApA, which despite being commercially available, is not biologically relevant in the sense that oligoadenylates of a minimum of three AMP moieties (i.e'), (0.0038367447965100155, 'The OASs are induced and activated by IFNs leading to nanomolar levels of 2-5As, which activate RNase L'), (0.0038332681700203406, 'The 2-5A core molecules finally accumulate to micromolar levels for transportation (or diffusion) by a yet to be defined mechanism to the mitochondrial matrix for degradation by PDE12'), (0.003780001461596947, '[23] , we described a model accounting for activation and deactivation of the 2-5A system following viral exposure based on tight regulation of 2-5As'), (0.003774847189280499, 'Processive enzymes on the other hand might catalyze the reactions to completion generating two reaction products exclusively: adenosine plus AMP for 2-5A core molecules and ATP plus AMP for 2-5As'), (0.003770333280398055, 'In comparison, the mice genome encodes multiple OAS genes: eight OAS1 genes, one each of the OAS2 and OAS3 genes and two OASL genes, believed to have arisen from duplication and divergence events from a common ancestral gene [7, 8] '), (0.0037496367990890577, 'either the inner mitochondrial membrane or the plasma membrane in order for degradation to take place'), (0.0037409632561934696, 'Briefly, BL21 (DE3) cells transformed with the above-mentioned construct were grown in selective LB medium and the expression induced with IPTG'), (0.0037400207158432386, 'This suggests that these conjugates may have functions not related to the 2-5A system and might be triggered by other stimuli.Enzyme measurements of 2-5A nucleases have mainly relied on short substrates unable to activate RNase L, which requires oligoadenylates of trimer length and above [18, [40] [41] [42] [43] [44] '), (0.0037392161833710975, 'The filtrates were analyzed on a Mono Q HR 5/5 column on an ÄKTAexplorer using a linear gradient of 0-12 % and 12-16 % of Buffer D in C over 18 CV and 20 CV, respectively'), (0.003734950162679673, 'Blue curves: Profiles from reactions in which the enzyme was used, and red curves: Profiles from reactions where the enzyme was omitted'), (0.00372964597534091, 'At least six OAS isoforms are expressed from these four human genes: two splice variants from the OAS1 and OAS2 genes and a single variant from each of the OASL and OAS3 genes [5, 6] '), (0.003729564973104685, '5 closely overlap (as expected), and thus cannot be discerned in the figure.The levels of high molecular weight products are higher than low molecular weight products, e.g'), (0.003718703083175284, 'The distributive cleavage of 2′-5′ oligoadenylates by PDE12 can be described with a single cleavage event conforming to the reaction scheme: (p) x A(pA) n → (p) x A(pA) n-1 + AMP, where x = [0, 1, 2 or 3], n ≥ 1, implying that substrates can be processed until n = 1'), (0.003701752593241996, '[15] , showing that NAD + and ATP are used with equal efficiencies when part of the same reaction'), (0.0036998242611203853, 'mAU, milli-absorbance unit and mS/cm, milliSiemens/centimeter the densitometric scans of dots (molecules) resolved by thin-layer chromatography.In the dNTP/NAD + assay, human OAS1 p42 was found to produce NAD-dNMP derivatives with specific activities of 0.2 mmole/(sec*g) for NAD-pdA, 0.1 mmole/(sec*g) for NAD-pdC, 0.02 mmole/(sec*g) for NAD-pdG and 0.1 mmole/(sec*g) for NAD-pT'), (0.003697267224711628, 'The OAS2 and OAS3 can also produce oligomers of considerable length'), (0.003694303348918661, 'The substrate and products were resolved by Mono Q chromatography'), (0.0036932428873967236, 'The reactions were set up using a single 2′-5′ oligoadenylate substrate, which are combined with a (candidate) nuclease and incubated for a given amount of time'), (0.003692343195064209, 'The cells were harvested by centrifugation at 7000 rpm for 20 min at 4°C and ruptured using the B-PER Protein Extraction Reagent (0.5 mL/g dry weight, Thermo Scientific)'), (0.003683815404136403, 'For PDE12 and ENPP1, the 2′-5′ oligoadenylates therefore need to traverse a membrane, i.e'), (0.003680417866282977, 'The following reaction scheme describes this mode of catalysis: (p) x A(pA) n → (p) x A + nAMP, where x = [0, 1, 2 or 3] and n ≥ 1'), (0.003661433442952843, 'human and bovine proteins share 92 % similarity at the amino acid level), immediately suggests that assay-dependent factors and not variation in protein sequence may have caused the observed difference [18] '), (0.003657101782644532, 'We hypothesize that regulation of 2-5As in cells is tightly controlled and orchestrated by multiple nucleases and phosphatases, some of which remains to be identified.Chemical-as well as enzyme-based strategies have been used to synthesize 2-5As'), (0.0036473869245511998, 'The reactions were incubated for 1 h at 37°C using a thermal cycler, and stopped by heating to 94°C for 5 min'), (0.003630066716191577, 'Compared with the controls dATP or A(pA) 3 only, the product A(pA) 3 pdA exhibited a retention volume higher than A(pA) 3 and lower than dATP, and formed a discrete peak (Fig'), (0.003628777394081419, 'The BCA Protein Assay Kit (Pierce) was used for determination of the protein concentrations.In 200 mL reactions, 17 μg/mL of human His-OAS1 was incubated with 2 mM ATP, 4 mM Mg(OAc) 2 , 0.2 mM DTT, 40 μM EDTA, 0.2 mg/mL Poly(I)-Poly(C), 0.1 mg/mL BSA, 2 % glycerol and 4 mM Tris-Cl pH 7.8 for 3 h at 37°C [45] '), (0.0036242413801881685, 'In the time span 20-90 min, ATP was added every 10 min to sequentially increase the ATP concentration by 1 mM ending with with a final concentration of 10 mM'), (0.003624102488675715, 'All the chromatographic procedures were carried using 254 nm as the absorbance wavelength'), (0.0036169549114478, 'Based on cellular localization, one could then assign distinct roles to the individual forms in the pathway'), (0.003595906883464917, 'The assay should also work for exploration of putative 5′-phosphatases converting 2-5As to 2-5A core molecules using a 2-5A molecule as substrate'), (0.0035804760926238543, 'Importantly, neither of the conjugates were detected naturally in mouse L cells even after IFNstimulation and virus infection'), (0.0035700350615725835, 'The fact that PDE12 is conserved throughout the mammalian lineage (e.g'), (0.0035645452048975977, 'The OAS1 variant used here is the human p42 form cloned with an N-terminal His-tag fusion (His-OAS1).The mitochondrial localization of human PDE12 is facilitated by an N-terminal mitochondrial targeting peptide (mTP) spanning residues 1-16'), (0.003558711820345652, 'Also, the reaction products have mainly been resolved by HPLC using reverse-phased C 18 columns or thin-layer chromatography with PEI-Cellulose, in which the former has been used for production purposes'), (0.0035473572188719407, 'tRNA, Ap 4 A, Ap 3 A)'), (0.0035473572188719407, '[51] )'), (0.0035473572188719407, '3a, inset) '), (0.0035473572188719407, '1a '), (0.003528378947765362, 'mAU, milli-absorbance unit and mS/cm, milliSiemens/centimeter protein (dsRed), to ascertain if substrate degradation is specific to PDE12, or simply is the result of overexpressing a protein (DsRed, yellow curves in Fig'), (0.003512376541008387, 'In the donor-site, all nucleoside-triphosphates (NTPs) as well as deoxy-nucleoside-triphosphates (dNTPs) can be used, N specifying the nucleotide bases in DNA and RNA'), (0.0035054413039512142, 'Amongst others, we present an enzyme assay using the A(pA) 3 tetramer core and dATP as substrates in producing a A(pA) 3 pdA pentameric product'), (0.003504174337945301, 'Upon binding of viral dsRNA, the OAS enzymes synthesize 2-5As from ATP leading to accumulation of 2-5As'), (0.0034933683490836124, 'A procedure for isolating 2′-5′ oligoadenylates is described, which results in high yields and purity of many 2-5As and 2-5A core molecules'), (0.0034931931678465946, 'The chromatograms for purified protein (PDE12ΔmTP-His) are shown in Fig'), (0.003482624941278791, 'Contrary, the nuclease assays produced a mixture of 2-5A molecules, which were resolved by chromatography'), (0.003470721234126745, 'Therefore,Ã start Â 4 Â 0:02 Â 10 −3 l 3600 s x Â 1:2 x 10 −6 g we synthesized the 2′-5′ oligoadenylates by enzymatic means using the His-OAS1 p42 variant in large-scale reactions with ATP'), (0.0034580655777783705, 'Here we present an alternative to this procedure, which can be used to obtain highly pure 2-5As and 2-5A core molecules at the milligram scale.A variety of 2′-5′ oligo(adenylate) synthetase activity assays have been devised, which generally rely on ATP as substrate [4, 15, [37] [38] [39] '), (0.0034537885158295247, 'The porcine OAS1 used by them exhibited a conversion rate of 33.5, 124.9, 53.5, 10.7 and 1.4 mg of oligoadenylate production per mg OAS1, respectively'), (0.003450435826434565, 'For analysis of the samples 20 μl of filtrate was applied to a HiTrap Q column (1 mL, GE Healthcare) and fractionated with a stepwise linear gradient of 0-9 %, 9-17 %, 17-17.7 %, 17.7-22 %, 22-100 % of Buffer D in C over 3 mL, 54 mL, 20 mL, 50 mL and 6 mL, respectively'), (0.0034476309567844517, 'The cells were harvested by centrifugation, and ruptured by sonication and highpressure homogenization'), (0.0034473146988569943, 'The end-reactions were diluted in Buffer C (15 fold) and applied to AcroPrep 10 K Filter Plates by centrifugation at 3000 × g for 15 min'), (0.003436170716321645, 'A 200 μL aliquot was applied to the column equilibrated in Buffer C (20 mM Tris-HCl, pH 7.5) and fractionated in a linear gradient of 0-20 % and 20-22.8 % of Buffer D (1 M NaCl, 20 mM Tris-HCl pH 7.5) using 18 column volumes (CV) and 50 CV, respectively'), (0.003432141801448754, 'This correlates with the fact that PDE12 has been described as a 2′-5′ exonuclease producing 5′-AMP during each reaction cycle, which is temporally separated by dissociation and re-binding of substrates (i.e'), (0.0034127415431748002, 'Note that NAD + was initially demonstrated to be a preferred primer over ATP for the OASs, producing mainly NAD + derivatives such as NAD-pA in reactions of both substrates [49] '), (0.003411156895982856, 'The substrates used were: (a) NAD + and dATP, (b) NAD + and dCTP, (c) NAD + and dGTP and (d) NAD + and TTP'), (0.0034099345964692784, 'At OD 600 = 0.6, the cultures were added IPTG to a final concentration of 1 mM and left for overnight incubation at 20°C at 200 rpm to allow protein expression'), (0.0034041967045029395, 'endogenous activities versus total enzyme activities, need to be distinguished to precisely map the activity specific to the expressed recombinant protein'), (0.0033797096386221966, 'These enzymes might be expected to fulfill other cellular roles from that of the 2-5A system'), (0.003376617743914086, 'Plasmids were the PDE12ΔmTP-His construct in pTriEx-3 Neo, redfluorescent protein (DsRed) also in pTriEx-3 Neo and as a control the empty pTriEx-3 Neo vector'), (0.0033765646067512034, 'With the recent discovery of novel cellular nucleases (ENPP1 and AKAP7) as well as virally encoded nucleases (ns2 and VP3), this process however might prove to be more complex than hitherto expected (readers are referred to a recent review by Silverman et al'), (0.0033559455140073392, 'We also present a synthetase assay using NAD + and either dATP, dCTP, dGTP or dTTP as substrates for the OAS enzyme'), (0.003343075414868848, 'The activities measured for purified human PDE12ΔmTP-His and PDE12ΔmTP-His in HeLa cell protein extracts are listed in Table 1 '), (0.0033210204646885026, 'Consequently, the single A(pA) 3 pdA product formed is blocked for further 2′ elongation by incorporation of dAMP'), (0.0032951300092686, 'The fractions containing PDE12ΔmTP-His were finally pooled and diluted with one volume of 80 % glycerol before storage at −80°C'), (0.003285163089335082, 'Variations may also result from the approach used to quantify reactants and products'), (0.003284492470009073, '2-5As compared with the single product A(pA) 3 pdA formed in our assay'), (0.0032572747117023747, 'This has been studied for the NAD + , ADP-ribose and (A5′)p 4 (5′A) derivatives [49] '), (0.003232902759976754, 'before dilution) was converted to less than 3 mL (~70 fold concentration of the molecule)'), (0.0032306286340507574, '1e , an aliquot of the final concentrated sample was resolved by Mono Q chromatography to confirm molecular purity'), (0.0031925604954318424, 'Note that the above formulas are valid only to enzymes producing one molecule of AMP per reaction cycle, which is true for exonucleases like PDE12'), (0.0031735163038001924, 'This figure has been reproduced from [19] with courtesy of Biochimie, Elsevier molecules is described along with enzyme assays using purified OAS and PDE12 recombinant enzymes.Measurements of OAS enzyme activity have traditionally been assayed using ATP as substrate producing a mixture of 2-5A molecules [4, 15, 37, 39] '), (0.003156516270118733, 'The specific enzyme activity of PDE12 has previously been determined [41, 50] '), (0.0031542112488470862, '1.4 mg pr mg enzyme of hexamers), whereas the enzymes used by Morin et al'), (0.0031496962523956873, 'Our enzyme produced higher yields of the longer oligomers (6.6 mg vs'), (0.003086389373426582, 'The elution was carried out in a gradient of Buffer B (20 mM Na 2 PO 4 , 0.5 M NaCl, 500 mM imidazole, pH 7.4): a step gradient from 0 to 10 % B, a linear gradient from 10 to 70 % B in 10 mL and a step gradient from 70 to 100 % B'), (0.0030784199606114595, 'For instance, using NAD + , ADP-ribose and (A5′)p 4 (5′A) in reactions with ATP, the enzymes readily produce NAD-pA(pA) 2 , ADPribose-pA(pA) 2 and (A5′)p 4 (5′A)-pA(pA) 2 conjugates, respectively [49] '), (0.0030774177304366524, 'Purification of OAS1 p42 was done by Ni 2+ -chromatography in one step, and purification of PDE12ΔmTP-His was done in two steps, Ni 2+ -chromatography and quaternary (Q) anion-exchange chromatography'), (0.003069925065341954, 'produced higher yields of the smaller oligomers (53.5 mg vs'), (0.0030652657335993438, 'Upon binding of cognate receptors, they induce numerous intracellular signaling cascades, leading to transcriptional activation of several hundred genes, which altogether determine the biological outcome involving antiviral, antitumoral, and immunomodulatory effects [1] [2] [3] [4] '), (0.0030532743225396035, 'Chromatograms were obtained by using 254 nm as the absorbance wavelength'), (0.0030409827383676797, 'The OASs actually combines a broad range of substrates (not only ATP) to form 2′-5′ heterooligonucleotides in vitro, thus they are better described as general 2′-5′-nucleotidyl transferases [14, 15] '), (0.0030384386575445337, 'Analysis of purified recombinant proteins by SDS-PAGE and Coomassie Blue staining.OASs: 2′-5′ oligoadenylate synthetases; PDE12: Phosphodiesterase 12; 2-5As: 5′triphosphorylated, 2′-5′-linked oligoadenylate polyribonucleotides; 2-5A core molecules: 5′-dephosphorylated forms of 2-5As; ENPP1: Ectonucleotide pyrophosphatase/phosphodiesterase 1; AKAP7: A-kinase anchoring protein 7; NAD + : Nicotinamide adenine dinucleotide.The authors declare that they have no competing interests.'), (0.0030355140834327377, 'The specific enzyme activities were calculated to be 0.2 mmole/(sec*g) for NAD-pdA; 0.1 mmole/(sec*g) for NAD-pdC; 0.02 mmole/(sec*g) for NAD-pdG and 0.1 mmole/(sec*g) for NAD-pT.To be able to better identify and characterize nucleases regulating cellular 2-5A levels we have developed a simple 2′-5′ nuclease assay'), (0.0030234206533631403, 'Chromatograms were obtained with 254 nm as the absorbance wavelength'), (0.0030234206533631394, 'Chromatograms were obtained with 254 nm as the absorbance wavelength'), (0.003007655866689713, 'The requirements on the acceptor-site is a 2′-end positioned AMP linked in an RpA configuration, where R specifies either ATP, nicotinamide adenine dinucleotide (NAD + ), or oligomeric or polymeric primers (e.g'), (0.002980829952275352, 'The lysates were cleared by centrifugation at 12,000 rpm for 10 min at 4°C and diluted four-fold in Buffer A (20 mM Na 2 PO 4 , 0.5 M NaCl, pH 7.4) before filtration (0.22 μM)'), (0.002980718729410084, 'Our assays produce only a single reaction product allowing a precise kinetic assessment of the enzymes'), (0.0029711353841559746, 'The single-product dNTP/NAD + assay (or modifications hereof ) could be used to more broadly address properties of enzymes exhibiting 2′-5′-nucleotidyl transferase activity'), (0.0029707487441095037, 'The conversion from 2-5As into 2-5A core molecules was performed by treatment with alkaline phosphatase'), (0.0029606606283506874, 'Indeed our estimates are higher, which may reflect the different sources of OAS used, i.e'), (0.002951155955795399, 'for degradation of A(pA) 5 hexamer core the level of products are: pentamer core > tetramer core > trimer core > dimer core > adenosine (Figs'), (0.002927087064979631, 'Also 5′-phosphatases trimming 2-5As to 2-5A core molecules might take play in degradation of 2′-5′ oligoadenylates in cells'), (0.0029198580267590915, '4 and 5 )'), (0.0029134050305722643, 'The conjugates were firstly screened for an ability to inhibit protein synthesis in an encephalomyocarditis-RNA-programmed tumour cell-free system'), (0.0028960461523705947, '[34] obtained 0.27, 1.01, 0.43, 0.09 and 0.01 mg of the pppA(pA) dimer, pppA(pA) 2 trimer, pppA(pA) 3 tetramer, pppA(pA) 4 pentamer and pppA(pA) 5 hexamer in their HPLC-based method starting from a 1 mL reaction volume, respectively'), (0.0028659458162104906, 'For instance, the purified bovine sample appeared very crude as analyzed by SDS-PAGE silver staining, whereas ours was nearly free of contaminants'), (0.002854102101164394, 'Note that regardless of the degradation mechanism (distributive versus processive), one molecule of AMP is produced per cleavage event assuming that degradation is mediated by an exonuclease activity'), (0.0028297088486138058, '4 and for HeLa cell protein extracts in Fig'), (0.0028108763489253473, 'Synthesis of 2-5As was performed with a human OAS1 isoform known to produce oligomers up to 30mers in vitro [5] '), (0.0027996915178799945, 'This difference (5-6 fold) might result from the lower estimate being based on formation of multiple products, i.e'), (0.002785867486106929, 'Similar assays using rabbit OAS1 in reactions with NAD + and NTPs (ATP, GTP, UTP and CTP, respectively) have previously been conducted yielding specific activities of 0.0009 mmole/(sec*g) for NAD-pA, 0.0005 mmole/(sec*g) for NAD-pG, 0.0009 mmole/(sec*g) for NAD-pU and 0.0008 mmole/(sec*g) for NAD-pC [15] '), (0.002766175179515166, 'Importantly, the above synthetase assays are applicable also to crude extracts, e.g'), (0.0027426893944567056, 'An estimate of 0.2 mmole/(sec*g) on formation of 2-5As using ATP as substrate has previously been determined for human OAS1 p42 [48] '), (0.002729941784958598, 'The reaction can be summarized as follows: dATP + A(pA) 3 → A(pA) 3 pdA + PPi'), (0.002677975085535425, 'Expression and purification of OAS1 isoforms are straightforward compared with OAS2'), (0.002677029528799616, 'Red and green curves: Control reactions after incubation of His-OAS1 with either NAD + or dNTP alone, respectively'), (0.0026315260834955875, 'Whether this is true, or the (A5′)p 4 (5′A)-pA(pA) 2 conjugate inhibited protein synthesis by another mechanism, was not determined'), (0.0026118347942061504, 'One gene family induced by IFNs is the double-stranded RNA-dependent 2′-5′ oligoadenylate synthetases (dsRNA-dependent OASs) in humans comprising four members, OAS1, OAS2, OAS3 and OAS-like (OASL)'), (0.0026117753793753217, 'human versus rabbit, the strategy undertaken for analyzing product formation, i.e'), (0.002605218065220887, 'The reaction sample was heatinactivated at 85°C for 15 min before filtration (0.45 μm)'), (0.0025699129810362346, 'anion-exchange chromatography versus thin-layer chromatography, or simply that we have used dNTPs over NTPs in the reactions'), (0.0025693765750642644, 'Blue curve: Profile from a reaction using His-OAS1 with dATP and A(pA) 3 as substrates'), (0.002496443727926041, 'Protein expression and purification were carried out as described in [23] '), (0.0023996565287631075, 'Elution fractions were finally mixed with one volume of 80 % glycerol and stored at −80°C'), (0.002387848319356932, '2 Single-product OAS assay using dATP and A(pA) 3 as substrates'), (0.002384561140598816, 'Red and green curves: Control reactions using His-OAS1 together with dATP or A(pA) 3 alone, respectively'), (0.00237336012397245, 'Blue curves: Profiles from reactions using His-OAS1 together with NAD + and dNTP'), (0.002361348800013608, 'This is based on experiments showing accumulation of 2-5A core molecules over 2-5As in cells upon viral infection [30, 31] '), (0.0023449325409326907, 'OAS2 has been found to produce oligoadenylates of similar length as OAS1 [5] , whereas OAS3 can produce oligoadenylates of at least 12mer length [46, 47] '), (0.0023122133114425974, 'Red curve in (a): Chromatogram obtained using control molecules: Adenosine, 5′-AMP, 5′-ADP and 5′-ATP as indicated'), (0.0022977138538824177, 'mg enzyme of tetramers)'), (0.002258136500116832, 'The reactions also contained 1 mM MgCl 2 , 1 mM DTT, 1 mg/mL BSA, 1x protease inhibitor (EDTA-free, Roche Applied Science) and 20 mM Hepes, pH 7.0'), (0.002233709208006537, '3 Single-product OAS assay using dNTPs and NAD + as substrates'), (0.0022189629771127324, 'Despite PDE12, ENPP1 and AKAP7 degrades 2′-5′ oligoadenylates in vitro their importance during viral infection, has yet to be reported'), (0.0022014663722938147, 'Isolated fractions were of high homogeneity as evaluated by Coomassie Blue stained SDS-PAGE protein gels (Additional file 1: Figure S1 ).Compared with 3′-5′ phosphodiester-linked oligonucleotides, 2-5As are difficult to attain chemically'), (0.002111936542630527, 'These 2-5As in turn activate RNase L, an endoRNase degrading viral and cellular RNA'), (0.0020459049318854155, '15.200 for dATP, 9.300 for dCTP, 13.700 for dGTP and 9.600 for TTP'), (0.0020454786646964015, 'IFNs are extracellular cytokines specific to (jawed) vertebrates and central to host innate immunity'), (0.002039241647825526, 'OAS1 and PDE12 recombinant proteins'), (0.0020261128594144607, 'In Fig'), (0.0020261128594144602, 'In Fig'), (0.0020245766460682208, 'trimer) containing 5′ phosphate(s) are required for activation of RNase L [44] '), (0.0019658959820188626, 'Brown curves: experimental salt gradients'), (0.0019658959820188626, 'Brown curves: Experimental salt gradients'), (0.0019658959820188626, 'Brown curves: Experimental salt gradients'), (0.0019658959820188626, 'Brown curves: Experimental salt gradients'), (0.0019595998499419287, 'Whereas chemical synthesis is cumbersome being reported in an eight-step procedure [32] , enzyme-mediated synthesis is easier and done using purified OASs [14, [33] [34] [35] [36] '), (0.0019473493887548657, 'Using this procedure, we have obtained very high yields of many individual 2′-5′ oligoadenylates'), (0.0019394112903309388, '1b) '), (0.0018939570146646301, 'Here a starting volume of~200 mL (i.e'), (0.0018679338746706998, 'Unknown 5′-phosphatases convert cytotoxic 2-5As to less cytotoxic 2-5A core molecules simultaneously with viral RNA degradation by 2-5A-activated RNase L'), (0.0018068390271250034, 'Note that each figure (a-c) includes four superimposed chromatograms: blue curves PDE12, yellow curves DsRed, purple curves EV and green curves -'), (0.0016959103599093748, 'For concentration determination, ATP was used as an internal control'), (0.001693657617917696, '[34] versus 100 mL in our case'), (0.0016765483657224893, 'mAU, milli-absorbance unit and mS/cm, milliSiemens/centimeter Fig'), (0.0016068724551802055, '1 mL in Morin et al'), (0.0016066538200732927, 'Brown curve: Experimental salt gradient'), (0.0015823257516608966, 'mAU, milli-absorbance unit and mS/cm, milliSiemens/centimeter'), (0.0015658124136549206, 'We also carried out a reaction with protein extracts from HeLa cells overexpressing an irrelevant Fig'), (0.0014909277541503732, 'Protein purification was with a HiTrap Chelating HP column (1 mL, GE Healthcare) charged with 0.1 M NiSO 4 using an ÄKTAexplorer chromatography system (GE Healthcare)'), (0.001477070408346611, 'In comparison, Morin et al'), (0.0014004500115257941, 'Protein expression was carried out for 24 h, before lysis with 1 % NP40, 0.5 M CH 3 COOK added 2× Complete protease inhibitor cocktail (Roche)'), (0.001274054991077142, 'This result was however contradicted by Ferbus et al'), (0.0012664394547669399, 'Each figure (a-c) includes two chromatograms that were superimposed'), (0.0012145844134220018, '[34] '), (0.001180664522052517, 'These molecules were thus detected 3 )'), (0.001167592507021843, 'Each figure (a-d) includes three chromatograms that have been superimposed'), (0.0011138825014488961, 'Likewise, many 2-5A nuclease assays have been reported [18, [40] [41] [42] [43] '), (0.001042543720253514, 'bacterial or mammalian cell protein extracts (data not shown)'), (0.001033669714539486, 'Different controls were included'), (0.001000489246575145, 'Fig'), (0.0009807120063320097, 'How exactly this would occur remains unknown, though processes like receptor-mediated transport or diffusion may be involved'), (0.0009661080132776074, 'a distributive enzyme) [19] '), (0.0009190105921651885, '17.2 mg pr'), (0.0005321035828307911, '5) '), (0.0005321035828307911, '5 )'), (0.0005321035828307911, '5 '), (0.0005321035828307911, '3) '), (0.0005321035828307911, '3) '), (0.0005321035828307911, '2) ')]\n"
          ],
          "name": "stdout"
        }
      ]
    },
    {
      "cell_type": "code",
      "metadata": {
        "id": "kDTCRPqD1Rt7",
        "colab_type": "code",
        "outputId": "9cc92507-d5c0-427b-9f80-0512c50962b7",
        "colab": {
          "base_uri": "https://localhost:8080/",
          "height": 72
        }
      },
      "source": [
        "ranked_sentence[1]"
      ],
      "execution_count": 52,
      "outputs": [
        {
          "output_type": "execute_result",
          "data": {
            "text/plain": [
              "(0.006155112816624812,\n",
              " 'The specific activity of PDE12 (mole 5′-AMP synthesized per second per gram of protein (mole AMP/(sec*g)) was calculated with the formula:Total 254nm refers to the sum of the integral of all peaks in a given chromatogram at 254 nm for a single reaction, [A(pA) n ] start is the start concentration of the substrate A(pA) n, V is the reaction volume, T the reaction time and M the amount of protein added.As an example, the tetramer core substrate would be expected to undergo cleavage into the following products using PDE12 as the enzyme:In the case of purified protein, the specific enzyme activity of PDE12, E(PDE12) could therefore be calculated using the formula:For reactions including crude protein extracts, the specific enzyme activities were calculated in mmole AMP/ (sec*g of total protein)')"
            ]
          },
          "metadata": {
            "tags": []
          },
          "execution_count": 52
        }
      ]
    },
    {
      "cell_type": "code",
      "metadata": {
        "id": "dABtqTpT1tJq",
        "colab_type": "code",
        "outputId": "fd35132f-c06d-49a6-d776-e4a73e323f21",
        "colab": {
          "base_uri": "https://localhost:8080/",
          "height": 124
        }
      },
      "source": [
        "for i in range(5):\n",
        "  print(ranked_sentence[i][1])"
      ],
      "execution_count": 53,
      "outputs": [
        {
          "output_type": "stream",
          "text": [
            "The chromatograms were obtained using 254 nm as the absorbance wavelength.The enzyme activity reaction catalyzed by OAS can be formulated with the general formula below, in which S1 and S2 are the substrates and P the product formed: S1 þ S2 → P E, the specific activity of the enzyme (mole P generated per second per gram protein) can be calculated from the equation:[S2] start is the start conc of S2, V is the reaction volume, M is the amount of protein added and T is the reaction time.The reaction schemes for the two kinds of OAS activities measured in this paper are depicted in reaction 1 and reaction 2, respectively.In reaction 1, the specific activity of the OAS1 enzyme (E1(OAS1) with dATP and A(pA) 3 as substrates (S1 and S2, respectively) was calculated with the formula:The integral refers to the area under the individual peaks from the substrates and products in the chromatograms.Reaction 2: dNTP + NAD + → NAD − pdN In reaction 2, dNTP (dATP, dCTP, dGTP or TTP) and NAD + were used as substrates (S1 and S2, respectively) in reactions with the OAS1 enzyme\n",
            "The specific activity of PDE12 (mole 5′-AMP synthesized per second per gram of protein (mole AMP/(sec*g)) was calculated with the formula:Total 254nm refers to the sum of the integral of all peaks in a given chromatogram at 254 nm for a single reaction, [A(pA) n ] start is the start concentration of the substrate A(pA) n, V is the reaction volume, T the reaction time and M the amount of protein added.As an example, the tetramer core substrate would be expected to undergo cleavage into the following products using PDE12 as the enzyme:In the case of purified protein, the specific enzyme activity of PDE12, E(PDE12) could therefore be calculated using the formula:For reactions including crude protein extracts, the specific enzyme activities were calculated in mmole AMP/ (sec*g of total protein)\n",
            "Note that despite of binding dsRNA and ATP, the human OASL is catalytically inactive due to key mutations in the active site compared with the other OAS isoforms [13] .2-5A catalysis generally proceeds by hydrolysis of the phosphoanhydride linking the α and β phosphates of ATP when bound in the so-called donor-site of the enzymes resulting in pyrophosphate (PPi) and AMP, which is subsequently linked to the free 2′-OH group of a second ATP molecule or a 2-5A molecule placed in the acceptor-site of the enzymes [6] \n",
            "Accordingly, such presence of contaminants would inevitable lower the overall enzyme activities by a factor proportional to the amount of impurities versus PDE12 protein in the sample.The described procedure has been used for isolation of 2-5As and 2-5A core molecules up to and above decamer length\n",
            "The individual 2-5As and 2-5A core molecules were subsequently concentrated in three steps, by a 10 fold dilution of the samples in running buffer to reduce the overall sodium chloride content, re-application of the molecules to the Mono Q column and elution by a step-gradient of 0.5 M sodium chloride\n"
          ],
          "name": "stdout"
        }
      ]
    },
    {
      "cell_type": "markdown",
      "metadata": {
        "id": "DMO3TY5o3wmX",
        "colab_type": "text"
      },
      "source": [
        "**XXXXXXXXXXXXXXXXXXXXXXXXXXXXXXXXXXXXXXXXXXXXXXXXXXXXXXXX**"
      ]
    },
    {
      "cell_type": "markdown",
      "metadata": {
        "id": "HFY59r-aAm6d",
        "colab_type": "text"
      },
      "source": [
        "##**TF-IDF**"
      ]
    },
    {
      "cell_type": "code",
      "metadata": {
        "id": "IiID75gVN5ap",
        "colab_type": "code",
        "colab": {}
      },
      "source": [
        "tf_vectorizer=TfidfVectorizer()\n",
        "tf =tf_vectorizer.fit_transform (df_k2.text)"
      ],
      "execution_count": 0,
      "outputs": []
    },
    {
      "cell_type": "code",
      "metadata": {
        "id": "di1GCEKM3dKW",
        "colab_type": "code",
        "outputId": "b57dbd3d-fbac-4468-97f5-e57135f20a2f",
        "colab": {
          "base_uri": "https://localhost:8080/",
          "height": 52
        }
      },
      "source": [
        "tf"
      ],
      "execution_count": 55,
      "outputs": [
        {
          "output_type": "execute_result",
          "data": {
            "text/plain": [
              "<287x1406 sparse matrix of type '<class 'numpy.float64'>'\n",
              "\twith 5917 stored elements in Compressed Sparse Row format>"
            ]
          },
          "metadata": {
            "tags": []
          },
          "execution_count": 55
        }
      ]
    },
    {
      "cell_type": "code",
      "metadata": {
        "id": "ksUuy4wK31U0",
        "colab_type": "code",
        "colab": {}
      },
      "source": [
        "doc_tf_matrix = tf.todense()\n",
        "df2 = pd.DataFrame(doc_tf_matrix)"
      ],
      "execution_count": 0,
      "outputs": []
    },
    {
      "cell_type": "code",
      "metadata": {
        "id": "ubGzbVEqQ25m",
        "colab_type": "code",
        "outputId": "9c93a141-3d57-477d-c4a2-54f0c4698533",
        "colab": {
          "base_uri": "https://localhost:8080/",
          "height": 139
        }
      },
      "source": [
        "doc_tf_matrix"
      ],
      "execution_count": 57,
      "outputs": [
        {
          "output_type": "execute_result",
          "data": {
            "text/plain": [
              "matrix([[0., 0., 0., ..., 0., 0., 0.],\n",
              "        [0., 0., 0., ..., 0., 0., 0.],\n",
              "        [0., 0., 0., ..., 0., 0., 0.],\n",
              "        ...,\n",
              "        [0., 0., 0., ..., 0., 0., 0.],\n",
              "        [0., 0., 0., ..., 0., 0., 0.],\n",
              "        [0., 0., 0., ..., 0., 0., 0.]])"
            ]
          },
          "metadata": {
            "tags": []
          },
          "execution_count": 57
        }
      ]
    },
    {
      "cell_type": "code",
      "metadata": {
        "id": "j0SUhE5b6pak",
        "colab_type": "code",
        "colab": {}
      },
      "source": [
        "embedding2 = umap.UMAP(n_components=2, metric='euclidean').fit(tf)"
      ],
      "execution_count": 0,
      "outputs": []
    },
    {
      "cell_type": "code",
      "metadata": {
        "id": "D3mFL2M4A_OR",
        "colab_type": "code",
        "outputId": "5f743082-7d9c-4f91-d488-b5f16bec2d38",
        "colab": {
          "base_uri": "https://localhost:8080/",
          "height": 139
        }
      },
      "source": [
        "clusterer.fit(embedding2.embedding_)"
      ],
      "execution_count": 82,
      "outputs": [
        {
          "output_type": "execute_result",
          "data": {
            "text/plain": [
              "HDBSCAN(algorithm='best', allow_single_cluster=False, alpha=1.0,\n",
              "        approx_min_span_tree=True, cluster_selection_epsilon=0.0,\n",
              "        cluster_selection_method='eom', core_dist_n_jobs=4,\n",
              "        gen_min_span_tree=True, leaf_size=40,\n",
              "        match_reference_implementation=False, memory=Memory(location=None),\n",
              "        metric='euclidean', min_cluster_size=20, min_samples=None, p=None,\n",
              "        prediction_data=True)"
            ]
          },
          "metadata": {
            "tags": []
          },
          "execution_count": 82
        }
      ]
    },
    {
      "cell_type": "markdown",
      "metadata": {
        "id": "GpTVr6xisz9b",
        "colab_type": "text"
      },
      "source": [
        "**IT FOUND 0 CLUSTERS -- ALL OUTLIERS**"
      ]
    },
    {
      "cell_type": "code",
      "metadata": {
        "id": "Xs_tGdbcsKW9",
        "colab_type": "code",
        "outputId": "ec272acc-6a7d-47f7-ec09-6667082fd946",
        "colab": {
          "base_uri": "https://localhost:8080/",
          "height": 35
        }
      },
      "source": [
        "clusterer.labels_.max()"
      ],
      "execution_count": 83,
      "outputs": [
        {
          "output_type": "execute_result",
          "data": {
            "text/plain": [
              "-1"
            ]
          },
          "metadata": {
            "tags": []
          },
          "execution_count": 83
        }
      ]
    },
    {
      "cell_type": "code",
      "metadata": {
        "id": "SZahRY3H6NqU",
        "colab_type": "code",
        "colab": {
          "base_uri": "https://localhost:8080/",
          "height": 283
        },
        "outputId": "5c9918af-0dc4-4eb4-953f-43761d9706bf"
      },
      "source": [
        "palette = sns.color_palette()\n",
        "cluster_colors = [sns.desaturate(palette[col], sat)\n",
        "                  if col >= 0 else (0.5, 0.5, 0.5) for col, sat in\n",
        "                  zip(clusterer.labels_, clusterer.probabilities_)]\n",
        "plt.scatter(embedding.embedding_.T[0],embedding.embedding_.T[1], c=cluster_colors)"
      ],
      "execution_count": 84,
      "outputs": [
        {
          "output_type": "execute_result",
          "data": {
            "text/plain": [
              "<matplotlib.collections.PathCollection at 0x7f8349942898>"
            ]
          },
          "metadata": {
            "tags": []
          },
          "execution_count": 84
        },
        {
          "output_type": "display_data",
          "data": {
            "image/png": "[encoded data removed]",
            "text/plain": [
              "<Figure size 432x288 with 1 Axes>"
            ]
          },
          "metadata": {
            "tags": [],
            "needs_background": "light"
          }
        }
      ]
    },
    {
      "cell_type": "code",
      "metadata": {
        "colab_type": "code",
        "outputId": "7aefe374-ae8a-4f50-b097-c3dfe4da1693",
        "id": "6BPtsRZF7TnL",
        "colab": {
          "base_uri": "https://localhost:8080/",
          "height": 283
        }
      },
      "source": [
        "sns.scatterplot(embedding2.embedding_[:, 0],embedding2.embedding_[:, 1])"
      ],
      "execution_count": 85,
      "outputs": [
        {
          "output_type": "execute_result",
          "data": {
            "text/plain": [
              "<matplotlib.axes._subplots.AxesSubplot at 0x7f83499959e8>"
            ]
          },
          "metadata": {
            "tags": []
          },
          "execution_count": 85
        },
        {
          "output_type": "display_data",
          "data": {
            "image/png": "[encoded data removed]",
            "text/plain": [
              "<Figure size 432x288 with 1 Axes>"
            ]
          },
          "metadata": {
            "tags": [],
            "needs_background": "light"
          }
        }
      ]
    },
    {
      "cell_type": "code",
      "metadata": {
        "id": "Fs6Mr6fe680k",
        "colab_type": "code",
        "outputId": "91e358a5-c414-4db5-af0c-fe7aabfadf55",
        "colab": {
          "base_uri": "https://localhost:8080/",
          "height": 265
        }
      },
      "source": [
        "f = plt.hist(embedding2.embedding_)"
      ],
      "execution_count": 86,
      "outputs": [
        {
          "output_type": "display_data",
          "data": {
            "image/png": "[encoded data removed]",
            "text/plain": [
              "<Figure size 432x288 with 1 Axes>"
            ]
          },
          "metadata": {
            "tags": [],
            "needs_background": "light"
          }
        }
      ]
    },
    {
      "cell_type": "code",
      "metadata": {
        "id": "vnkoOPcx4qBd",
        "colab_type": "code",
        "colab": {}
      },
      "source": [
        "cost=cosine_similarity(df2.values,df2.values)"
      ],
      "execution_count": 0,
      "outputs": []
    },
    {
      "cell_type": "code",
      "metadata": {
        "id": "d3PY4J6Y4aAx",
        "colab_type": "code",
        "colab": {}
      },
      "source": [
        " sentence_similarity_graph=nx.from_numpy_matrix(cost)\n",
        " scores = nx.pagerank(sentence_similarity_graph)"
      ],
      "execution_count": 0,
      "outputs": []
    },
    {
      "cell_type": "code",
      "metadata": {
        "id": "nw5KwmN5xbAc",
        "colab_type": "code",
        "colab": {}
      },
      "source": [
        "  ranked_sentence = sorted(((scores[i],s) for i,s in enumerate(k2)), reverse=True)"
      ],
      "execution_count": 0,
      "outputs": []
    },
    {
      "cell_type": "code",
      "metadata": {
        "id": "dyNNe1r227Aw",
        "colab_type": "code",
        "colab": {
          "base_uri": "https://localhost:8080/",
          "height": 107
        },
        "outputId": "2aa02eb7-e9a2-4ce8-ea05-48e8926659b6"
      },
      "source": [
        "  ranked_sentence = sorted(((scores[i],s) for i,s in enumerate(k2)), reverse=True)   \n",
        "  print(' ') \n",
        "  print(' ')\n",
        "  print('ranked sentences',ranked_sentence)\n",
        "  print(\"Indexes of top ranked_sentence order are \", ranked_sentence) "
      ],
      "execution_count": 65,
      "outputs": [
        {
          "output_type": "stream",
          "text": [
            " \n",
            " \n",
            "ranked sentences [(0.007270650467458789, 'The chromatograms were obtained using 254 nm as the absorbance wavelength.The enzyme activity reaction catalyzed by OAS can be formulated with the general formula below, in which S1 and S2 are the substrates and P the product formed: S1 þ S2 → P E, the specific activity of the enzyme (mole P generated per second per gram protein) can be calculated from the equation:[S2] start is the start conc of S2, V is the reaction volume, M is the amount of protein added and T is the reaction time.The reaction schemes for the two kinds of OAS activities measured in this paper are depicted in reaction 1 and reaction 2, respectively.In reaction 1, the specific activity of the OAS1 enzyme (E1(OAS1) with dATP and A(pA) 3 as substrates (S1 and S2, respectively) was calculated with the formula:The integral refers to the area under the individual peaks from the substrates and products in the chromatograms.Reaction 2: dNTP + NAD + → NAD − pdN In reaction 2, dNTP (dATP, dCTP, dGTP or TTP) and NAD + were used as substrates (S1 and S2, respectively) in reactions with the OAS1 enzyme'), (0.007133029756502054, 'The specific activity of PDE12 (mole 5′-AMP synthesized per second per gram of protein (mole AMP/(sec*g)) was calculated with the formula:Total 254nm refers to the sum of the integral of all peaks in a given chromatogram at 254 nm for a single reaction, [A(pA) n ] start is the start concentration of the substrate A(pA) n, V is the reaction volume, T the reaction time and M the amount of protein added.As an example, the tetramer core substrate would be expected to undergo cleavage into the following products using PDE12 as the enzyme:In the case of purified protein, the specific enzyme activity of PDE12, E(PDE12) could therefore be calculated using the formula:For reactions including crude protein extracts, the specific enzyme activities were calculated in mmole AMP/ (sec*g of total protein)'), (0.006617498925990159, 'Of the three substrates utilized here: A(pA) 3 tetramer core, A(pA) 4 pentamer core and A(pA) 5 hexamer core, a total of 17.2, 15.5 and 11.3 mg were obtained corresponding to 10.1, 9.1 and 6.6 mg of oligoadenylate per mg human His-OAS1 used in the reaction, respectively.We have developed a number of OAS enzyme assays using the isolated oligoadenylates as well as NAD + as substrates'), (0.005778124869031514, \"We calculated the specific enzyme activity of the human OAS1 p42 for production of A(pA) 3 pdA to be 1.1 mmole/(sec*g).We also made additional set-ups and optimized the assay using alternative 'acceptor' and 'donor' molecules as substrates for the OAS (Fig\"), (0.005630750316045508, 'The fact that all reactants and products are negatively charged at physiological pH allow for fractionation by anionexchange chromatography.For demonstrating the assay we incubated the purified human His-OAS1 with the substrates dATP and A(pA) 3 and allowed the reaction to proceed for 30 min'), (0.005597354080514704, 'Note that despite of binding dsRNA and ATP, the human OASL is catalytically inactive due to key mutations in the active site compared with the other OAS isoforms [13] .2-5A catalysis generally proceeds by hydrolysis of the phosphoanhydride linking the α and β phosphates of ATP when bound in the so-called donor-site of the enzymes resulting in pyrophosphate (PPi) and AMP, which is subsequently linked to the free 2′-OH group of a second ATP molecule or a 2-5A molecule placed in the acceptor-site of the enzymes [6] '), (0.005592603528015303, 'This allows for a more precise kinetic assessment of the enzymes.In the first assay, the A(pA) 3 tetramer core and the deoxy-nucleotide dATP were used as substrates in formation of a pentameric product, A(pA) 3 pdA'), (0.005493248435397675, 'The chromatograms were obtained with 254 nm as the absorbance wave-length.For the PDE12 activity assay the following reaction scheme was used:n ≥ 1 and m ≥ 0'), (0.00546547819902482, 'We obtained 17.2, 15.5 and 11.3 mg of the A(pA) 3 tetramer core, A(pA) 4 pentamer core and A(pA) 5 hexamer core starting from a 100 mL reaction volume, corresponding to 10.1, 9.1 and 6.6 mg of oligoadenylate synthesized per mg of human His-OAS1 used, respectively'), (0.00537920379344829, 'Thus the OAS1 specific enzyme activities E2(OAS1) from these reactions were calculated with the formula:The 2-5A nuclease assayThe nuclease reactions were performed in a total volume of 20 μl containing 1.2 μg of purified recombinant PDE12ΔmTP-His or 10 μg of crude protein extract together with 0.5 mM of substrate, either A(pA) 3 , A(pA) 4 or A(pA) 5 '), (0.005352832084722962, '2-5As and 2-5A core molecules are easily resolved by ion-exchange chromatography, making this assay straightforward.The single-product dATP/A(pA) 3 assay can be used to precisely map and characterize the activities of the individual OAS isoforms'), (0.005340220680488406, 'Accordingly, such presence of contaminants would inevitable lower the overall enzyme activities by a factor proportional to the amount of impurities versus PDE12 protein in the sample.The described procedure has been used for isolation of 2-5As and 2-5A core molecules up to and above decamer length'), (0.005332521396052316, 'The mouse enzyme was found to exhibit a specific activity of~20*10 −3 mmole/(sec*g) of 5′-AMP using the ApA dimer as substrate, and the bovine enzyme an activity of~0.02*10 −3 mmole/(sec*g) of 5′-AMP using the A(pA) 2 trimer as substrate'), (0.005259553053268161, 'The purified human recombinant His-OAS1 enzyme was incubated with NAD + and dNTP (dATP, dCTP, dGTP or TTP) for 30 min at 37°C, and the reactants and product resolved using a HiTrap Q column'), (0.005222509836837228, 'In the dATP/A(pA) 3 assay, human OAS1 p42 was found to produce the A(pA) 3 pdA pentamer product with a specific activity of 1.1 mmole/(sec*g)'), (0.005212122804530032, 'The assays demonstrated here utilize the tetramer core A(pA) 3 , pentamer core A(pA) 4 and hexamer core A(pA) 5 substrates in reactions with the purified PDE12ΔmTP-His enzyme or HeLa cell protein extracts'), (0.00520762221012911, 'Purified human recombinant His-OAS1 enzyme was incubated with dATP and A(pA) 3 for 30 min at 37°C, and the reactants and product resolved using a HiTrap Q column'), (0.005037415266492737, 'The individual 2-5As and 2-5A core molecules were subsequently concentrated in three steps, by a 10 fold dilution of the samples in running buffer to reduce the overall sodium chloride content, re-application of the molecules to the Mono Q column and elution by a step-gradient of 0.5 M sodium chloride'), (0.005036532890569062, 'This is in line with the diverse substrate specificity identified for the mammalian OASs, which may be a reminiscence of the evolutionary past [15] .Here we have described some enzyme assays suitable for identification and characterization of the synthetases and nucleases regulating cellular 2-5A levels'), (0.0050359606394172135, 'In this figure two chromatograms have been superimposed, the 2-5A reaction mix (blue curve) and the control molecules (red curve): adenosine, 5′-AMP, 5′-ADP and 5′-ATP, in order to visually distinguish the reaction products (2-5As) from the ATP substrate'), (0.0049796827352779835, 'A procedure for isolating 2-5A 4 pentamer core or (c) the A(pA) 5 hexamer core for 1 h at 37°C, and the products resolved by Mono Q chromatography'), (0.004962677223893284, 'The assays might help take our understanding of the 2-5A system one step further, by serving as a platform upon which new discoveries can be made.In this paper, we have described assays for the synthetases and nucleases regulating cellular 2-5A levels including a procedure to obtain high levels of individual 2-5As and 2-5A core molecules'), (0.004945095905518223, 'Consequently, we substituted the A(pA) 3 substrate with NAD + and carried out the reactions with all of the dNTPs (dATP, dCTP, dGTP and TTP) separately, which should allow for synthesis of single-product NAD-dNMP derivatives'), (0.004942164497021837, 'Note that for crude protein extracts, the specific activity attributable to PDE12 only, can be inferred by subtraction of the cellular endogenous activities (either DsRed or EV analyses) from total enzyme activities (PDE12 reactions).This paper presents a toolbox for characterization and identification of the nucleases and synthetases regulating cellular 2-5A levels'), (0.004908579231008764, 'Conversion of the (A5′)p 4 (5′A)-pA(pA) 2 conjugate to the pppA(pA) 2 trimer was proposed as a possible way for activation of RNase L in the lysate, thereby also explaining the observation of inhibition of protein synthesis'), (0.004791124569817771, 'The 2′-5′ oligoadenylates are used as substrates in enzyme assays for measurement of synthetase and nuclease activities'), (0.004787558580882033, 'We used mass spectrometry for the exact identification of the isolated 2′-5′ oligoadenylates.The single-product 2′-5′ oligo(adenylate) synthetase (OAS) assaysThe dATP/A(pA) 3 assay was carried out in a 40 μl reaction volume containing 32 ng of purified recombinant human His-OAS1 protein, 2 mM dATP and 0.5 mM A(pA) 3 in 10 mM Mg(OAc) 2 , 1 mM DTT, 0.1 mg/mL BSA, 0.2 mM EDTA, 0.4 mg/mL poly(I):poly(C), 10 % glycerol, 0.1 mg/ml Creatine Kinase, 6 mM Creatine phosphate and 20 mM Tris-HCl, pH 7.8 for 30 min at 37°C using a thermal cycler.The NAD + /dNTP assay was performed in a 40 μl reaction volume using 32 ng of purified recombinant human His-OAS1 protein, 2 mM dNTP (dATP, dCTP, dGTP or TTP, respectively) and 3 mM NAD + in 10 mM Mg(OAc) 2 , 1 mM DTT, 0.1 mg/mL BSA, 0.2 mM EDTA, 0.4 mg/mL poly(I):poly(C), 10 % glycerol, 0.1 mg/ml Creatine Kinase, 6 mM Creatine phosphate and 20 mM Tris-HCl, pH 7.8 for 1 h at 37°C using a thermal cycler.The reactions were stopped by heat shock at 94°C for 5 min before dilution with ddH 2 O (3.5 fold) and filtration through AcroPrep TM 10 K Filter Plates (Pall Corporation) by centrifugation at 3000 x g for 15 min'), (0.004786896640411707, 'The position of the reactants and product are indicated in the chromatograms'), (0.004727165873112636, 'The 2-5A core molecules were produced by incubation of the 2-5As with alkaline phosphatase (100 U/mL) for 16 h at 37°C'), (0.0047145500607736245, 'Here the extinction coefficients, ε (M −1 × cm −1 ) of the individual dNTPs at 254 nm were used in the calculation of the specific enzyme activities, i.e'), (0.004664670635991602, 'This assay is well-suited to assess the broader cellular role expected of the OASs, based on the very diverse substrate specificity in vitro.Human OAS1 p42 containing an N-terminal His-tag (His-OAS1) cloned in the pET9d bacterial expression vector was a kind gift from Kineta (formerly Illumigen Biosciences).The plasmid was transformed into the E.coli BL21 (DE3) strain and plated on selective LB agar (50 μg/mL ampicillin), followed by inoculation of single colonies to selective LB medium for incubation at 37°C for 16 h at 200 rpm'), (0.004644046374449205, 'This is possible through use of a creatine kinase system applied in the reaction buffer, which continuously regenerates dATP from the dADP and dAMP inhibitors formed during the reaction.The OASs have been found to join a variety of oligoadenylates and derivatives in vitro'), (0.004592171742069642, 'Like above, the reaction products have been resolved by HPLC using reverse-phased C 18 columns or by thin-layer chromatography with PEI-Cellulose.This paper comprises an assay toolbox for the characterization and identification of nucleases and synthetases regulating the 2-5A system'), (0.004591023330217998, 'The 200 mL reaction was then divided in two equal parts (100 mL each), one part for isolation of 2-5As and the other for isolation of 2-5A core molecules'), (0.004563676525620744, 'The 2-5A core molecules were numbered according to length with 2 specifying the ApA dimer core, 3 the A(pA) 2 trimer core and so forth'), (0.004544476886811776, 'The 2-5As and 2-5A core molecules were then resolved by Mono Q chromatography, which resulted in high quality and quantity of many individual 2-5A molecules'), (0.004533802915215043, 'Our assays are well-suited for scientists aiming to identify and characterize the synthetases and nucleases regulating cellular 2-5A levels, but can also be used to address a broader cellular role of the enzymes by means of alternative substrates like dNTP and NAD + .Additional file 1: Figure S1 '), (0.004526686029121188, 'This was done by including a reaction of protein extracts from emptyvector (EV) transfected cells, and using this as the measure of cellular endogenous activity (purple curves in Fig'), (0.004514356311670459, 'mAU (milli-absorbance unit) is the unit used for molecular detection at 254 nm, and mS/cm (milliSiemens/centimeter) the unit used to measure conductivities before application of the experimental salt gradient used for separation, but after the void volume of the column'), (0.004511505195335544, 'The 2-5A core molecules are numbered according to length with 2 specifying the ApA dimer core, 3 the A(pA) 2 trimer core and so forth'), (0.0045001249215338, 'For the purified protein, a reaction omitting the enzyme was used to measure the extent to which the substrate might undergo autohydrolysis'), (0.004490127572723774, 'The batch of synthesised 2-5As was subsequently split in two parts, one part for isolation of 2-5As and the other for isolation of 2-5A core molecules'), (0.004482376091963508, 'The 2-5A nuclease assay demonstrated here is suitable for identification and characterization of enzyme candidates involved in the cellular degradation of 2′-5′ oligoadenylates'), (0.004464954779515294, 'Preparative fractionation of 2-5As and 2-5A core molecules were with the Mono Q HR 16/10 column using a linear gradient of 0-10 % and 10-30 % of Buffer D over 3.6 CV and 24 CV, respectively'), (0.004461979468129513, 'Furthermore, the assay was optimized to resolve all the reactants and products by anion-exchange chromatography, which allows the direct usage of the peak integrals for calculation of enzyme activities'), (0.0044552950370578895, 'This figure has been reproduced from [19] with courtesy of Biochimie, Elsevier molecules is described along with enzyme assays using purified OAS and PDE12 recombinant enzymes.Measurements of OAS enzyme activity have traditionally been assayed using ATP as substrate producing a mixture of 2-5A molecules [4, 15, 37, 39] '), (0.004441968782499824, 'We carried out quantification based on the integral of the corresponding peaks following anion-exchange chromatography, whereas in [48] quantification was based on 4 pentamer core or (c) A(pA) 5 hexamer core for one hour at 37°C, and the products resolved by Mono Q chromatography'), (0.004427268785500406, 'It was found that a mislocalized version of AKAP7 present in the cytoplasm could restore the infectivity of the mutant virus, which was not the case for the fulllength protein localized in the nucleus'), (0.004427112672977539, 'The sample injection volume were~10 mL for each of the fractionations, therefore the method was repeated several times in order to obtain separation of the entire reaction volume of 200 mL'), (0.004402597246904722, 'mAU, milli-absorbance unit and mS/cm, milliSiemens/centimeter the densitometric scans of dots (molecules) resolved by thin-layer chromatography.In the dNTP/NAD + assay, human OAS1 p42 was found to produce NAD-dNMP derivatives with specific activities of 0.2 mmole/(sec*g) for NAD-pdA, 0.1 mmole/(sec*g) for NAD-pdC, 0.02 mmole/(sec*g) for NAD-pdG and 0.1 mmole/(sec*g) for NAD-pT'), (0.0043843926353139525, 'Consequently, wide uncertainty exists as to i) which enzymes take part in 2-5A degradation in cells, ii) what are the contribution offered by each of the enzymes to the process, iii) do the enzymes have a preferred cellular substrate and iv) what are the interplay between cellular and viral nucleases during infection'), (0.004370042767637577, 'We used oligoadenylates of tetramer length and above in our assays, thereby increasing the significance with regard to the 2-5A system'), (0.0043592314959616275, 'The efficiency of the reaction was assessed by Q anion-exchange chromatography, and the resulting chromatogram can be seen in Fig'), (0.004358838250058523, 'Amongst others, we present an enzyme assay using the A(pA) 3 tetramer core and dATP as substrates in producing a A(pA) 3 pdA pentameric product'), (0.00433103916318209, 'No endonucleases degrading 2-5As are currently known.To allow production of 2-5As as well as to develop and demonstrate the enzyme assays, recombinant OAS and PDE12 proteins were expressed and purified from bacteria'), (0.004316110278301248, 'We hypothesize that regulation of 2-5As in cells is tightly controlled and orchestrated by multiple nucleases and phosphatases, some of which remains to be identified.Chemical-as well as enzyme-based strategies have been used to synthesize 2-5As'), (0.0043074830994316434, 'The assays produce only a single reaction product, as opposed to the large panel of 2-5As formed using ATP as substrate'), (0.004304461345113014, 'This variant was used primarily due to the fact that expression and purification was easier compared with the full-length form.Briefly, recombinant human His-OAS1 p42 and PDE12ΔmTP-His were expressed using the E.coli BL21 (DE3) strain'), (0.004284380874809952, 'We reproducibly obtained~1 mg of purified PDE12ΔmTP-His per liter of E.coli cell culture using this procedure.For protein analyses, aliquots of the purified His-OAS1 and PDE12ΔmTP-His recombinant proteins were heattreated at 95°C for 5 min in loading buffer containing β-mercaptoethanol, and then subjected to SDS-PAGE followed by staining with Coomassie Blue (Pierce).HeLa cells grown in DMEM (Gibco BRL/Life Technology) with 10 % FBS and 1 % Penicillin/Streptomycin (Gibco BRL/Life Technology) were transfected using the PolyFect Transfection Reagent (Qiagen)'), (0.004257815112070909, 'The identification and exploration of cellular nucleases degrading 2-5As and 2-5A core molecules (the 5′-dephosphorylated forms of 2-5As), is currently ongoing'), (0.004248375266599812, 'The following general reaction scheme apply to the varied enzyme capabilities of the OASs: RpA + (d)NTP → PPi + RpA-(d)NMP in which the incorporation of AMP prompts for oligoadenylate synthesis by means of multiple 2′ elongation events (the other NMPs and dNMPs make up single incorporation events only).Due to low sequence specificity, RNase L degrades cellular RNA and prolonged activation results in an antiproliferative response leading to apoptosis [9] [10] [11] 16] '), (0.004236655385003147, 'Purity and concentration of the oligoadenylates were determined by application of small aliquots (~20 μl) to the Mono Q HR 16/10 column as described above'), (0.00420291961880071, '1b and c show how individual 2-5As and 2-5A core molecules up to and above the decamer length were successfully resolved'), (0.004200279104068544, 'A procedure for isolating 2′-5′ oligoadenylates is described, which results in high yields and purity of many 2-5As and 2-5A core molecules'), (0.004199517856713076, 'Here we present an alternative to this procedure, which can be used to obtain highly pure 2-5As and 2-5A core molecules at the milligram scale.A variety of 2′-5′ oligo(adenylate) synthetase activity assays have been devised, which generally rely on ATP as substrate [4, 15, [37] [38] [39] '), (0.004172626383200379, 'The substrates used were: (a) NAD + and dATP, (b) NAD + and dCTP, (c) NAD + and dGTP and (d) NAD + and TTP'), (0.00415384141005615, 'We reproducibly obtained~2 mg of purified His-OAS1 per liter of E.coli cell culture using this procedure.Human PDE12 stripped for the mitochondrial targeting peptide (mTP) and containing a C-terminal His-tag (PDE12ΔmTP-His) was cloned in the pTriEx-3 Neo expression vector (Novagen) allowing for bacterial, insect as well as mammalian expression'), (0.004126221227135696, 'This suggests that these conjugates may have functions not related to the 2-5A system and might be triggered by other stimuli.Enzyme measurements of 2-5A nucleases have mainly relied on short substrates unable to activate RNase L, which requires oligoadenylates of trimer length and above [18, [40] [41] [42] [43] [44] '), (0.004122212294734581, 'We also present a synthetase assay using NAD + and either dATP, dCTP, dGTP or dTTP as substrates for the OAS enzyme'), (0.004115770383132285, 'The assays have been used primarily to define and characterize the reaction products, and are not well suited to determine enzyme kinetic parameters, which are most easily achieved based on reactions generating only a single product'), (0.004115617106712081, 'The chromatograms for purified protein (PDE12ΔmTP-His) are shown in Fig'), (0.004107691870497069, 'The BCA Protein Assay Kit (Pierce) was used for determination of the protein concentrations.In 200 mL reactions, 17 μg/mL of human His-OAS1 was incubated with 2 mM ATP, 4 mM Mg(OAc) 2 , 0.2 mM DTT, 40 μM EDTA, 0.2 mg/mL Poly(I)-Poly(C), 0.1 mg/mL BSA, 2 % glycerol and 4 mM Tris-Cl pH 7.8 for 3 h at 37°C [45] '), (0.004098520066743574, 'The chromatograms were obtained with 254 nm as the absorbance wavelength'), (0.004097248265146343, 'For instance, using NAD + , ADP-ribose and (A5′)p 4 (5′A) in reactions with ATP, the enzymes readily produce NAD-pA(pA) 2 , ADPribose-pA(pA) 2 and (A5′)p 4 (5′A)-pA(pA) 2 conjugates, respectively [49] '), (0.004085058788304645, '2-5As versus 2-5A core molecules can also be deduced to hypothesize the exact cellular role of the proteins in question'), (0.0040762871167481125, 'Blue curve: Profile from a reaction using His-OAS1 with dATP and A(pA) 3 as substrates'), (0.004069008124528953, 'The detection of a single peak at the expected retention volume, suggests that this a very homogenous preparation of the A(pA) 3 tetramer core'), (0.004067519743719997, 'Whereas the (A5′)p 4 (5′A)-pA(pA) 2 strongly inhibited protein synthesis at concentrations similar to the pppA(pA) 2 trimer, no effect was observed for the NAD + and ADP-ribose derivatives'), (0.004054488337914934, 'Blue curves: The 2′-5′ oligoadenylates numbered according to length, hence 2 specify the pppApA (or ApA) dimer, 3 the pppA(pA) 2 (or A(pA) 2 ) trimer, 4 the pppA(pA) 3 (or A(pA) 3 ) tetramer and so forth'), (0.004040717022876639, 'For the present study, we used a His-tagged variant of PDE12 lacking the mTP (PDE12ΔmTP -His), which has previously been found not to alter the enzyme activity [23] '), (0.004036771529950961, '2 Single-product OAS assay using dATP and A(pA) 3 as substrates'), (0.004032015625393667, 'This was applied over night to the Mono Q HR 16/10 column using the inlet A of the ÄKTAexplorer chromatography system running at a constant flow rate of 1 mL/min'), (0.004017302142762229, 'For concentration of the oligoadenylates, the fractions of successive runs representing identical peaks were pooled and diluted 10 fold in Buffer C, in most cases resulting in total volumes of 1-2 l'), (0.003998020692384629, 'In the dNTP/NAD + assay demonstrated here, we chose to substitute the ATP with dNTPs to accommodate the need for a singleproduct assay'), (0.0039820293363429194, 'Note that NAD + was initially demonstrated to be a preferred primer over ATP for the OASs, producing mainly NAD + derivatives such as NAD-pA in reactions of both substrates [49] '), (0.003974995457825243, 'The substrate and products were resolved by Mono Q chromatography'), (0.003971838917603062, '4 and 5 )'), (0.003964601939575836, 'Therefore the activities obtained from different nucleases on a single substrate as well as for one nuclease on several substrates, are directly comparable provided that the conclusions will be based on the quantity of AMP generated'), (0.003958520748893607, 'The 2-5A core molecules finally accumulate to micromolar levels for transportation (or diffusion) by a yet to be defined mechanism to the mitochondrial matrix for degradation by PDE12'), (0.0039580911763925026, 'The (A5′)p 4 (5′A)-pA(pA) 2 could also activate RNase L in a rabbit reticulocyte lysate, which was not the case for the other derivatives'), (0.0039393287602625515, 'Because dATP, as opposed to ATP is blocked for elongation/ acceptance of nucleotides due to an inert 2′ hydrogen atom, the dATP will only function in the donor-site of the enzymes'), (0.003934205661949705, 'In the figure, three separate chromatograms have been superimposed with the position of the respective molecules indicated'), (0.003930911904034423, '2-5As are mainly produced in the cytosol (and to some extend in the nucleus), which is also the site of viral replication [26] [27] [28] [29] '), (0.00392646349564911, 'The distributive cleavage of 2′-5′ oligoadenylates by PDE12 can be described with a single cleavage event conforming to the reaction scheme: (p) x A(pA) n → (p) x A(pA) n-1 + AMP, where x = [0, 1, 2 or 3], n ≥ 1, implying that substrates can be processed until n = 1'), (0.003923452049516603, 'Compared with the controls dATP or A(pA) 3 only, the product A(pA) 3 pdA exhibited a retention volume higher than A(pA) 3 and lower than dATP, and formed a discrete peak (Fig'), (0.0039228521500249145, 'The synthetase assays were designed to produce a single reaction product only, allowing for precise kinetic assessment of the enzymes'), (0.003906910715572852, 'The cleared lysates were applied to Ni-NTA Superflow Cartridges (1 mL, Qiagen) using 300 mM of imidazole for elution, before fractionation of the eluates with a Mono Q HR 16/10 column (GE Healthcare) in a linear gradient of KCl to 500 mM'), (0.0039014888265771503, 'For the crude protein extracts, the contribution of normal cellular proteins to total enzyme activities, i.e'), (0.0038965553572977763, 'mAU, milli-absorbance unit and mS/cm, milliSiemens/centimeter protein (dsRed), to ascertain if substrate degradation is specific to PDE12, or simply is the result of overexpressing a protein (DsRed, yellow curves in Fig'), (0.003883488223908243, 'The assay should also work for exploration of putative 5′-phosphatases converting 2-5As to 2-5A core molecules using a 2-5A molecule as substrate'), (0.0038763122395700264, 'Our values are very close to that of the mouse enzyme however differ with one to three orders of magnitude from the bovine enzyme'), (0.0038725738374265992, 'The specific enzyme activities were calculated to be 0.2 mmole/(sec*g) for NAD-pdA; 0.1 mmole/(sec*g) for NAD-pdC; 0.02 mmole/(sec*g) for NAD-pdG and 0.1 mmole/(sec*g) for NAD-pT.To be able to better identify and characterize nucleases regulating cellular 2-5A levels we have developed a simple 2′-5′ nuclease assay'), (0.003870548098051355, 'The varied set of products produced by the OASs in vitro therefore naturally raises the question if the OASs might retain other biological functions than that related to the 2-5A system'), (0.0038611626826004497, '2-5As compared with the single product A(pA) 3 pdA formed in our assay'), (0.0038577554700866827, 'Blue curves: Profiles from reactions in which the enzyme was used, and red curves: Profiles from reactions where the enzyme was omitted'), (0.0038568345345085108, 'Indeed the human His-OAS1 was found to produce NAD-dNMP derivatives albeit with variable efficiencies, resulting in nice and discrete peaks with retention volumes higher than NAD + and lower than the dNTPs (Fig'), (0.003831911532598016, 'This suggests that the 2′-5′ nucleases must be localized in very close proximity to the sites of viral replication, in order to maintain tight regulation over the 2-5A system'), (0.003828971364752033, 'The preferred substrates of the enzymes, i.e'), (0.0038122061928272523, 'Nevertheless, the total yields obtained by us are at least an order of magnitude higher, which can be ascribed to the large difference in reaction volume, i.e'), (0.00379913001527898, 'An estimate of 0.2 mmole/(sec*g) on formation of 2-5As using ATP as substrate has previously been determined for human OAS1 p42 [48] '), (0.0037728703793365845, 'The reactants and products were resolved by anion-exchange chromatography using a HiTrap Q column and a gradient of increasing sodium chloride concentration'), (0.003755445030998471, 'Also, the reaction products have mainly been resolved by HPLC using reverse-phased C 18 columns or thin-layer chromatography with PEI-Cellulose, in which the former has been used for production purposes'), (0.0037477378155292545, 'Chromatograms were obtained by using 254 nm as the absorbance wavelength'), (0.0037439303612882262, '1d the elution profile obtained from concentration of the A(pA) 3 tetramer core is shown'), (0.0037208384160075554, 'The lysates were cleared by centrifugation at 20,000 × g for 3 min, and the supernatants containing the proteins stored at −80°C'), (0.0037149879913844657, 'The day after, elution was performed by a step gradient to 50 % of Buffer D, allowing for highly concentrated fractions of the individual oligoadenylates'), (0.0037069878347324517, 'Immediate de-activation of RNase L is therefore required following viral infection, which can be achieved by either of two ways, (i) through the reversible binding of an RNase L inhibitor allowing for temporary inactivation, or (ii) by degradation of the activator 2-5As leading to persistent inactivation [17, 18] '), (0.003695091075647143, 'Even though these enzymes all degrade the 2′-5′ oligoadenylates in vitro, the evidence that they truly antagonize the 2-5A system in cells has yet to be reported'), (0.0036909636201228157, 'Processive enzymes on the other hand might catalyze the reactions to completion generating two reaction products exclusively: adenosine plus AMP for 2-5A core molecules and ATP plus AMP for 2-5As'), (0.003666926343284891, 'Contrary, the nuclease assays produced a mixture of 2-5A molecules, which were resolved by chromatography'), (0.0036619240095410927, 'for degradation of A(pA) 5 hexamer core the level of products are: pentamer core > tetramer core > trimer core > dimer core > adenosine (Figs'), (0.0036489512144926577, 'Also 5′-phosphatases trimming 2-5As to 2-5A core molecules might take play in degradation of 2′-5′ oligoadenylates in cells'), (0.0036365479283136624, 'This correlates with the fact that PDE12 has been described as a 2′-5′ exonuclease producing 5′-AMP during each reaction cycle, which is temporally separated by dissociation and re-binding of substrates (i.e'), (0.0036278898833288476, 'PDE12 is localized in the mitochondrial matrix [23] , ENPP1 in the plasma membrane with its active site pointing towards the extracellular matrix [24] and AKAP7 in the nucleus of cells [25] '), (0.00362680508927212, 'The filtrates were analyzed on a Mono Q HR 5/5 column on an ÄKTAexplorer using a linear gradient of 0-12 % and 12-16 % of Buffer D in C over 18 CV and 20 CV, respectively'), (0.0036240017702182372, '3 Single-product OAS assay using dNTPs and NAD + as substrates'), (0.0036151132946426446, 'The activities measured for purified human PDE12ΔmTP-His and PDE12ΔmTP-His in HeLa cell protein extracts are listed in Table 1 '), (0.003601694715682481, 'The assay requires prior isolation of the A(pA) 3 tetramer core'), (0.0035850998879594764, 'The reactions were incubated for 1 h at 37°C using a thermal cycler, and stopped by heating to 94°C for 5 min'), (0.0035792108215807663, 'The reactions were set up using a single 2′-5′ oligoadenylate substrate, which are combined with a (candidate) nuclease and incubated for a given amount of time'), (0.0035762631879775277, 'Also, adenosine and the ApA core dimer were found to only weakly bind the resin under the experimental conditions used (running buffer: 20 mM Tris-HCl, pH 7.5)'), (0.0035600012739334668, 'Similar assays using rabbit OAS1 in reactions with NAD + and NTPs (ATP, GTP, UTP and CTP, respectively) have previously been conducted yielding specific activities of 0.0009 mmole/(sec*g) for NAD-pA, 0.0005 mmole/(sec*g) for NAD-pG, 0.0009 mmole/(sec*g) for NAD-pU and 0.0008 mmole/(sec*g) for NAD-pC [15] '), (0.0035584661386902114, 'For analysis of the samples 20 μl of filtrate was applied to a HiTrap Q column (1 mL, GE Healthcare) and fractionated with a stepwise linear gradient of 0-9 %, 9-17 %, 17-17.7 %, 17.7-22 %, 22-100 % of Buffer D in C over 3 mL, 54 mL, 20 mL, 50 mL and 6 mL, respectively'), (0.0035545430381938403, 'Chromatograms were obtained with 254 nm as the absorbance wavelength'), (0.00355454303819384, 'Chromatograms were obtained with 254 nm as the absorbance wavelength'), (0.0035473572188719407, 'tRNA, Ap 4 A, Ap 3 A)'), (0.0035473572188719407, '[51] )'), (0.0035473572188719407, '3a, inset) '), (0.0035473572188719407, '1a '), (0.003532092554288921, 'By contrast, AKAP7 may have access to the 2′-5′ oligoadenylates based on its cellular localization and the fact that nuclear pores allow for diffusion of molecules between compartments'), (0.0035267248920569554, 'The elution was carried out in a gradient of Buffer B (20 mM Na 2 PO 4 , 0.5 M NaCl, 500 mM imidazole, pH 7.4): a step gradient from 0 to 10 % B, a linear gradient from 10 to 70 % B in 10 mL and a step gradient from 70 to 100 % B'), (0.003518528410188294, 'The larger reaction volume are practical only because of the ion-exchange procedure used, where in practice, no limits exist for the sample injection volume.In Poulsen et al'), (0.0035084008424528168, 'A homogenous preparation of the pppApA, the 2-5A dimer could not be obtained due to co-elution with ATP (see Fig'), (0.0034941198866540704, 'Both in terms of unavailability of free/reactive 5′ phosphates and the presence of a 2′ hydroxyl group, NAD + closely mimics the A(pA) 3 substrate'), (0.0034933241482075447, 'The analysis of 2-5A synthesis was carried using a Mono Q HR 5/5 column (GE Healthcare) on the ÄKTAexplorer'), (0.0034889671940262932, 'Red and green curves: Control reactions using His-OAS1 together with dATP or A(pA) 3 alone, respectively'), (0.003467151417434666, 'In the time span 20-90 min, ATP was added every 10 min to sequentially increase the ATP concentration by 1 mM ending with with a final concentration of 10 mM'), (0.0034649227292976115, '4 and for HeLa cell protein extracts in Fig'), (0.003451980290114204, 'Table 1 provides an overview of the specific enzyme activities calculated for PDE12, based on the reactions presented'), (0.0034471476062697126, 'At least six OAS isoforms are expressed from these four human genes: two splice variants from the OAS1 and OAS2 genes and a single variant from each of the OASL and OAS3 genes [5, 6] '), (0.0034471166868878206, 'Blue curves: Profiles from reactions using His-OAS1 together with NAD + and dNTP'), (0.00344518584251605, 'Therefore,Ã start Â 4 Â 0:02 Â 10 −3 l 3600 s x Â 1:2 x 10 −6 g we synthesized the 2′-5′ oligoadenylates by enzymatic means using the His-OAS1 p42 variant in large-scale reactions with ATP'), (0.003441751710380376, 'These enzymes might be expected to fulfill other cellular roles from that of the 2-5A system'), (0.0034259995321367486, '[15] , showing that NAD + and ATP are used with equal efficiencies when part of the same reaction'), (0.0034171878481248684, 'Upon binding of viral dsRNA, the OAS enzymes synthesize 2-5As from ATP leading to accumulation of 2-5As'), (0.003405730551695748, 'A 200 μL aliquot was applied to the column equilibrated in Buffer C (20 mM Tris-HCl, pH 7.5) and fractionated in a linear gradient of 0-20 % and 20-22.8 % of Buffer D (1 M NaCl, 20 mM Tris-HCl pH 7.5) using 18 column volumes (CV) and 50 CV, respectively'), (0.003401859653400295, 'The end-reactions were diluted in Buffer C (15 fold) and applied to AcroPrep 10 K Filter Plates by centrifugation at 3000 × g for 15 min'), (0.0034014367445658385, 'The OASs are induced and activated by IFNs leading to nanomolar levels of 2-5As, which activate RNase L'), (0.0033935260688442684, 'Note that the above formulas are valid only to enzymes producing one molecule of AMP per reaction cycle, which is true for exonucleases like PDE12'), (0.003389061648718293, 'Purification of OAS1 p42 was done by Ni 2+ -chromatography in one step, and purification of PDE12ΔmTP-His was done in two steps, Ni 2+ -chromatography and quaternary (Q) anion-exchange chromatography'), (0.003388506805328052, 'They rely on very short 2′-5′ oligoadenylate substrates, especially the 2-5A core dimer ApA, which despite being commercially available, is not biologically relevant in the sense that oligoadenylates of a minimum of three AMP moieties (i.e'), (0.0033872588066418082, 'The 2′ hydroxyl (OH) to be linked with dNMP during the reaction has been highlighted in red'), (0.0033760103295835597, 'At OD 600 = 0.6, the cultures were added IPTG to a final concentration of 1 mM and left for overnight incubation at 20°C at 200 rpm to allow protein expression'), (0.003357890666664489, 'The OAS1 variant used here is the human p42 form cloned with an N-terminal His-tag fusion (His-OAS1).The mitochondrial localization of human PDE12 is facilitated by an N-terminal mitochondrial targeting peptide (mTP) spanning residues 1-16'), (0.003354718500169135, '[23] , we described a model accounting for activation and deactivation of the 2-5A system following viral exposure based on tight regulation of 2-5As'), (0.0033414732144562472, 'endogenous activities versus total enzyme activities, need to be distinguished to precisely map the activity specific to the expressed recombinant protein'), (0.003339485022680392, 'Red and green curves: Control reactions after incubation of His-OAS1 with either NAD + or dNTP alone, respectively'), (0.0033309050268758213, 'The cells were harvested by centrifugation at 7000 rpm for 20 min at 4°C and ruptured using the B-PER Protein Extraction Reagent (0.5 mL/g dry weight, Thermo Scientific)'), (0.0033295384991937796, 'Also two viral proteins, ns2 [21] and VP3 [22] belonging to the group 2a betacoronaviruses and group A rotaviruses, respectively, have been found to degrade the 2′-5′ oligoadenylates in vitro'), (0.0033242488672001703, '[34] obtained 0.27, 1.01, 0.43, 0.09 and 0.01 mg of the pppA(pA) dimer, pppA(pA) 2 trimer, pppA(pA) 3 tetramer, pppA(pA) 4 pentamer and pppA(pA) 5 hexamer in their HPLC-based method starting from a 1 mL reaction volume, respectively'), (0.003313318120291485, 'The literature on how to resolve and concentrate individual 2-5A molecules from within a mixture is however limited, the best option currently available being the high-performance liquid chromatography (HPLC)-based method described by Morin et al'), (0.0033015639867659046, 'Synthesis of 2-5As was performed with a human OAS1 isoform known to produce oligomers up to 30mers in vitro [5] '), (0.0032846090808941715, 'Analysis of purified recombinant proteins by SDS-PAGE and Coomassie Blue staining.OASs: 2′-5′ oligoadenylate synthetases; PDE12: Phosphodiesterase 12; 2-5As: 5′triphosphorylated, 2′-5′-linked oligoadenylate polyribonucleotides; 2-5A core molecules: 5′-dephosphorylated forms of 2-5As; ENPP1: Ectonucleotide pyrophosphatase/phosphodiesterase 1; AKAP7: A-kinase anchoring protein 7; NAD + : Nicotinamide adenine dinucleotide.The authors declare that they have no competing interests.'), (0.0032845832189829166, 'Background 5′-triphosphorylated, 2′-5′-linked oligoadenylate polyribonucleotides (2-5As) of the structure pppA(pA) n where n ≥ 1, are the key components of the interferon (IFN)induced antiviral 2-5A system'), (0.0032799359000387288, 'Two splice variants, p42 and p46 are the main products of the human OAS1 gene'), (0.0032382573713815276, 'In addition, the ns2 and VP3 proteins have been shown to antagonize the 2-5A pathway during viral infection by preventing RNase L activation, thereby evading the host innate immune response [21, 22] '), (0.0032275695831720883, 'Please note that the activity chromatograms representing the EV (purple) and DsRed (yellow) controls in Fig'), (0.00322282036375955, '1.4 mg pr mg enzyme of hexamers), whereas the enzymes used by Morin et al'), (0.003194208826038317, 'The conversion from 2-5As into 2-5A core molecules was performed by treatment with alkaline phosphatase'), (0.0031913905939180897, 'RNase L cleaves RNA 3′ to UN sequences, but mainly at UA and UU sites, N being any of the nucleotide bases in RNA, and this results in inhibition of viral replication [9] [10] [11] [12] '), (0.0031896438855136228, 'With the recent discovery of novel cellular nucleases (ENPP1 and AKAP7) as well as virally encoded nucleases (ns2 and VP3), this process however might prove to be more complex than hitherto expected (readers are referred to a recent review by Silverman et al'), (0.003187603705766503, 'All the chromatographic procedures were carried using 254 nm as the absorbance wavelength'), (0.0031704887564440705, 'Similarly, the A(pA) 3 will be committed to the acceptor-site due to a lack of 5′ phosphates'), (0.0031700639375192435, 'The lysates were cleared by centrifugation at 12,000 rpm for 10 min at 4°C and diluted four-fold in Buffer A (20 mM Na 2 PO 4 , 0.5 M NaCl, pH 7.4) before filtration (0.22 μM)'), (0.0031697076379921577, 'The porcine OAS1 used by them exhibited a conversion rate of 33.5, 124.9, 53.5, 10.7 and 1.4 mg of oligoadenylate production per mg OAS1, respectively'), (0.0031622830218236628, 'NAD + , a coenzyme present in all living cells is composed of two nucleotides one containing an adenine base (the 2′ nucleotide) and the other a nicotinamide base (Fig'), (0.003130067396468781, 'The His-OAS1 eluted in the interval 10-70 %'), (0.0031134026203411378, 'This is based on experiments showing accumulation of 2-5A core molecules over 2-5As in cells upon viral infection [30, 31] '), (0.00310913640525371, 'Protein expression and purification were carried out as described in [23] '), (0.0031080660721021017, 'The reaction can be summarized as follows: dATP + A(pA) 3 → A(pA) 3 pdA + PPi'), (0.0030830045219097904, 'They are identical in their N-termini of 346 aa named the core OAS unit and differ in their Ctermini with extensions of 18 and 54 aa, respectively [5] '), (0.0030759209560063225, 'For PDE12 and ENPP1, the 2′-5′ oligoadenylates therefore need to traverse a membrane, i.e'), (0.003070435217815257, 'Consequently, the single A(pA) 3 pdA product formed is blocked for further 2′ elongation by incorporation of dAMP'), (0.003056624910782017, 'The insert in (a) shows the structural formula of NAD + '), (0.0030525888409967464, 'Although the 2-5A system has only been described in vertebrates, orthologues of OAS exist throughout the evolutionary tree of life [38, 52] '), (0.003020443309399423, 'At present, three enzyme candidates exist: the phosphodiesterase 12 (PDE12) [18] , the ectonucleotide pyrophosphatase/phosphodiesterase 1 (ENPP1) [19] and the A-kinase anchoring protein 7 (AKAP7) [20] '), (0.0030157961498792885, 'Whether this is true, or the (A5′)p 4 (5′A)-pA(pA) 2 conjugate inhibited protein synthesis by another mechanism, was not determined'), (0.0030105125944489496, 'The fractions containing PDE12ΔmTP-His were finally pooled and diluted with one volume of 80 % glycerol before storage at −80°C'), (0.003009087660587954, 'Red curve in (a): Chromatogram obtained using control molecules: Adenosine, 5′-AMP, 5′-ADP and 5′-ATP as indicated'), (0.0029984128121396504, 'Note that regardless of the degradation mechanism (distributive versus processive), one molecule of AMP is produced per cleavage event assuming that degradation is mediated by an exonuclease activity'), (0.002990135354629191, 'Our assays produce only a single reaction product allowing a precise kinetic assessment of the enzymes'), (0.00298777356971401, 'anion-exchange chromatography versus thin-layer chromatography, or simply that we have used dNTPs over NTPs in the reactions'), (0.002975142300945267, 'This has been studied for the NAD + , ADP-ribose and (A5′)p 4 (5′A) derivatives [49] '), (0.002973312306891156, 'The specific enzyme activity of PDE12 has previously been determined [41, 50] '), (0.0029699951055531556, 'OAS2 has been found to produce oligoadenylates of similar length as OAS1 [5] , whereas OAS3 can produce oligoadenylates of at least 12mer length [46, 47] '), (0.002952858265102045, 'The following reaction scheme describes this mode of catalysis: (p) x A(pA) n → (p) x A + nAMP, where x = [0, 1, 2 or 3] and n ≥ 1'), (0.002951185906327573, '5 closely overlap (as expected), and thus cannot be discerned in the figure.The levels of high molecular weight products are higher than low molecular weight products, e.g'), (0.0029412570363667448, 'In comparison, the mice genome encodes multiple OAS genes: eight OAS1 genes, one each of the OAS2 and OAS3 genes and two OASL genes, believed to have arisen from duplication and divergence events from a common ancestral gene [7, 8] '), (0.0029227486377665164, 'The ability of AKAP7 to restore infectivity of a mutant murine coronavirus carrying an inactivated variant of the ns2 gene has recently been investigated [20] '), (0.0029076044726006607, 'human and bovine proteins share 92 % similarity at the amino acid level), immediately suggests that assay-dependent factors and not variation in protein sequence may have caused the observed difference [18] '), (0.002906702977390957, 'The OAS2 and OAS3 can also produce oligomers of considerable length'), (0.0028866309198441274, 'The single-product dNTP/NAD + assay (or modifications hereof ) could be used to more broadly address properties of enzymes exhibiting 2′-5′-nucleotidyl transferase activity'), (0.0028603759918057387, 'In Fig'), (0.002860375991805738, 'In Fig'), (0.002850444463323657, 'In the donor-site, all nucleoside-triphosphates (NTPs) as well as deoxy-nucleoside-triphosphates (dNTPs) can be used, N specifying the nucleotide bases in DNA and RNA'), (0.0028483269525648954, '1e , an aliquot of the final concentrated sample was resolved by Mono Q chromatography to confirm molecular purity'), (0.002840914823982557, 'We also carried out a reaction with protein extracts from HeLa cells overexpressing an irrelevant Fig'), (0.0028299661016969275, 'Briefly, BL21 (DE3) cells transformed with the above-mentioned construct were grown in selective LB medium and the expression induced with IPTG'), (0.0028269862523103368, 'The cells were harvested by centrifugation, and ruptured by sonication and highpressure homogenization'), (0.002817261305984904, 'Variations may also result from the approach used to quantify reactants and products'), (0.0028124065900688422, 'Expression and purification of OAS1 isoforms are straightforward compared with OAS2'), (0.002785645314282125, 'Using this procedure, we have obtained very high yields of many individual 2′-5′ oligoadenylates'), (0.0027805202589947365, 'The OASs actually combines a broad range of substrates (not only ATP) to form 2′-5′ heterooligonucleotides in vitro, thus they are better described as general 2′-5′-nucleotidyl transferases [14, 15] '), (0.0027696676894325865, 'Based on cellular localization, one could then assign distinct roles to the individual forms in the pathway'), (0.0027516973043871028, 'either the inner mitochondrial membrane or the plasma membrane in order for degradation to take place'), (0.002735903341866713, 'The conjugates were firstly screened for an ability to inhibit protein synthesis in an encephalomyocarditis-RNA-programmed tumour cell-free system'), (0.0027094939223183943, 'before dilution) was converted to less than 3 mL (~70 fold concentration of the molecule)'), (0.0026648231559186037, 'Our enzyme produced higher yields of the longer oligomers (6.6 mg vs'), (0.0026571460648240858, 'The requirements on the acceptor-site is a 2′-end positioned AMP linked in an RpA configuration, where R specifies either ATP, nicotinamide adenine dinucleotide (NAD + ), or oligomeric or polymeric primers (e.g'), (0.0026179805624325053, 'This difference (5-6 fold) might result from the lower estimate being based on formation of multiple products, i.e'), (0.002616622928427438, 'Despite PDE12, ENPP1 and AKAP7 degrades 2′-5′ oligoadenylates in vitro their importance during viral infection, has yet to be reported'), (0.0026008676830216325, 'For concentration determination, ATP was used as an internal control'), (0.0025740293059002286, '15.200 for dATP, 9.300 for dCTP, 13.700 for dGTP and 9.600 for TTP'), (0.00257159989776264, 'Importantly, the above synthetase assays are applicable also to crude extracts, e.g'), (0.0025702139111929904, 'Unknown 5′-phosphatases convert cytotoxic 2-5As to less cytotoxic 2-5A core molecules simultaneously with viral RNA degradation by 2-5A-activated RNase L'), (0.0025699915574473376, 'OAS1 and PDE12 recombinant proteins'), (0.0025664360521740716, 'Plasmids were the PDE12ΔmTP-His construct in pTriEx-3 Neo, redfluorescent protein (DsRed) also in pTriEx-3 Neo and as a control the empty pTriEx-3 Neo vector'), (0.0025619513207484623, 'Importantly, neither of the conjugates were detected naturally in mouse L cells even after IFNstimulation and virus infection'), (0.002548576161904627, 'Indeed our estimates are higher, which may reflect the different sources of OAS used, i.e'), (0.0025328749213403123, 'Isolated fractions were of high homogeneity as evaluated by Coomassie Blue stained SDS-PAGE protein gels (Additional file 1: Figure S1 ).Compared with 3′-5′ phosphodiester-linked oligonucleotides, 2-5As are difficult to attain chemically'), (0.002521129610082138, 'The fact that PDE12 is conserved throughout the mammalian lineage (e.g'), (0.002505568491062412, 'Whereas chemical synthesis is cumbersome being reported in an eight-step procedure [32] , enzyme-mediated synthesis is easier and done using purified OASs [14, [33] [34] [35] [36] '), (0.0025054335047731344, 'Note that each figure (a-c) includes four superimposed chromatograms: blue curves PDE12, yellow curves DsRed, purple curves EV and green curves -'), (0.0024857687680351686, 'Elution fractions were finally mixed with one volume of 80 % glycerol and stored at −80°C'), (0.0024816955869647454, 'For instance, the purified bovine sample appeared very crude as analyzed by SDS-PAGE silver staining, whereas ours was nearly free of contaminants'), (0.002467793827652992, 'These 2-5As in turn activate RNase L, an endoRNase degrading viral and cellular RNA'), (0.0024672860485713314, 'Brown curves: experimental salt gradients'), (0.0024672860485713314, 'Brown curves: Experimental salt gradients'), (0.0024672860485713314, 'Brown curves: Experimental salt gradients'), (0.0024672860485713314, 'Brown curves: Experimental salt gradients'), (0.002463559764657494, 'The reaction sample was heatinactivated at 85°C for 15 min before filtration (0.45 μm)'), (0.0024135643523472503, 'One gene family induced by IFNs is the double-stranded RNA-dependent 2′-5′ oligoadenylate synthetases (dsRNA-dependent OASs) in humans comprising four members, OAS1, OAS2, OAS3 and OAS-like (OASL)'), (0.0023556640867806408, 'mg enzyme of tetramers)'), (0.0023486834390517588, 'Protein purification was with a HiTrap Chelating HP column (1 mL, GE Healthcare) charged with 0.1 M NiSO 4 using an ÄKTAexplorer chromatography system (GE Healthcare)'), (0.0022816202000056256, 'produced higher yields of the smaller oligomers (53.5 mg vs'), (0.0022662493974834243, 'The reactions also contained 1 mM MgCl 2 , 1 mM DTT, 1 mg/mL BSA, 1x protease inhibitor (EDTA-free, Roche Applied Science) and 20 mM Hepes, pH 7.0'), (0.00225506868617358, '[34] versus 100 mL in our case'), (0.0021818152623600093, '1 mL in Morin et al'), (0.0021748658981006995, 'trimer) containing 5′ phosphate(s) are required for activation of RNase L [44] '), (0.002158125043889669, 'mAU, milli-absorbance unit and mS/cm, milliSiemens/centimeter Fig'), (0.0021488798261223886, 'Each figure (a-c) includes two chromatograms that were superimposed'), (0.002114700883588932, 'Here a starting volume of~200 mL (i.e'), (0.0021066081933942297, 'Each figure (a-d) includes three chromatograms that have been superimposed'), (0.0020953762926992896, 'Upon binding of cognate receptors, they induce numerous intracellular signaling cascades, leading to transcriptional activation of several hundred genes, which altogether determine the biological outcome involving antiviral, antitumoral, and immunomodulatory effects [1] [2] [3] [4] '), (0.0020937623354847714, 'Brown curve: Experimental salt gradient'), (0.002086932394619068, 'human versus rabbit, the strategy undertaken for analyzing product formation, i.e'), (0.0019565310595497354, 'IFNs are extracellular cytokines specific to (jawed) vertebrates and central to host innate immunity'), (0.0018918424890493357, 'This result was however contradicted by Ferbus et al'), (0.0018658787968155945, 'mAU, milli-absorbance unit and mS/cm, milliSiemens/centimeter'), (0.001848416631951709, 'Protein expression was carried out for 24 h, before lysis with 1 % NP40, 0.5 M CH 3 COOK added 2× Complete protease inhibitor cocktail (Roche)'), (0.001801182409409962, 'Likewise, many 2-5A nuclease assays have been reported [18, [40] [41] [42] [43] '), (0.0017893904395090943, 'Fig'), (0.0017867582473387877, 'In comparison, Morin et al'), (0.0017591821858245634, 'These molecules were thus detected 3 )'), (0.0017464950678191234, '1b) '), (0.0017145282349136743, 'bacterial or mammalian cell protein extracts (data not shown)'), (0.001448650822841242, 'How exactly this would occur remains unknown, though processes like receptor-mediated transport or diffusion may be involved'), (0.0014063482598648655, '17.2 mg pr'), (0.0014026448332351434, 'a distributive enzyme) [19] '), (0.0014001055192666288, '[34] '), (0.0013863333625324574, 'Different controls were included'), (0.0005321035828307917, '5) '), (0.0005321035828307917, '5 )'), (0.0005321035828307917, '5 '), (0.0005321035828307917, '3) '), (0.0005321035828307917, '3) '), (0.0005321035828307917, '2) ')]\n",
            "Indexes of top ranked_sentence order are  [(0.007270650467458789, 'The chromatograms were obtained using 254 nm as the absorbance wavelength.The enzyme activity reaction catalyzed by OAS can be formulated with the general formula below, in which S1 and S2 are the substrates and P the product formed: S1 þ S2 → P E, the specific activity of the enzyme (mole P generated per second per gram protein) can be calculated from the equation:[S2] start is the start conc of S2, V is the reaction volume, M is the amount of protein added and T is the reaction time.The reaction schemes for the two kinds of OAS activities measured in this paper are depicted in reaction 1 and reaction 2, respectively.In reaction 1, the specific activity of the OAS1 enzyme (E1(OAS1) with dATP and A(pA) 3 as substrates (S1 and S2, respectively) was calculated with the formula:The integral refers to the area under the individual peaks from the substrates and products in the chromatograms.Reaction 2: dNTP + NAD + → NAD − pdN In reaction 2, dNTP (dATP, dCTP, dGTP or TTP) and NAD + were used as substrates (S1 and S2, respectively) in reactions with the OAS1 enzyme'), (0.007133029756502054, 'The specific activity of PDE12 (mole 5′-AMP synthesized per second per gram of protein (mole AMP/(sec*g)) was calculated with the formula:Total 254nm refers to the sum of the integral of all peaks in a given chromatogram at 254 nm for a single reaction, [A(pA) n ] start is the start concentration of the substrate A(pA) n, V is the reaction volume, T the reaction time and M the amount of protein added.As an example, the tetramer core substrate would be expected to undergo cleavage into the following products using PDE12 as the enzyme:In the case of purified protein, the specific enzyme activity of PDE12, E(PDE12) could therefore be calculated using the formula:For reactions including crude protein extracts, the specific enzyme activities were calculated in mmole AMP/ (sec*g of total protein)'), (0.006617498925990159, 'Of the three substrates utilized here: A(pA) 3 tetramer core, A(pA) 4 pentamer core and A(pA) 5 hexamer core, a total of 17.2, 15.5 and 11.3 mg were obtained corresponding to 10.1, 9.1 and 6.6 mg of oligoadenylate per mg human His-OAS1 used in the reaction, respectively.We have developed a number of OAS enzyme assays using the isolated oligoadenylates as well as NAD + as substrates'), (0.005778124869031514, \"We calculated the specific enzyme activity of the human OAS1 p42 for production of A(pA) 3 pdA to be 1.1 mmole/(sec*g).We also made additional set-ups and optimized the assay using alternative 'acceptor' and 'donor' molecules as substrates for the OAS (Fig\"), (0.005630750316045508, 'The fact that all reactants and products are negatively charged at physiological pH allow for fractionation by anionexchange chromatography.For demonstrating the assay we incubated the purified human His-OAS1 with the substrates dATP and A(pA) 3 and allowed the reaction to proceed for 30 min'), (0.005597354080514704, 'Note that despite of binding dsRNA and ATP, the human OASL is catalytically inactive due to key mutations in the active site compared with the other OAS isoforms [13] .2-5A catalysis generally proceeds by hydrolysis of the phosphoanhydride linking the α and β phosphates of ATP when bound in the so-called donor-site of the enzymes resulting in pyrophosphate (PPi) and AMP, which is subsequently linked to the free 2′-OH group of a second ATP molecule or a 2-5A molecule placed in the acceptor-site of the enzymes [6] '), (0.005592603528015303, 'This allows for a more precise kinetic assessment of the enzymes.In the first assay, the A(pA) 3 tetramer core and the deoxy-nucleotide dATP were used as substrates in formation of a pentameric product, A(pA) 3 pdA'), (0.005493248435397675, 'The chromatograms were obtained with 254 nm as the absorbance wave-length.For the PDE12 activity assay the following reaction scheme was used:n ≥ 1 and m ≥ 0'), (0.00546547819902482, 'We obtained 17.2, 15.5 and 11.3 mg of the A(pA) 3 tetramer core, A(pA) 4 pentamer core and A(pA) 5 hexamer core starting from a 100 mL reaction volume, corresponding to 10.1, 9.1 and 6.6 mg of oligoadenylate synthesized per mg of human His-OAS1 used, respectively'), (0.00537920379344829, 'Thus the OAS1 specific enzyme activities E2(OAS1) from these reactions were calculated with the formula:The 2-5A nuclease assayThe nuclease reactions were performed in a total volume of 20 μl containing 1.2 μg of purified recombinant PDE12ΔmTP-His or 10 μg of crude protein extract together with 0.5 mM of substrate, either A(pA) 3 , A(pA) 4 or A(pA) 5 '), (0.005352832084722962, '2-5As and 2-5A core molecules are easily resolved by ion-exchange chromatography, making this assay straightforward.The single-product dATP/A(pA) 3 assay can be used to precisely map and characterize the activities of the individual OAS isoforms'), (0.005340220680488406, 'Accordingly, such presence of contaminants would inevitable lower the overall enzyme activities by a factor proportional to the amount of impurities versus PDE12 protein in the sample.The described procedure has been used for isolation of 2-5As and 2-5A core molecules up to and above decamer length'), (0.005332521396052316, 'The mouse enzyme was found to exhibit a specific activity of~20*10 −3 mmole/(sec*g) of 5′-AMP using the ApA dimer as substrate, and the bovine enzyme an activity of~0.02*10 −3 mmole/(sec*g) of 5′-AMP using the A(pA) 2 trimer as substrate'), (0.005259553053268161, 'The purified human recombinant His-OAS1 enzyme was incubated with NAD + and dNTP (dATP, dCTP, dGTP or TTP) for 30 min at 37°C, and the reactants and product resolved using a HiTrap Q column'), (0.005222509836837228, 'In the dATP/A(pA) 3 assay, human OAS1 p42 was found to produce the A(pA) 3 pdA pentamer product with a specific activity of 1.1 mmole/(sec*g)'), (0.005212122804530032, 'The assays demonstrated here utilize the tetramer core A(pA) 3 , pentamer core A(pA) 4 and hexamer core A(pA) 5 substrates in reactions with the purified PDE12ΔmTP-His enzyme or HeLa cell protein extracts'), (0.00520762221012911, 'Purified human recombinant His-OAS1 enzyme was incubated with dATP and A(pA) 3 for 30 min at 37°C, and the reactants and product resolved using a HiTrap Q column'), (0.005037415266492737, 'The individual 2-5As and 2-5A core molecules were subsequently concentrated in three steps, by a 10 fold dilution of the samples in running buffer to reduce the overall sodium chloride content, re-application of the molecules to the Mono Q column and elution by a step-gradient of 0.5 M sodium chloride'), (0.005036532890569062, 'This is in line with the diverse substrate specificity identified for the mammalian OASs, which may be a reminiscence of the evolutionary past [15] .Here we have described some enzyme assays suitable for identification and characterization of the synthetases and nucleases regulating cellular 2-5A levels'), (0.0050359606394172135, 'In this figure two chromatograms have been superimposed, the 2-5A reaction mix (blue curve) and the control molecules (red curve): adenosine, 5′-AMP, 5′-ADP and 5′-ATP, in order to visually distinguish the reaction products (2-5As) from the ATP substrate'), (0.0049796827352779835, 'A procedure for isolating 2-5A 4 pentamer core or (c) the A(pA) 5 hexamer core for 1 h at 37°C, and the products resolved by Mono Q chromatography'), (0.004962677223893284, 'The assays might help take our understanding of the 2-5A system one step further, by serving as a platform upon which new discoveries can be made.In this paper, we have described assays for the synthetases and nucleases regulating cellular 2-5A levels including a procedure to obtain high levels of individual 2-5As and 2-5A core molecules'), (0.004945095905518223, 'Consequently, we substituted the A(pA) 3 substrate with NAD + and carried out the reactions with all of the dNTPs (dATP, dCTP, dGTP and TTP) separately, which should allow for synthesis of single-product NAD-dNMP derivatives'), (0.004942164497021837, 'Note that for crude protein extracts, the specific activity attributable to PDE12 only, can be inferred by subtraction of the cellular endogenous activities (either DsRed or EV analyses) from total enzyme activities (PDE12 reactions).This paper presents a toolbox for characterization and identification of the nucleases and synthetases regulating cellular 2-5A levels'), (0.004908579231008764, 'Conversion of the (A5′)p 4 (5′A)-pA(pA) 2 conjugate to the pppA(pA) 2 trimer was proposed as a possible way for activation of RNase L in the lysate, thereby also explaining the observation of inhibition of protein synthesis'), (0.004791124569817771, 'The 2′-5′ oligoadenylates are used as substrates in enzyme assays for measurement of synthetase and nuclease activities'), (0.004787558580882033, 'We used mass spectrometry for the exact identification of the isolated 2′-5′ oligoadenylates.The single-product 2′-5′ oligo(adenylate) synthetase (OAS) assaysThe dATP/A(pA) 3 assay was carried out in a 40 μl reaction volume containing 32 ng of purified recombinant human His-OAS1 protein, 2 mM dATP and 0.5 mM A(pA) 3 in 10 mM Mg(OAc) 2 , 1 mM DTT, 0.1 mg/mL BSA, 0.2 mM EDTA, 0.4 mg/mL poly(I):poly(C), 10 % glycerol, 0.1 mg/ml Creatine Kinase, 6 mM Creatine phosphate and 20 mM Tris-HCl, pH 7.8 for 30 min at 37°C using a thermal cycler.The NAD + /dNTP assay was performed in a 40 μl reaction volume using 32 ng of purified recombinant human His-OAS1 protein, 2 mM dNTP (dATP, dCTP, dGTP or TTP, respectively) and 3 mM NAD + in 10 mM Mg(OAc) 2 , 1 mM DTT, 0.1 mg/mL BSA, 0.2 mM EDTA, 0.4 mg/mL poly(I):poly(C), 10 % glycerol, 0.1 mg/ml Creatine Kinase, 6 mM Creatine phosphate and 20 mM Tris-HCl, pH 7.8 for 1 h at 37°C using a thermal cycler.The reactions were stopped by heat shock at 94°C for 5 min before dilution with ddH 2 O (3.5 fold) and filtration through AcroPrep TM 10 K Filter Plates (Pall Corporation) by centrifugation at 3000 x g for 15 min'), (0.004786896640411707, 'The position of the reactants and product are indicated in the chromatograms'), (0.004727165873112636, 'The 2-5A core molecules were produced by incubation of the 2-5As with alkaline phosphatase (100 U/mL) for 16 h at 37°C'), (0.0047145500607736245, 'Here the extinction coefficients, ε (M −1 × cm −1 ) of the individual dNTPs at 254 nm were used in the calculation of the specific enzyme activities, i.e'), (0.004664670635991602, 'This assay is well-suited to assess the broader cellular role expected of the OASs, based on the very diverse substrate specificity in vitro.Human OAS1 p42 containing an N-terminal His-tag (His-OAS1) cloned in the pET9d bacterial expression vector was a kind gift from Kineta (formerly Illumigen Biosciences).The plasmid was transformed into the E.coli BL21 (DE3) strain and plated on selective LB agar (50 μg/mL ampicillin), followed by inoculation of single colonies to selective LB medium for incubation at 37°C for 16 h at 200 rpm'), (0.004644046374449205, 'This is possible through use of a creatine kinase system applied in the reaction buffer, which continuously regenerates dATP from the dADP and dAMP inhibitors formed during the reaction.The OASs have been found to join a variety of oligoadenylates and derivatives in vitro'), (0.004592171742069642, 'Like above, the reaction products have been resolved by HPLC using reverse-phased C 18 columns or by thin-layer chromatography with PEI-Cellulose.This paper comprises an assay toolbox for the characterization and identification of nucleases and synthetases regulating the 2-5A system'), (0.004591023330217998, 'The 200 mL reaction was then divided in two equal parts (100 mL each), one part for isolation of 2-5As and the other for isolation of 2-5A core molecules'), (0.004563676525620744, 'The 2-5A core molecules were numbered according to length with 2 specifying the ApA dimer core, 3 the A(pA) 2 trimer core and so forth'), (0.004544476886811776, 'The 2-5As and 2-5A core molecules were then resolved by Mono Q chromatography, which resulted in high quality and quantity of many individual 2-5A molecules'), (0.004533802915215043, 'Our assays are well-suited for scientists aiming to identify and characterize the synthetases and nucleases regulating cellular 2-5A levels, but can also be used to address a broader cellular role of the enzymes by means of alternative substrates like dNTP and NAD + .Additional file 1: Figure S1 '), (0.004526686029121188, 'This was done by including a reaction of protein extracts from emptyvector (EV) transfected cells, and using this as the measure of cellular endogenous activity (purple curves in Fig'), (0.004514356311670459, 'mAU (milli-absorbance unit) is the unit used for molecular detection at 254 nm, and mS/cm (milliSiemens/centimeter) the unit used to measure conductivities before application of the experimental salt gradient used for separation, but after the void volume of the column'), (0.004511505195335544, 'The 2-5A core molecules are numbered according to length with 2 specifying the ApA dimer core, 3 the A(pA) 2 trimer core and so forth'), (0.0045001249215338, 'For the purified protein, a reaction omitting the enzyme was used to measure the extent to which the substrate might undergo autohydrolysis'), (0.004490127572723774, 'The batch of synthesised 2-5As was subsequently split in two parts, one part for isolation of 2-5As and the other for isolation of 2-5A core molecules'), (0.004482376091963508, 'The 2-5A nuclease assay demonstrated here is suitable for identification and characterization of enzyme candidates involved in the cellular degradation of 2′-5′ oligoadenylates'), (0.004464954779515294, 'Preparative fractionation of 2-5As and 2-5A core molecules were with the Mono Q HR 16/10 column using a linear gradient of 0-10 % and 10-30 % of Buffer D over 3.6 CV and 24 CV, respectively'), (0.004461979468129513, 'Furthermore, the assay was optimized to resolve all the reactants and products by anion-exchange chromatography, which allows the direct usage of the peak integrals for calculation of enzyme activities'), (0.0044552950370578895, 'This figure has been reproduced from [19] with courtesy of Biochimie, Elsevier molecules is described along with enzyme assays using purified OAS and PDE12 recombinant enzymes.Measurements of OAS enzyme activity have traditionally been assayed using ATP as substrate producing a mixture of 2-5A molecules [4, 15, 37, 39] '), (0.004441968782499824, 'We carried out quantification based on the integral of the corresponding peaks following anion-exchange chromatography, whereas in [48] quantification was based on 4 pentamer core or (c) A(pA) 5 hexamer core for one hour at 37°C, and the products resolved by Mono Q chromatography'), (0.004427268785500406, 'It was found that a mislocalized version of AKAP7 present in the cytoplasm could restore the infectivity of the mutant virus, which was not the case for the fulllength protein localized in the nucleus'), (0.004427112672977539, 'The sample injection volume were~10 mL for each of the fractionations, therefore the method was repeated several times in order to obtain separation of the entire reaction volume of 200 mL'), (0.004402597246904722, 'mAU, milli-absorbance unit and mS/cm, milliSiemens/centimeter the densitometric scans of dots (molecules) resolved by thin-layer chromatography.In the dNTP/NAD + assay, human OAS1 p42 was found to produce NAD-dNMP derivatives with specific activities of 0.2 mmole/(sec*g) for NAD-pdA, 0.1 mmole/(sec*g) for NAD-pdC, 0.02 mmole/(sec*g) for NAD-pdG and 0.1 mmole/(sec*g) for NAD-pT'), (0.0043843926353139525, 'Consequently, wide uncertainty exists as to i) which enzymes take part in 2-5A degradation in cells, ii) what are the contribution offered by each of the enzymes to the process, iii) do the enzymes have a preferred cellular substrate and iv) what are the interplay between cellular and viral nucleases during infection'), (0.004370042767637577, 'We used oligoadenylates of tetramer length and above in our assays, thereby increasing the significance with regard to the 2-5A system'), (0.0043592314959616275, 'The efficiency of the reaction was assessed by Q anion-exchange chromatography, and the resulting chromatogram can be seen in Fig'), (0.004358838250058523, 'Amongst others, we present an enzyme assay using the A(pA) 3 tetramer core and dATP as substrates in producing a A(pA) 3 pdA pentameric product'), (0.00433103916318209, 'No endonucleases degrading 2-5As are currently known.To allow production of 2-5As as well as to develop and demonstrate the enzyme assays, recombinant OAS and PDE12 proteins were expressed and purified from bacteria'), (0.004316110278301248, 'We hypothesize that regulation of 2-5As in cells is tightly controlled and orchestrated by multiple nucleases and phosphatases, some of which remains to be identified.Chemical-as well as enzyme-based strategies have been used to synthesize 2-5As'), (0.0043074830994316434, 'The assays produce only a single reaction product, as opposed to the large panel of 2-5As formed using ATP as substrate'), (0.004304461345113014, 'This variant was used primarily due to the fact that expression and purification was easier compared with the full-length form.Briefly, recombinant human His-OAS1 p42 and PDE12ΔmTP-His were expressed using the E.coli BL21 (DE3) strain'), (0.004284380874809952, 'We reproducibly obtained~1 mg of purified PDE12ΔmTP-His per liter of E.coli cell culture using this procedure.For protein analyses, aliquots of the purified His-OAS1 and PDE12ΔmTP-His recombinant proteins were heattreated at 95°C for 5 min in loading buffer containing β-mercaptoethanol, and then subjected to SDS-PAGE followed by staining with Coomassie Blue (Pierce).HeLa cells grown in DMEM (Gibco BRL/Life Technology) with 10 % FBS and 1 % Penicillin/Streptomycin (Gibco BRL/Life Technology) were transfected using the PolyFect Transfection Reagent (Qiagen)'), (0.004257815112070909, 'The identification and exploration of cellular nucleases degrading 2-5As and 2-5A core molecules (the 5′-dephosphorylated forms of 2-5As), is currently ongoing'), (0.004248375266599812, 'The following general reaction scheme apply to the varied enzyme capabilities of the OASs: RpA + (d)NTP → PPi + RpA-(d)NMP in which the incorporation of AMP prompts for oligoadenylate synthesis by means of multiple 2′ elongation events (the other NMPs and dNMPs make up single incorporation events only).Due to low sequence specificity, RNase L degrades cellular RNA and prolonged activation results in an antiproliferative response leading to apoptosis [9] [10] [11] 16] '), (0.004236655385003147, 'Purity and concentration of the oligoadenylates were determined by application of small aliquots (~20 μl) to the Mono Q HR 16/10 column as described above'), (0.00420291961880071, '1b and c show how individual 2-5As and 2-5A core molecules up to and above the decamer length were successfully resolved'), (0.004200279104068544, 'A procedure for isolating 2′-5′ oligoadenylates is described, which results in high yields and purity of many 2-5As and 2-5A core molecules'), (0.004199517856713076, 'Here we present an alternative to this procedure, which can be used to obtain highly pure 2-5As and 2-5A core molecules at the milligram scale.A variety of 2′-5′ oligo(adenylate) synthetase activity assays have been devised, which generally rely on ATP as substrate [4, 15, [37] [38] [39] '), (0.004172626383200379, 'The substrates used were: (a) NAD + and dATP, (b) NAD + and dCTP, (c) NAD + and dGTP and (d) NAD + and TTP'), (0.00415384141005615, 'We reproducibly obtained~2 mg of purified His-OAS1 per liter of E.coli cell culture using this procedure.Human PDE12 stripped for the mitochondrial targeting peptide (mTP) and containing a C-terminal His-tag (PDE12ΔmTP-His) was cloned in the pTriEx-3 Neo expression vector (Novagen) allowing for bacterial, insect as well as mammalian expression'), (0.004126221227135696, 'This suggests that these conjugates may have functions not related to the 2-5A system and might be triggered by other stimuli.Enzyme measurements of 2-5A nucleases have mainly relied on short substrates unable to activate RNase L, which requires oligoadenylates of trimer length and above [18, [40] [41] [42] [43] [44] '), (0.004122212294734581, 'We also present a synthetase assay using NAD + and either dATP, dCTP, dGTP or dTTP as substrates for the OAS enzyme'), (0.004115770383132285, 'The assays have been used primarily to define and characterize the reaction products, and are not well suited to determine enzyme kinetic parameters, which are most easily achieved based on reactions generating only a single product'), (0.004115617106712081, 'The chromatograms for purified protein (PDE12ΔmTP-His) are shown in Fig'), (0.004107691870497069, 'The BCA Protein Assay Kit (Pierce) was used for determination of the protein concentrations.In 200 mL reactions, 17 μg/mL of human His-OAS1 was incubated with 2 mM ATP, 4 mM Mg(OAc) 2 , 0.2 mM DTT, 40 μM EDTA, 0.2 mg/mL Poly(I)-Poly(C), 0.1 mg/mL BSA, 2 % glycerol and 4 mM Tris-Cl pH 7.8 for 3 h at 37°C [45] '), (0.004098520066743574, 'The chromatograms were obtained with 254 nm as the absorbance wavelength'), (0.004097248265146343, 'For instance, using NAD + , ADP-ribose and (A5′)p 4 (5′A) in reactions with ATP, the enzymes readily produce NAD-pA(pA) 2 , ADPribose-pA(pA) 2 and (A5′)p 4 (5′A)-pA(pA) 2 conjugates, respectively [49] '), (0.004085058788304645, '2-5As versus 2-5A core molecules can also be deduced to hypothesize the exact cellular role of the proteins in question'), (0.0040762871167481125, 'Blue curve: Profile from a reaction using His-OAS1 with dATP and A(pA) 3 as substrates'), (0.004069008124528953, 'The detection of a single peak at the expected retention volume, suggests that this a very homogenous preparation of the A(pA) 3 tetramer core'), (0.004067519743719997, 'Whereas the (A5′)p 4 (5′A)-pA(pA) 2 strongly inhibited protein synthesis at concentrations similar to the pppA(pA) 2 trimer, no effect was observed for the NAD + and ADP-ribose derivatives'), (0.004054488337914934, 'Blue curves: The 2′-5′ oligoadenylates numbered according to length, hence 2 specify the pppApA (or ApA) dimer, 3 the pppA(pA) 2 (or A(pA) 2 ) trimer, 4 the pppA(pA) 3 (or A(pA) 3 ) tetramer and so forth'), (0.004040717022876639, 'For the present study, we used a His-tagged variant of PDE12 lacking the mTP (PDE12ΔmTP -His), which has previously been found not to alter the enzyme activity [23] '), (0.004036771529950961, '2 Single-product OAS assay using dATP and A(pA) 3 as substrates'), (0.004032015625393667, 'This was applied over night to the Mono Q HR 16/10 column using the inlet A of the ÄKTAexplorer chromatography system running at a constant flow rate of 1 mL/min'), (0.004017302142762229, 'For concentration of the oligoadenylates, the fractions of successive runs representing identical peaks were pooled and diluted 10 fold in Buffer C, in most cases resulting in total volumes of 1-2 l'), (0.003998020692384629, 'In the dNTP/NAD + assay demonstrated here, we chose to substitute the ATP with dNTPs to accommodate the need for a singleproduct assay'), (0.0039820293363429194, 'Note that NAD + was initially demonstrated to be a preferred primer over ATP for the OASs, producing mainly NAD + derivatives such as NAD-pA in reactions of both substrates [49] '), (0.003974995457825243, 'The substrate and products were resolved by Mono Q chromatography'), (0.003971838917603062, '4 and 5 )'), (0.003964601939575836, 'Therefore the activities obtained from different nucleases on a single substrate as well as for one nuclease on several substrates, are directly comparable provided that the conclusions will be based on the quantity of AMP generated'), (0.003958520748893607, 'The 2-5A core molecules finally accumulate to micromolar levels for transportation (or diffusion) by a yet to be defined mechanism to the mitochondrial matrix for degradation by PDE12'), (0.0039580911763925026, 'The (A5′)p 4 (5′A)-pA(pA) 2 could also activate RNase L in a rabbit reticulocyte lysate, which was not the case for the other derivatives'), (0.0039393287602625515, 'Because dATP, as opposed to ATP is blocked for elongation/ acceptance of nucleotides due to an inert 2′ hydrogen atom, the dATP will only function in the donor-site of the enzymes'), (0.003934205661949705, 'In the figure, three separate chromatograms have been superimposed with the position of the respective molecules indicated'), (0.003930911904034423, '2-5As are mainly produced in the cytosol (and to some extend in the nucleus), which is also the site of viral replication [26] [27] [28] [29] '), (0.00392646349564911, 'The distributive cleavage of 2′-5′ oligoadenylates by PDE12 can be described with a single cleavage event conforming to the reaction scheme: (p) x A(pA) n → (p) x A(pA) n-1 + AMP, where x = [0, 1, 2 or 3], n ≥ 1, implying that substrates can be processed until n = 1'), (0.003923452049516603, 'Compared with the controls dATP or A(pA) 3 only, the product A(pA) 3 pdA exhibited a retention volume higher than A(pA) 3 and lower than dATP, and formed a discrete peak (Fig'), (0.0039228521500249145, 'The synthetase assays were designed to produce a single reaction product only, allowing for precise kinetic assessment of the enzymes'), (0.003906910715572852, 'The cleared lysates were applied to Ni-NTA Superflow Cartridges (1 mL, Qiagen) using 300 mM of imidazole for elution, before fractionation of the eluates with a Mono Q HR 16/10 column (GE Healthcare) in a linear gradient of KCl to 500 mM'), (0.0039014888265771503, 'For the crude protein extracts, the contribution of normal cellular proteins to total enzyme activities, i.e'), (0.0038965553572977763, 'mAU, milli-absorbance unit and mS/cm, milliSiemens/centimeter protein (dsRed), to ascertain if substrate degradation is specific to PDE12, or simply is the result of overexpressing a protein (DsRed, yellow curves in Fig'), (0.003883488223908243, 'The assay should also work for exploration of putative 5′-phosphatases converting 2-5As to 2-5A core molecules using a 2-5A molecule as substrate'), (0.0038763122395700264, 'Our values are very close to that of the mouse enzyme however differ with one to three orders of magnitude from the bovine enzyme'), (0.0038725738374265992, 'The specific enzyme activities were calculated to be 0.2 mmole/(sec*g) for NAD-pdA; 0.1 mmole/(sec*g) for NAD-pdC; 0.02 mmole/(sec*g) for NAD-pdG and 0.1 mmole/(sec*g) for NAD-pT.To be able to better identify and characterize nucleases regulating cellular 2-5A levels we have developed a simple 2′-5′ nuclease assay'), (0.003870548098051355, 'The varied set of products produced by the OASs in vitro therefore naturally raises the question if the OASs might retain other biological functions than that related to the 2-5A system'), (0.0038611626826004497, '2-5As compared with the single product A(pA) 3 pdA formed in our assay'), (0.0038577554700866827, 'Blue curves: Profiles from reactions in which the enzyme was used, and red curves: Profiles from reactions where the enzyme was omitted'), (0.0038568345345085108, 'Indeed the human His-OAS1 was found to produce NAD-dNMP derivatives albeit with variable efficiencies, resulting in nice and discrete peaks with retention volumes higher than NAD + and lower than the dNTPs (Fig'), (0.003831911532598016, 'This suggests that the 2′-5′ nucleases must be localized in very close proximity to the sites of viral replication, in order to maintain tight regulation over the 2-5A system'), (0.003828971364752033, 'The preferred substrates of the enzymes, i.e'), (0.0038122061928272523, 'Nevertheless, the total yields obtained by us are at least an order of magnitude higher, which can be ascribed to the large difference in reaction volume, i.e'), (0.00379913001527898, 'An estimate of 0.2 mmole/(sec*g) on formation of 2-5As using ATP as substrate has previously been determined for human OAS1 p42 [48] '), (0.0037728703793365845, 'The reactants and products were resolved by anion-exchange chromatography using a HiTrap Q column and a gradient of increasing sodium chloride concentration'), (0.003755445030998471, 'Also, the reaction products have mainly been resolved by HPLC using reverse-phased C 18 columns or thin-layer chromatography with PEI-Cellulose, in which the former has been used for production purposes'), (0.0037477378155292545, 'Chromatograms were obtained by using 254 nm as the absorbance wavelength'), (0.0037439303612882262, '1d the elution profile obtained from concentration of the A(pA) 3 tetramer core is shown'), (0.0037208384160075554, 'The lysates were cleared by centrifugation at 20,000 × g for 3 min, and the supernatants containing the proteins stored at −80°C'), (0.0037149879913844657, 'The day after, elution was performed by a step gradient to 50 % of Buffer D, allowing for highly concentrated fractions of the individual oligoadenylates'), (0.0037069878347324517, 'Immediate de-activation of RNase L is therefore required following viral infection, which can be achieved by either of two ways, (i) through the reversible binding of an RNase L inhibitor allowing for temporary inactivation, or (ii) by degradation of the activator 2-5As leading to persistent inactivation [17, 18] '), (0.003695091075647143, 'Even though these enzymes all degrade the 2′-5′ oligoadenylates in vitro, the evidence that they truly antagonize the 2-5A system in cells has yet to be reported'), (0.0036909636201228157, 'Processive enzymes on the other hand might catalyze the reactions to completion generating two reaction products exclusively: adenosine plus AMP for 2-5A core molecules and ATP plus AMP for 2-5As'), (0.003666926343284891, 'Contrary, the nuclease assays produced a mixture of 2-5A molecules, which were resolved by chromatography'), (0.0036619240095410927, 'for degradation of A(pA) 5 hexamer core the level of products are: pentamer core > tetramer core > trimer core > dimer core > adenosine (Figs'), (0.0036489512144926577, 'Also 5′-phosphatases trimming 2-5As to 2-5A core molecules might take play in degradation of 2′-5′ oligoadenylates in cells'), (0.0036365479283136624, 'This correlates with the fact that PDE12 has been described as a 2′-5′ exonuclease producing 5′-AMP during each reaction cycle, which is temporally separated by dissociation and re-binding of substrates (i.e'), (0.0036278898833288476, 'PDE12 is localized in the mitochondrial matrix [23] , ENPP1 in the plasma membrane with its active site pointing towards the extracellular matrix [24] and AKAP7 in the nucleus of cells [25] '), (0.00362680508927212, 'The filtrates were analyzed on a Mono Q HR 5/5 column on an ÄKTAexplorer using a linear gradient of 0-12 % and 12-16 % of Buffer D in C over 18 CV and 20 CV, respectively'), (0.0036240017702182372, '3 Single-product OAS assay using dNTPs and NAD + as substrates'), (0.0036151132946426446, 'The activities measured for purified human PDE12ΔmTP-His and PDE12ΔmTP-His in HeLa cell protein extracts are listed in Table 1 '), (0.003601694715682481, 'The assay requires prior isolation of the A(pA) 3 tetramer core'), (0.0035850998879594764, 'The reactions were incubated for 1 h at 37°C using a thermal cycler, and stopped by heating to 94°C for 5 min'), (0.0035792108215807663, 'The reactions were set up using a single 2′-5′ oligoadenylate substrate, which are combined with a (candidate) nuclease and incubated for a given amount of time'), (0.0035762631879775277, 'Also, adenosine and the ApA core dimer were found to only weakly bind the resin under the experimental conditions used (running buffer: 20 mM Tris-HCl, pH 7.5)'), (0.0035600012739334668, 'Similar assays using rabbit OAS1 in reactions with NAD + and NTPs (ATP, GTP, UTP and CTP, respectively) have previously been conducted yielding specific activities of 0.0009 mmole/(sec*g) for NAD-pA, 0.0005 mmole/(sec*g) for NAD-pG, 0.0009 mmole/(sec*g) for NAD-pU and 0.0008 mmole/(sec*g) for NAD-pC [15] '), (0.0035584661386902114, 'For analysis of the samples 20 μl of filtrate was applied to a HiTrap Q column (1 mL, GE Healthcare) and fractionated with a stepwise linear gradient of 0-9 %, 9-17 %, 17-17.7 %, 17.7-22 %, 22-100 % of Buffer D in C over 3 mL, 54 mL, 20 mL, 50 mL and 6 mL, respectively'), (0.0035545430381938403, 'Chromatograms were obtained with 254 nm as the absorbance wavelength'), (0.00355454303819384, 'Chromatograms were obtained with 254 nm as the absorbance wavelength'), (0.0035473572188719407, 'tRNA, Ap 4 A, Ap 3 A)'), (0.0035473572188719407, '[51] )'), (0.0035473572188719407, '3a, inset) '), (0.0035473572188719407, '1a '), (0.003532092554288921, 'By contrast, AKAP7 may have access to the 2′-5′ oligoadenylates based on its cellular localization and the fact that nuclear pores allow for diffusion of molecules between compartments'), (0.0035267248920569554, 'The elution was carried out in a gradient of Buffer B (20 mM Na 2 PO 4 , 0.5 M NaCl, 500 mM imidazole, pH 7.4): a step gradient from 0 to 10 % B, a linear gradient from 10 to 70 % B in 10 mL and a step gradient from 70 to 100 % B'), (0.003518528410188294, 'The larger reaction volume are practical only because of the ion-exchange procedure used, where in practice, no limits exist for the sample injection volume.In Poulsen et al'), (0.0035084008424528168, 'A homogenous preparation of the pppApA, the 2-5A dimer could not be obtained due to co-elution with ATP (see Fig'), (0.0034941198866540704, 'Both in terms of unavailability of free/reactive 5′ phosphates and the presence of a 2′ hydroxyl group, NAD + closely mimics the A(pA) 3 substrate'), (0.0034933241482075447, 'The analysis of 2-5A synthesis was carried using a Mono Q HR 5/5 column (GE Healthcare) on the ÄKTAexplorer'), (0.0034889671940262932, 'Red and green curves: Control reactions using His-OAS1 together with dATP or A(pA) 3 alone, respectively'), (0.003467151417434666, 'In the time span 20-90 min, ATP was added every 10 min to sequentially increase the ATP concentration by 1 mM ending with with a final concentration of 10 mM'), (0.0034649227292976115, '4 and for HeLa cell protein extracts in Fig'), (0.003451980290114204, 'Table 1 provides an overview of the specific enzyme activities calculated for PDE12, based on the reactions presented'), (0.0034471476062697126, 'At least six OAS isoforms are expressed from these four human genes: two splice variants from the OAS1 and OAS2 genes and a single variant from each of the OASL and OAS3 genes [5, 6] '), (0.0034471166868878206, 'Blue curves: Profiles from reactions using His-OAS1 together with NAD + and dNTP'), (0.00344518584251605, 'Therefore,Ã start Â 4 Â 0:02 Â 10 −3 l 3600 s x Â 1:2 x 10 −6 g we synthesized the 2′-5′ oligoadenylates by enzymatic means using the His-OAS1 p42 variant in large-scale reactions with ATP'), (0.003441751710380376, 'These enzymes might be expected to fulfill other cellular roles from that of the 2-5A system'), (0.0034259995321367486, '[15] , showing that NAD + and ATP are used with equal efficiencies when part of the same reaction'), (0.0034171878481248684, 'Upon binding of viral dsRNA, the OAS enzymes synthesize 2-5As from ATP leading to accumulation of 2-5As'), (0.003405730551695748, 'A 200 μL aliquot was applied to the column equilibrated in Buffer C (20 mM Tris-HCl, pH 7.5) and fractionated in a linear gradient of 0-20 % and 20-22.8 % of Buffer D (1 M NaCl, 20 mM Tris-HCl pH 7.5) using 18 column volumes (CV) and 50 CV, respectively'), (0.003401859653400295, 'The end-reactions were diluted in Buffer C (15 fold) and applied to AcroPrep 10 K Filter Plates by centrifugation at 3000 × g for 15 min'), (0.0034014367445658385, 'The OASs are induced and activated by IFNs leading to nanomolar levels of 2-5As, which activate RNase L'), (0.0033935260688442684, 'Note that the above formulas are valid only to enzymes producing one molecule of AMP per reaction cycle, which is true for exonucleases like PDE12'), (0.003389061648718293, 'Purification of OAS1 p42 was done by Ni 2+ -chromatography in one step, and purification of PDE12ΔmTP-His was done in two steps, Ni 2+ -chromatography and quaternary (Q) anion-exchange chromatography'), (0.003388506805328052, 'They rely on very short 2′-5′ oligoadenylate substrates, especially the 2-5A core dimer ApA, which despite being commercially available, is not biologically relevant in the sense that oligoadenylates of a minimum of three AMP moieties (i.e'), (0.0033872588066418082, 'The 2′ hydroxyl (OH) to be linked with dNMP during the reaction has been highlighted in red'), (0.0033760103295835597, 'At OD 600 = 0.6, the cultures were added IPTG to a final concentration of 1 mM and left for overnight incubation at 20°C at 200 rpm to allow protein expression'), (0.003357890666664489, 'The OAS1 variant used here is the human p42 form cloned with an N-terminal His-tag fusion (His-OAS1).The mitochondrial localization of human PDE12 is facilitated by an N-terminal mitochondrial targeting peptide (mTP) spanning residues 1-16'), (0.003354718500169135, '[23] , we described a model accounting for activation and deactivation of the 2-5A system following viral exposure based on tight regulation of 2-5As'), (0.0033414732144562472, 'endogenous activities versus total enzyme activities, need to be distinguished to precisely map the activity specific to the expressed recombinant protein'), (0.003339485022680392, 'Red and green curves: Control reactions after incubation of His-OAS1 with either NAD + or dNTP alone, respectively'), (0.0033309050268758213, 'The cells were harvested by centrifugation at 7000 rpm for 20 min at 4°C and ruptured using the B-PER Protein Extraction Reagent (0.5 mL/g dry weight, Thermo Scientific)'), (0.0033295384991937796, 'Also two viral proteins, ns2 [21] and VP3 [22] belonging to the group 2a betacoronaviruses and group A rotaviruses, respectively, have been found to degrade the 2′-5′ oligoadenylates in vitro'), (0.0033242488672001703, '[34] obtained 0.27, 1.01, 0.43, 0.09 and 0.01 mg of the pppA(pA) dimer, pppA(pA) 2 trimer, pppA(pA) 3 tetramer, pppA(pA) 4 pentamer and pppA(pA) 5 hexamer in their HPLC-based method starting from a 1 mL reaction volume, respectively'), (0.003313318120291485, 'The literature on how to resolve and concentrate individual 2-5A molecules from within a mixture is however limited, the best option currently available being the high-performance liquid chromatography (HPLC)-based method described by Morin et al'), (0.0033015639867659046, 'Synthesis of 2-5As was performed with a human OAS1 isoform known to produce oligomers up to 30mers in vitro [5] '), (0.0032846090808941715, 'Analysis of purified recombinant proteins by SDS-PAGE and Coomassie Blue staining.OASs: 2′-5′ oligoadenylate synthetases; PDE12: Phosphodiesterase 12; 2-5As: 5′triphosphorylated, 2′-5′-linked oligoadenylate polyribonucleotides; 2-5A core molecules: 5′-dephosphorylated forms of 2-5As; ENPP1: Ectonucleotide pyrophosphatase/phosphodiesterase 1; AKAP7: A-kinase anchoring protein 7; NAD + : Nicotinamide adenine dinucleotide.The authors declare that they have no competing interests.'), (0.0032845832189829166, 'Background 5′-triphosphorylated, 2′-5′-linked oligoadenylate polyribonucleotides (2-5As) of the structure pppA(pA) n where n ≥ 1, are the key components of the interferon (IFN)induced antiviral 2-5A system'), (0.0032799359000387288, 'Two splice variants, p42 and p46 are the main products of the human OAS1 gene'), (0.0032382573713815276, 'In addition, the ns2 and VP3 proteins have been shown to antagonize the 2-5A pathway during viral infection by preventing RNase L activation, thereby evading the host innate immune response [21, 22] '), (0.0032275695831720883, 'Please note that the activity chromatograms representing the EV (purple) and DsRed (yellow) controls in Fig'), (0.00322282036375955, '1.4 mg pr mg enzyme of hexamers), whereas the enzymes used by Morin et al'), (0.003194208826038317, 'The conversion from 2-5As into 2-5A core molecules was performed by treatment with alkaline phosphatase'), (0.0031913905939180897, 'RNase L cleaves RNA 3′ to UN sequences, but mainly at UA and UU sites, N being any of the nucleotide bases in RNA, and this results in inhibition of viral replication [9] [10] [11] [12] '), (0.0031896438855136228, 'With the recent discovery of novel cellular nucleases (ENPP1 and AKAP7) as well as virally encoded nucleases (ns2 and VP3), this process however might prove to be more complex than hitherto expected (readers are referred to a recent review by Silverman et al'), (0.003187603705766503, 'All the chromatographic procedures were carried using 254 nm as the absorbance wavelength'), (0.0031704887564440705, 'Similarly, the A(pA) 3 will be committed to the acceptor-site due to a lack of 5′ phosphates'), (0.0031700639375192435, 'The lysates were cleared by centrifugation at 12,000 rpm for 10 min at 4°C and diluted four-fold in Buffer A (20 mM Na 2 PO 4 , 0.5 M NaCl, pH 7.4) before filtration (0.22 μM)'), (0.0031697076379921577, 'The porcine OAS1 used by them exhibited a conversion rate of 33.5, 124.9, 53.5, 10.7 and 1.4 mg of oligoadenylate production per mg OAS1, respectively'), (0.0031622830218236628, 'NAD + , a coenzyme present in all living cells is composed of two nucleotides one containing an adenine base (the 2′ nucleotide) and the other a nicotinamide base (Fig'), (0.003130067396468781, 'The His-OAS1 eluted in the interval 10-70 %'), (0.0031134026203411378, 'This is based on experiments showing accumulation of 2-5A core molecules over 2-5As in cells upon viral infection [30, 31] '), (0.00310913640525371, 'Protein expression and purification were carried out as described in [23] '), (0.0031080660721021017, 'The reaction can be summarized as follows: dATP + A(pA) 3 → A(pA) 3 pdA + PPi'), (0.0030830045219097904, 'They are identical in their N-termini of 346 aa named the core OAS unit and differ in their Ctermini with extensions of 18 and 54 aa, respectively [5] '), (0.0030759209560063225, 'For PDE12 and ENPP1, the 2′-5′ oligoadenylates therefore need to traverse a membrane, i.e'), (0.003070435217815257, 'Consequently, the single A(pA) 3 pdA product formed is blocked for further 2′ elongation by incorporation of dAMP'), (0.003056624910782017, 'The insert in (a) shows the structural formula of NAD + '), (0.0030525888409967464, 'Although the 2-5A system has only been described in vertebrates, orthologues of OAS exist throughout the evolutionary tree of life [38, 52] '), (0.003020443309399423, 'At present, three enzyme candidates exist: the phosphodiesterase 12 (PDE12) [18] , the ectonucleotide pyrophosphatase/phosphodiesterase 1 (ENPP1) [19] and the A-kinase anchoring protein 7 (AKAP7) [20] '), (0.0030157961498792885, 'Whether this is true, or the (A5′)p 4 (5′A)-pA(pA) 2 conjugate inhibited protein synthesis by another mechanism, was not determined'), (0.0030105125944489496, 'The fractions containing PDE12ΔmTP-His were finally pooled and diluted with one volume of 80 % glycerol before storage at −80°C'), (0.003009087660587954, 'Red curve in (a): Chromatogram obtained using control molecules: Adenosine, 5′-AMP, 5′-ADP and 5′-ATP as indicated'), (0.0029984128121396504, 'Note that regardless of the degradation mechanism (distributive versus processive), one molecule of AMP is produced per cleavage event assuming that degradation is mediated by an exonuclease activity'), (0.002990135354629191, 'Our assays produce only a single reaction product allowing a precise kinetic assessment of the enzymes'), (0.00298777356971401, 'anion-exchange chromatography versus thin-layer chromatography, or simply that we have used dNTPs over NTPs in the reactions'), (0.002975142300945267, 'This has been studied for the NAD + , ADP-ribose and (A5′)p 4 (5′A) derivatives [49] '), (0.002973312306891156, 'The specific enzyme activity of PDE12 has previously been determined [41, 50] '), (0.0029699951055531556, 'OAS2 has been found to produce oligoadenylates of similar length as OAS1 [5] , whereas OAS3 can produce oligoadenylates of at least 12mer length [46, 47] '), (0.002952858265102045, 'The following reaction scheme describes this mode of catalysis: (p) x A(pA) n → (p) x A + nAMP, where x = [0, 1, 2 or 3] and n ≥ 1'), (0.002951185906327573, '5 closely overlap (as expected), and thus cannot be discerned in the figure.The levels of high molecular weight products are higher than low molecular weight products, e.g'), (0.0029412570363667448, 'In comparison, the mice genome encodes multiple OAS genes: eight OAS1 genes, one each of the OAS2 and OAS3 genes and two OASL genes, believed to have arisen from duplication and divergence events from a common ancestral gene [7, 8] '), (0.0029227486377665164, 'The ability of AKAP7 to restore infectivity of a mutant murine coronavirus carrying an inactivated variant of the ns2 gene has recently been investigated [20] '), (0.0029076044726006607, 'human and bovine proteins share 92 % similarity at the amino acid level), immediately suggests that assay-dependent factors and not variation in protein sequence may have caused the observed difference [18] '), (0.002906702977390957, 'The OAS2 and OAS3 can also produce oligomers of considerable length'), (0.0028866309198441274, 'The single-product dNTP/NAD + assay (or modifications hereof ) could be used to more broadly address properties of enzymes exhibiting 2′-5′-nucleotidyl transferase activity'), (0.0028603759918057387, 'In Fig'), (0.002860375991805738, 'In Fig'), (0.002850444463323657, 'In the donor-site, all nucleoside-triphosphates (NTPs) as well as deoxy-nucleoside-triphosphates (dNTPs) can be used, N specifying the nucleotide bases in DNA and RNA'), (0.0028483269525648954, '1e , an aliquot of the final concentrated sample was resolved by Mono Q chromatography to confirm molecular purity'), (0.002840914823982557, 'We also carried out a reaction with protein extracts from HeLa cells overexpressing an irrelevant Fig'), (0.0028299661016969275, 'Briefly, BL21 (DE3) cells transformed with the above-mentioned construct were grown in selective LB medium and the expression induced with IPTG'), (0.0028269862523103368, 'The cells were harvested by centrifugation, and ruptured by sonication and highpressure homogenization'), (0.002817261305984904, 'Variations may also result from the approach used to quantify reactants and products'), (0.0028124065900688422, 'Expression and purification of OAS1 isoforms are straightforward compared with OAS2'), (0.002785645314282125, 'Using this procedure, we have obtained very high yields of many individual 2′-5′ oligoadenylates'), (0.0027805202589947365, 'The OASs actually combines a broad range of substrates (not only ATP) to form 2′-5′ heterooligonucleotides in vitro, thus they are better described as general 2′-5′-nucleotidyl transferases [14, 15] '), (0.0027696676894325865, 'Based on cellular localization, one could then assign distinct roles to the individual forms in the pathway'), (0.0027516973043871028, 'either the inner mitochondrial membrane or the plasma membrane in order for degradation to take place'), (0.002735903341866713, 'The conjugates were firstly screened for an ability to inhibit protein synthesis in an encephalomyocarditis-RNA-programmed tumour cell-free system'), (0.0027094939223183943, 'before dilution) was converted to less than 3 mL (~70 fold concentration of the molecule)'), (0.0026648231559186037, 'Our enzyme produced higher yields of the longer oligomers (6.6 mg vs'), (0.0026571460648240858, 'The requirements on the acceptor-site is a 2′-end positioned AMP linked in an RpA configuration, where R specifies either ATP, nicotinamide adenine dinucleotide (NAD + ), or oligomeric or polymeric primers (e.g'), (0.0026179805624325053, 'This difference (5-6 fold) might result from the lower estimate being based on formation of multiple products, i.e'), (0.002616622928427438, 'Despite PDE12, ENPP1 and AKAP7 degrades 2′-5′ oligoadenylates in vitro their importance during viral infection, has yet to be reported'), (0.0026008676830216325, 'For concentration determination, ATP was used as an internal control'), (0.0025740293059002286, '15.200 for dATP, 9.300 for dCTP, 13.700 for dGTP and 9.600 for TTP'), (0.00257159989776264, 'Importantly, the above synthetase assays are applicable also to crude extracts, e.g'), (0.0025702139111929904, 'Unknown 5′-phosphatases convert cytotoxic 2-5As to less cytotoxic 2-5A core molecules simultaneously with viral RNA degradation by 2-5A-activated RNase L'), (0.0025699915574473376, 'OAS1 and PDE12 recombinant proteins'), (0.0025664360521740716, 'Plasmids were the PDE12ΔmTP-His construct in pTriEx-3 Neo, redfluorescent protein (DsRed) also in pTriEx-3 Neo and as a control the empty pTriEx-3 Neo vector'), (0.0025619513207484623, 'Importantly, neither of the conjugates were detected naturally in mouse L cells even after IFNstimulation and virus infection'), (0.002548576161904627, 'Indeed our estimates are higher, which may reflect the different sources of OAS used, i.e'), (0.0025328749213403123, 'Isolated fractions were of high homogeneity as evaluated by Coomassie Blue stained SDS-PAGE protein gels (Additional file 1: Figure S1 ).Compared with 3′-5′ phosphodiester-linked oligonucleotides, 2-5As are difficult to attain chemically'), (0.002521129610082138, 'The fact that PDE12 is conserved throughout the mammalian lineage (e.g'), (0.002505568491062412, 'Whereas chemical synthesis is cumbersome being reported in an eight-step procedure [32] , enzyme-mediated synthesis is easier and done using purified OASs [14, [33] [34] [35] [36] '), (0.0025054335047731344, 'Note that each figure (a-c) includes four superimposed chromatograms: blue curves PDE12, yellow curves DsRed, purple curves EV and green curves -'), (0.0024857687680351686, 'Elution fractions were finally mixed with one volume of 80 % glycerol and stored at −80°C'), (0.0024816955869647454, 'For instance, the purified bovine sample appeared very crude as analyzed by SDS-PAGE silver staining, whereas ours was nearly free of contaminants'), (0.002467793827652992, 'These 2-5As in turn activate RNase L, an endoRNase degrading viral and cellular RNA'), (0.0024672860485713314, 'Brown curves: experimental salt gradients'), (0.0024672860485713314, 'Brown curves: Experimental salt gradients'), (0.0024672860485713314, 'Brown curves: Experimental salt gradients'), (0.0024672860485713314, 'Brown curves: Experimental salt gradients'), (0.002463559764657494, 'The reaction sample was heatinactivated at 85°C for 15 min before filtration (0.45 μm)'), (0.0024135643523472503, 'One gene family induced by IFNs is the double-stranded RNA-dependent 2′-5′ oligoadenylate synthetases (dsRNA-dependent OASs) in humans comprising four members, OAS1, OAS2, OAS3 and OAS-like (OASL)'), (0.0023556640867806408, 'mg enzyme of tetramers)'), (0.0023486834390517588, 'Protein purification was with a HiTrap Chelating HP column (1 mL, GE Healthcare) charged with 0.1 M NiSO 4 using an ÄKTAexplorer chromatography system (GE Healthcare)'), (0.0022816202000056256, 'produced higher yields of the smaller oligomers (53.5 mg vs'), (0.0022662493974834243, 'The reactions also contained 1 mM MgCl 2 , 1 mM DTT, 1 mg/mL BSA, 1x protease inhibitor (EDTA-free, Roche Applied Science) and 20 mM Hepes, pH 7.0'), (0.00225506868617358, '[34] versus 100 mL in our case'), (0.0021818152623600093, '1 mL in Morin et al'), (0.0021748658981006995, 'trimer) containing 5′ phosphate(s) are required for activation of RNase L [44] '), (0.002158125043889669, 'mAU, milli-absorbance unit and mS/cm, milliSiemens/centimeter Fig'), (0.0021488798261223886, 'Each figure (a-c) includes two chromatograms that were superimposed'), (0.002114700883588932, 'Here a starting volume of~200 mL (i.e'), (0.0021066081933942297, 'Each figure (a-d) includes three chromatograms that have been superimposed'), (0.0020953762926992896, 'Upon binding of cognate receptors, they induce numerous intracellular signaling cascades, leading to transcriptional activation of several hundred genes, which altogether determine the biological outcome involving antiviral, antitumoral, and immunomodulatory effects [1] [2] [3] [4] '), (0.0020937623354847714, 'Brown curve: Experimental salt gradient'), (0.002086932394619068, 'human versus rabbit, the strategy undertaken for analyzing product formation, i.e'), (0.0019565310595497354, 'IFNs are extracellular cytokines specific to (jawed) vertebrates and central to host innate immunity'), (0.0018918424890493357, 'This result was however contradicted by Ferbus et al'), (0.0018658787968155945, 'mAU, milli-absorbance unit and mS/cm, milliSiemens/centimeter'), (0.001848416631951709, 'Protein expression was carried out for 24 h, before lysis with 1 % NP40, 0.5 M CH 3 COOK added 2× Complete protease inhibitor cocktail (Roche)'), (0.001801182409409962, 'Likewise, many 2-5A nuclease assays have been reported [18, [40] [41] [42] [43] '), (0.0017893904395090943, 'Fig'), (0.0017867582473387877, 'In comparison, Morin et al'), (0.0017591821858245634, 'These molecules were thus detected 3 )'), (0.0017464950678191234, '1b) '), (0.0017145282349136743, 'bacterial or mammalian cell protein extracts (data not shown)'), (0.001448650822841242, 'How exactly this would occur remains unknown, though processes like receptor-mediated transport or diffusion may be involved'), (0.0014063482598648655, '17.2 mg pr'), (0.0014026448332351434, 'a distributive enzyme) [19] '), (0.0014001055192666288, '[34] '), (0.0013863333625324574, 'Different controls were included'), (0.0005321035828307917, '5) '), (0.0005321035828307917, '5 )'), (0.0005321035828307917, '5 '), (0.0005321035828307917, '3) '), (0.0005321035828307917, '3) '), (0.0005321035828307917, '2) ')]\n"
          ],
          "name": "stdout"
        }
      ]
    },
    {
      "cell_type": "code",
      "metadata": {
        "id": "Pshehuzu5P-x",
        "colab_type": "code",
        "outputId": "2bd0fad6-b6d3-462d-a2d0-0d70e37a4521",
        "colab": {
          "base_uri": "https://localhost:8080/",
          "height": 124
        }
      },
      "source": [
        "for i in range(5):\n",
        "  print(ranked_sentence[i][1])"
      ],
      "execution_count": 66,
      "outputs": [
        {
          "output_type": "stream",
          "text": [
            "The chromatograms were obtained using 254 nm as the absorbance wavelength.The enzyme activity reaction catalyzed by OAS can be formulated with the general formula below, in which S1 and S2 are the substrates and P the product formed: S1 þ S2 → P E, the specific activity of the enzyme (mole P generated per second per gram protein) can be calculated from the equation:[S2] start is the start conc of S2, V is the reaction volume, M is the amount of protein added and T is the reaction time.The reaction schemes for the two kinds of OAS activities measured in this paper are depicted in reaction 1 and reaction 2, respectively.In reaction 1, the specific activity of the OAS1 enzyme (E1(OAS1) with dATP and A(pA) 3 as substrates (S1 and S2, respectively) was calculated with the formula:The integral refers to the area under the individual peaks from the substrates and products in the chromatograms.Reaction 2: dNTP + NAD + → NAD − pdN In reaction 2, dNTP (dATP, dCTP, dGTP or TTP) and NAD + were used as substrates (S1 and S2, respectively) in reactions with the OAS1 enzyme\n",
            "The specific activity of PDE12 (mole 5′-AMP synthesized per second per gram of protein (mole AMP/(sec*g)) was calculated with the formula:Total 254nm refers to the sum of the integral of all peaks in a given chromatogram at 254 nm for a single reaction, [A(pA) n ] start is the start concentration of the substrate A(pA) n, V is the reaction volume, T the reaction time and M the amount of protein added.As an example, the tetramer core substrate would be expected to undergo cleavage into the following products using PDE12 as the enzyme:In the case of purified protein, the specific enzyme activity of PDE12, E(PDE12) could therefore be calculated using the formula:For reactions including crude protein extracts, the specific enzyme activities were calculated in mmole AMP/ (sec*g of total protein)\n",
            "Of the three substrates utilized here: A(pA) 3 tetramer core, A(pA) 4 pentamer core and A(pA) 5 hexamer core, a total of 17.2, 15.5 and 11.3 mg were obtained corresponding to 10.1, 9.1 and 6.6 mg of oligoadenylate per mg human His-OAS1 used in the reaction, respectively.We have developed a number of OAS enzyme assays using the isolated oligoadenylates as well as NAD + as substrates\n",
            "We calculated the specific enzyme activity of the human OAS1 p42 for production of A(pA) 3 pdA to be 1.1 mmole/(sec*g).We also made additional set-ups and optimized the assay using alternative 'acceptor' and 'donor' molecules as substrates for the OAS (Fig\n",
            "The fact that all reactants and products are negatively charged at physiological pH allow for fractionation by anionexchange chromatography.For demonstrating the assay we incubated the purified human His-OAS1 with the substrates dATP and A(pA) 3 and allowed the reaction to proceed for 30 min\n"
          ],
          "name": "stdout"
        }
      ]
    },
    {
      "cell_type": "code",
      "metadata": {
        "id": "PnxL0Jv6I0Wz",
        "colab_type": "code",
        "colab": {}
      },
      "source": [
        "#cosine_similarity(df)"
      ],
      "execution_count": 0,
      "outputs": []
    },
    {
      "cell_type": "markdown",
      "metadata": {
        "id": "tmH718CDd60z",
        "colab_type": "text"
      },
      "source": [
        "with open('cosine_file.txt', 'w') as tx:\n",
        "    for listitem in df_k2['text']:\n",
        "        tx.write('%s\\n' % listitem)"
      ]
    },
    {
      "cell_type": "markdown",
      "metadata": {
        "id": "grKqt5W_i5wI",
        "colab_type": "text"
      },
      "source": [
        "with open('cosine_file.txt', 'w') as tx2:\n",
        "    tx2.write(k)"
      ]
    },
    {
      "cell_type": "markdown",
      "metadata": {
        "id": "SgtXvtWgw3aL",
        "colab_type": "text"
      },
      "source": [
        "**GENSIM**"
      ]
    },
    {
      "cell_type": "code",
      "metadata": {
        "id": "0FRJtW3UkRfF",
        "colab_type": "code",
        "colab": {}
      },
      "source": [
        "from pprint import pprint as print\n",
        "from gensim.summarization import summarize"
      ],
      "execution_count": 0,
      "outputs": []
    },
    {
      "cell_type": "code",
      "metadata": {
        "id": "qVBA_2Wgkgt0",
        "colab_type": "code",
        "colab": {}
      },
      "source": [
        "s=summarize(k,split=True,ratio=.0225)"
      ],
      "execution_count": 0,
      "outputs": []
    },
    {
      "cell_type": "code",
      "metadata": {
        "id": "AmWA8b1YlQxq",
        "colab_type": "code",
        "outputId": "11c2a0f2-1c60-4d7a-9b96-e3ca1f6fc590",
        "colab": {
          "base_uri": "https://localhost:8080/",
          "height": 35
        }
      },
      "source": [
        "len(s)"
      ],
      "execution_count": 0,
      "outputs": [
        {
          "output_type": "execute_result",
          "data": {
            "text/plain": [
              "5"
            ]
          },
          "metadata": {
            "tags": []
          },
          "execution_count": 579
        }
      ]
    },
    {
      "cell_type": "code",
      "metadata": {
        "id": "eGRPIKSklpKU",
        "colab_type": "code",
        "outputId": "0604db67-6a27-49fd-a6ec-0c0c71d8d3c4",
        "colab": {
          "base_uri": "https://localhost:8080/",
          "height": 124
        }
      },
      "source": [
        "s"
      ],
      "execution_count": 0,
      "outputs": [
        {
          "output_type": "execute_result",
          "data": {
            "text/plain": [
              "['The following general reaction scheme apply to the varied enzyme capabilities of the OASs: RpA + (d)NTP → PPi + RpA-(d)NMP in which the incorporation of AMP prompts for oligoadenylate synthesis by means of multiple 2′ elongation events (the other NMPs and dNMPs make up single incorporation events only).Due to low sequence specificity, RNase L degrades cellular RNA and prolonged activation results in an antiproliferative response leading to apoptosis [9] [10] [11] 16] .',\n",
              " 'This assay is well-suited to assess the broader cellular role expected of the OASs, based on the very diverse substrate specificity in vitro.Human OAS1 p42 containing an N-terminal His-tag (His-OAS1) cloned in the pET9d bacterial expression vector was a kind gift from Kineta (formerly Illumigen Biosciences).The plasmid was transformed into the E.coli BL21 (DE3) strain and plated on selective LB agar (50 μg/mL ampicillin), followed by inoculation of single colonies to selective LB medium for incubation at 37°C for 16 h at 200 rpm.',\n",
              " 'The specific activity of PDE12 (mole 5′-AMP synthesized per second per gram of protein (mole AMP/(sec*g)) was calculated with the formula:Total 254nm refers to the sum of the integral of all peaks in a given chromatogram at 254 nm for a single reaction, [A(pA) n ] start is the start concentration of the substrate A(pA) n, V is the reaction volume, T the reaction time and M the amount of protein added.As an example, the tetramer core substrate would be expected to undergo cleavage into the following products using PDE12 as the enzyme:In the case of purified protein, the specific enzyme activity of PDE12, E(PDE12) could therefore be calculated using the formula:For reactions including crude protein extracts, the specific enzyme activities were calculated in mmole AMP/ (sec*g of total protein).',\n",
              " 'We also carried out a reaction with protein extracts from HeLa cells overexpressing an irrelevant Fig. 2 Single-product OAS assay using dATP and A(pA) 3 as substrates.',\n",
              " 'The purified human recombinant His-OAS1 enzyme was incubated with NAD + and dNTP (dATP, dCTP, dGTP or TTP) for 30 min at 37°C, and the reactants and product resolved using a HiTrap Q column.']"
            ]
          },
          "metadata": {
            "tags": []
          },
          "execution_count": 580
        }
      ]
    },
    {
      "cell_type": "markdown",
      "metadata": {
        "id": "WQcp5HnZFPcJ",
        "colab_type": "text"
      },
      "source": [
        "**xxxxxXXXXXXXXXXXXXXXXXXXXXXXXXXXXXXXXXXXXXXXXXXXXXXXXXXXXXXXXXXX**"
      ]
    },
    {
      "cell_type": "markdown",
      "metadata": {
        "id": "B9NMVD7hCEGV",
        "colab_type": "text"
      },
      "source": [
        "##**BERT**"
      ]
    },
    {
      "cell_type": "code",
      "metadata": {
        "id": "V6IJW-Z-oeN0",
        "colab_type": "code",
        "outputId": "a23a6298-8d98-449c-aca0-4fc8c4660dd0",
        "colab": {
          "base_uri": "https://localhost:8080/",
          "height": 609
        }
      },
      "source": [
        "! pip install bert-extractive-summarizer"
      ],
      "execution_count": 0,
      "outputs": [
        {
          "output_type": "stream",
          "text": [
            "Requirement already satisfied: bert-extractive-summarizer in /usr/local/lib/python3.6/dist-packages (0.4.2)\n",
            "Requirement already satisfied: spacy in /usr/local/lib/python3.6/dist-packages (from bert-extractive-summarizer) (2.2.4)\n",
            "Requirement already satisfied: scikit-learn in /usr/local/lib/python3.6/dist-packages (from bert-extractive-summarizer) (0.22.2.post1)\n",
            "Requirement already satisfied: transformers in /usr/local/lib/python3.6/dist-packages (from bert-extractive-summarizer) (2.10.0)\n",
            "Requirement already satisfied: numpy>=1.15.0 in /usr/local/lib/python3.6/dist-packages (from spacy->bert-extractive-summarizer) (1.18.4)\n",
            "Requirement already satisfied: wasabi<1.1.0,>=0.4.0 in /usr/local/lib/python3.6/dist-packages (from spacy->bert-extractive-summarizer) (0.6.0)\n",
            "Requirement already satisfied: setuptools in /usr/local/lib/python3.6/dist-packages (from spacy->bert-extractive-summarizer) (46.3.0)\n",
            "Requirement already satisfied: srsly<1.1.0,>=1.0.2 in /usr/local/lib/python3.6/dist-packages (from spacy->bert-extractive-summarizer) (1.0.2)\n",
            "Requirement already satisfied: preshed<3.1.0,>=3.0.2 in /usr/local/lib/python3.6/dist-packages (from spacy->bert-extractive-summarizer) (3.0.2)\n",
            "Requirement already satisfied: catalogue<1.1.0,>=0.0.7 in /usr/local/lib/python3.6/dist-packages (from spacy->bert-extractive-summarizer) (1.0.0)\n",
            "Requirement already satisfied: tqdm<5.0.0,>=4.38.0 in /usr/local/lib/python3.6/dist-packages (from spacy->bert-extractive-summarizer) (4.41.1)\n",
            "Requirement already satisfied: blis<0.5.0,>=0.4.0 in /usr/local/lib/python3.6/dist-packages (from spacy->bert-extractive-summarizer) (0.4.1)\n",
            "Requirement already satisfied: murmurhash<1.1.0,>=0.28.0 in /usr/local/lib/python3.6/dist-packages (from spacy->bert-extractive-summarizer) (1.0.2)\n",
            "Requirement already satisfied: cymem<2.1.0,>=2.0.2 in /usr/local/lib/python3.6/dist-packages (from spacy->bert-extractive-summarizer) (2.0.3)\n",
            "Requirement already satisfied: thinc==7.4.0 in /usr/local/lib/python3.6/dist-packages (from spacy->bert-extractive-summarizer) (7.4.0)\n",
            "Requirement already satisfied: plac<1.2.0,>=0.9.6 in /usr/local/lib/python3.6/dist-packages (from spacy->bert-extractive-summarizer) (1.1.3)\n",
            "Requirement already satisfied: requests<3.0.0,>=2.13.0 in /usr/local/lib/python3.6/dist-packages (from spacy->bert-extractive-summarizer) (2.23.0)\n",
            "Requirement already satisfied: scipy>=0.17.0 in /usr/local/lib/python3.6/dist-packages (from scikit-learn->bert-extractive-summarizer) (1.4.1)\n",
            "Requirement already satisfied: joblib>=0.11 in /usr/local/lib/python3.6/dist-packages (from scikit-learn->bert-extractive-summarizer) (0.15.1)\n",
            "Requirement already satisfied: regex!=2019.12.17 in /usr/local/lib/python3.6/dist-packages (from transformers->bert-extractive-summarizer) (2019.12.20)\n",
            "Requirement already satisfied: sentencepiece in /usr/local/lib/python3.6/dist-packages (from transformers->bert-extractive-summarizer) (0.1.91)\n",
            "Requirement already satisfied: sacremoses in /usr/local/lib/python3.6/dist-packages (from transformers->bert-extractive-summarizer) (0.0.43)\n",
            "Requirement already satisfied: tokenizers==0.7.0 in /usr/local/lib/python3.6/dist-packages (from transformers->bert-extractive-summarizer) (0.7.0)\n",
            "Requirement already satisfied: dataclasses; python_version < \"3.7\" in /usr/local/lib/python3.6/dist-packages (from transformers->bert-extractive-summarizer) (0.7)\n",
            "Requirement already satisfied: filelock in /usr/local/lib/python3.6/dist-packages (from transformers->bert-extractive-summarizer) (3.0.12)\n",
            "Requirement already satisfied: importlib-metadata>=0.20; python_version < \"3.8\" in /usr/local/lib/python3.6/dist-packages (from catalogue<1.1.0,>=0.0.7->spacy->bert-extractive-summarizer) (1.6.0)\n",
            "Requirement already satisfied: certifi>=2017.4.17 in /usr/local/lib/python3.6/dist-packages (from requests<3.0.0,>=2.13.0->spacy->bert-extractive-summarizer) (2020.4.5.1)\n",
            "Requirement already satisfied: urllib3!=1.25.0,!=1.25.1,<1.26,>=1.21.1 in /usr/local/lib/python3.6/dist-packages (from requests<3.0.0,>=2.13.0->spacy->bert-extractive-summarizer) (1.24.3)\n",
            "Requirement already satisfied: chardet<4,>=3.0.2 in /usr/local/lib/python3.6/dist-packages (from requests<3.0.0,>=2.13.0->spacy->bert-extractive-summarizer) (3.0.4)\n",
            "Requirement already satisfied: idna<3,>=2.5 in /usr/local/lib/python3.6/dist-packages (from requests<3.0.0,>=2.13.0->spacy->bert-extractive-summarizer) (2.9)\n",
            "Requirement already satisfied: click in /usr/local/lib/python3.6/dist-packages (from sacremoses->transformers->bert-extractive-summarizer) (7.1.2)\n",
            "Requirement already satisfied: six in /usr/local/lib/python3.6/dist-packages (from sacremoses->transformers->bert-extractive-summarizer) (1.12.0)\n",
            "Requirement already satisfied: zipp>=0.5 in /usr/local/lib/python3.6/dist-packages (from importlib-metadata>=0.20; python_version < \"3.8\"->catalogue<1.1.0,>=0.0.7->spacy->bert-extractive-summarizer) (3.1.0)\n"
          ],
          "name": "stdout"
        }
      ]
    },
    {
      "cell_type": "code",
      "metadata": {
        "id": "8RcBRYcW0gwN",
        "colab_type": "code",
        "outputId": "c8cc1af2-b665-499f-f206-66458339e825",
        "colab": {
          "base_uri": "https://localhost:8080/",
          "height": 165,
          "referenced_widgets": [
            "07defe7d95954c8885b83bfc9a361925",
            "66ece137b3f94c9fb81716573ce5ab60",
            "1f13e870aab243b6ac80f713fd0a0612",
            "985892bc6e594ac2913d1663bf53fbc7",
            "53d93b8fdd2140ee974448f57e166ea9",
            "962b2898128e4577a232f416a4b5715b",
            "039ccd67741f4a138c9eb3df20e67f01",
            "14a7b808894b463d87ccb436049c8dc5",
            "61331dd5d09948858d395704cc0bd47e",
            "02cb350cacee40f2915ba465093adc92",
            "e2de8453fee04562a94988b9201442b2",
            "55b52d9069aa4799bd74bfe114aa6615",
            "7e9fe63e981540109546020f1e7ac2ab",
            "ba0ceb8bf6ff4f06bdf5c82609b1b03f",
            "2c4c1208c7434344ac7c2a481355936c",
            "577a32e4187d467ea975c151d4a65401",
            "b66927d5dd9b4c20935786235ff889bb",
            "32bffa24a3db4cbd899269c7476afeda",
            "966048cc26574fa286fee4d24faae35d",
            "4dae9e30cb2b4ae0bbd65b06e7f1416a",
            "0598c2f6567d4ea0abc7fad2e93c9d9a",
            "5b7b7894f5bf471d9c4321aaac019569",
            "bc3f00c3a1cf43af897b9cb82c75f3f3",
            "9d15ca77f8424215b09091bef9eb9a27"
          ]
        }
      },
      "source": [
        "from summarizer import Summarizer\n",
        "model = Summarizer()\n",
        "result = model(k, min_length=30,ratio=.01)\n",
        "full = \"\".join(result)"
      ],
      "execution_count": 0,
      "outputs": [
        {
          "output_type": "display_data",
          "data": {
            "application/vnd.jupyter.widget-view+json": {
              "model_id": "07defe7d95954c8885b83bfc9a361925",
              "version_minor": 0,
              "version_major": 2
            },
            "text/plain": [
              "HBox(children=(FloatProgress(value=0.0, description='Downloading', max=434.0, style=ProgressStyle(description_…"
            ]
          },
          "metadata": {
            "tags": []
          }
        },
        {
          "output_type": "stream",
          "text": [
            "\n"
          ],
          "name": "stdout"
        },
        {
          "output_type": "display_data",
          "data": {
            "application/vnd.jupyter.widget-view+json": {
              "model_id": "61331dd5d09948858d395704cc0bd47e",
              "version_minor": 0,
              "version_major": 2
            },
            "text/plain": [
              "HBox(children=(FloatProgress(value=0.0, description='Downloading', max=1344997306.0, style=ProgressStyle(descr…"
            ]
          },
          "metadata": {
            "tags": []
          }
        },
        {
          "output_type": "stream",
          "text": [
            "\n"
          ],
          "name": "stdout"
        },
        {
          "output_type": "display_data",
          "data": {
            "application/vnd.jupyter.widget-view+json": {
              "model_id": "b66927d5dd9b4c20935786235ff889bb",
              "version_minor": 0,
              "version_major": 2
            },
            "text/plain": [
              "HBox(children=(FloatProgress(value=0.0, description='Downloading', max=231508.0, style=ProgressStyle(descripti…"
            ]
          },
          "metadata": {
            "tags": []
          }
        },
        {
          "output_type": "stream",
          "text": [
            "\n"
          ],
          "name": "stdout"
        }
      ]
    },
    {
      "cell_type": "code",
      "metadata": {
        "id": "L-26q1G0QmJf",
        "colab_type": "code",
        "outputId": "d131d565-3b57-45a5-9292-64d9f959743a",
        "colab": {
          "base_uri": "https://localhost:8080/",
          "height": 55
        }
      },
      "source": [
        "full"
      ],
      "execution_count": 0,
      "outputs": [
        {
          "output_type": "execute_result",
          "data": {
            "text/plain": [
              "\"Background 5′-triphosphorylated, 2′-5′-linked oligoadenylate polyribonucleotides (2-5As) of the structure pppA(pA) n where n ≥ 1, are the key components of the interferon (IFN)induced antiviral 2-5A system. We calculated the specific enzyme activity of the human OAS1 p42 for production of A(pA) 3 pdA to be 1.1 mmole/(sec*g).We also made additional set-ups and optimized the assay using alternative 'acceptor' and 'donor' molecules as substrates for the OAS (Fig. Indeed our estimates are higher, which may reflect the different sources of OAS used, i.e. human versus rabbit, the strategy undertaken for analyzing product formation, i.e. anion-exchange chromatography versus thin-layer chromatography, or simply that we have used dNTPs over NTPs in the reactions.\""
            ]
          },
          "metadata": {
            "tags": []
          },
          "execution_count": 235
        }
      ]
    },
    {
      "cell_type": "code",
      "metadata": {
        "id": "I46Vg_wdQvoX",
        "colab_type": "code",
        "colab": {}
      },
      "source": [
        "f=full.split('. ')"
      ],
      "execution_count": 0,
      "outputs": []
    },
    {
      "cell_type": "code",
      "metadata": {
        "id": "pvnrCmBoRiOt",
        "colab_type": "code",
        "outputId": "779198ec-dbf1-44a8-8bcc-375f866c534a",
        "colab": {
          "base_uri": "https://localhost:8080/",
          "height": 124
        }
      },
      "source": [
        "f"
      ],
      "execution_count": 0,
      "outputs": [
        {
          "output_type": "execute_result",
          "data": {
            "text/plain": [
              "['Background 5′-triphosphorylated, 2′-5′-linked oligoadenylate polyribonucleotides (2-5As) of the structure pppA(pA) n where n ≥ 1, are the key components of the interferon (IFN)induced antiviral 2-5A system',\n",
              " \"We calculated the specific enzyme activity of the human OAS1 p42 for production of A(pA) 3 pdA to be 1.1 mmole/(sec*g).We also made additional set-ups and optimized the assay using alternative 'acceptor' and 'donor' molecules as substrates for the OAS (Fig\",\n",
              " 'Indeed our estimates are higher, which may reflect the different sources of OAS used, i.e',\n",
              " 'human versus rabbit, the strategy undertaken for analyzing product formation, i.e',\n",
              " 'anion-exchange chromatography versus thin-layer chromatography, or simply that we have used dNTPs over NTPs in the reactions.']"
            ]
          },
          "metadata": {
            "tags": []
          },
          "execution_count": 237
        }
      ]
    },
    {
      "cell_type": "markdown",
      "metadata": {
        "id": "Dpf7E9w-xJUy",
        "colab_type": "text"
      },
      "source": [
        "**XXXXXXXXXXXXXXXXXXXXXXXXXXXXXXXXXXXXXXXXXXXXXXXXXXXXXXXXXXXXXXXXXXXXXXXXXXXXXXXXXXXXXXXXXXXXXXXXXXXXXXXXXXXXXXXXXXXXXXXXXXXXXXXXXXXXXXXXXXXXXXXXXXXXXXXXXXXXXXX**X"
      ]
    },
    {
      "cell_type": "markdown",
      "metadata": {
        "id": "ozwE78hVxLKs",
        "colab_type": "text"
      },
      "source": [
        "**TRYING TO INSTALL + USE ROGUE**"
      ]
    },
    {
      "cell_type": "code",
      "metadata": {
        "id": "msxkEs4qIjtf",
        "colab_type": "code",
        "outputId": "83427e1a-6223-4d78-9532-65af589ab9e7",
        "colab": {
          "base_uri": "https://localhost:8080/",
          "height": 211
        }
      },
      "source": [
        "! pip install git+https://github.com/tagucci/pythonrouge.git"
      ],
      "execution_count": 0,
      "outputs": [
        {
          "output_type": "stream",
          "text": [
            "Collecting git+https://github.com/tagucci/pythonrouge.git\n",
            "  Cloning https://github.com/tagucci/pythonrouge.git to /tmp/pip-req-build-o1do0_9e\n",
            "  Running command git clone -q https://github.com/tagucci/pythonrouge.git /tmp/pip-req-build-o1do0_9e\n",
            "Building wheels for collected packages: pythonrouge\n",
            "  Building wheel for pythonrouge (setup.py) ... \u001b[?25l\u001b[?25hdone\n",
            "  Created wheel for pythonrouge: filename=pythonrouge-0.2-cp36-none-any.whl size=285402 sha256=f5950b2a66b7a6dba97cbddf2b22e15d11ff3db82b835e56f20cc57524c3e1ff\n",
            "  Stored in directory: /tmp/pip-ephem-wheel-cache-nehhtucz/wheels/fd/ff/be/6716935d513fa8656ab185cb0aa70aed382b72dda42bf09c95\n",
            "Successfully built pythonrouge\n",
            "Installing collected packages: pythonrouge\n",
            "Successfully installed pythonrouge-0.2\n"
          ],
          "name": "stdout"
        }
      ]
    },
    {
      "cell_type": "code",
      "metadata": {
        "id": "RgDLXGo1I3rY",
        "colab_type": "code",
        "colab": {}
      },
      "source": [
        "import pythonrouge"
      ],
      "execution_count": 0,
      "outputs": []
    },
    {
      "cell_type": "code",
      "metadata": {
        "id": "B4xwHqF0LUfL",
        "colab_type": "code",
        "colab": {}
      },
      "source": [
        "from pythonrouge.pythonrouge import Pythonrouge\n",
        "\n",
        "# system summary(predict) & reference summary\n",
        "summary = [[\" Tokyo is the one of the biggest city in the world.\"]]\n",
        "reference = [[[\"The capital of Japan, Tokyo, is the center of Japanese economy.\"]]]\n",
        "\n",
        "# initialize setting of ROUGE to eval ROUGE-1, 2, SU4\n",
        "# if you evaluate ROUGE by sentence list as above, set summary_file_exist=False\n",
        "# if recall_only=True, you can get recall scores of ROUGE\n",
        "rouge = Pythonrouge(summary_file_exist=False,\n",
        "                    summary=summary, reference=reference,\n",
        "                    n_gram=2, ROUGE_SU4=True, ROUGE_L=False,\n",
        "                    recall_only=True, stemming=False, stopwords=True,\n",
        "                    word_level=True, length_limit=True, length=50,\n",
        "                    use_cf=False, cf=95, scoring_formula='average',\n",
        "                    resampling=True, samples=1000, favor=True, p=0.5)\n",
        "#score = rouge.calc_score()"
      ],
      "execution_count": 0,
      "outputs": []
    },
    {
      "cell_type": "code",
      "metadata": {
        "id": "aW1Hnz8cOfgN",
        "colab_type": "code",
        "outputId": "87f16f0f-8557-492a-8316-3a9c4f16b64e",
        "colab": {
          "base_uri": "https://localhost:8080/",
          "height": 331
        }
      },
      "source": [
        "rouge.calc_score()"
      ],
      "execution_count": 0,
      "outputs": [
        {
          "output_type": "error",
          "ename": "CalledProcessError",
          "evalue": "ignored",
          "traceback": [
            "\u001b[0;31m---------------------------------------------------------------------------\u001b[0m",
            "\u001b[0;31mCalledProcessError\u001b[0m                        Traceback (most recent call last)",
            "\u001b[0;32m<ipython-input-273-67f165b310f6>\u001b[0m in \u001b[0;36m<module>\u001b[0;34m()\u001b[0m\n\u001b[0;32m----> 1\u001b[0;31m \u001b[0mrouge\u001b[0m\u001b[0;34m.\u001b[0m\u001b[0mcalc_score\u001b[0m\u001b[0;34m(\u001b[0m\u001b[0;34m)\u001b[0m\u001b[0;34m\u001b[0m\u001b[0;34m\u001b[0m\u001b[0m\n\u001b[0m",
            "\u001b[0;32m/usr/local/lib/python3.6/dist-packages/pythonrouge/pythonrouge.py\u001b[0m in \u001b[0;36mcalc_score\u001b[0;34m(self)\u001b[0m\n\u001b[1;32m    398\u001b[0m     \u001b[0;32mdef\u001b[0m \u001b[0mcalc_score\u001b[0m\u001b[0;34m(\u001b[0m\u001b[0mself\u001b[0m\u001b[0;34m)\u001b[0m\u001b[0;34m:\u001b[0m\u001b[0;34m\u001b[0m\u001b[0;34m\u001b[0m\u001b[0m\n\u001b[1;32m    399\u001b[0m         \u001b[0mrouge_cmd\u001b[0m \u001b[0;34m=\u001b[0m \u001b[0mself\u001b[0m\u001b[0;34m.\u001b[0m\u001b[0mset_command\u001b[0m\u001b[0;34m(\u001b[0m\u001b[0;34m)\u001b[0m\u001b[0;34m\u001b[0m\u001b[0;34m\u001b[0m\u001b[0m\n\u001b[0;32m--> 400\u001b[0;31m         \u001b[0moutput\u001b[0m \u001b[0;34m=\u001b[0m \u001b[0msubprocess\u001b[0m\u001b[0;34m.\u001b[0m\u001b[0mcheck_output\u001b[0m\u001b[0;34m(\u001b[0m\u001b[0mrouge_cmd\u001b[0m\u001b[0;34m,\u001b[0m \u001b[0mstderr\u001b[0m\u001b[0;34m=\u001b[0m\u001b[0msubprocess\u001b[0m\u001b[0;34m.\u001b[0m\u001b[0mSTDOUT\u001b[0m\u001b[0;34m)\u001b[0m\u001b[0;34m\u001b[0m\u001b[0;34m\u001b[0m\u001b[0m\n\u001b[0m\u001b[1;32m    401\u001b[0m         \u001b[0moutput\u001b[0m \u001b[0;34m=\u001b[0m \u001b[0moutput\u001b[0m\u001b[0;34m.\u001b[0m\u001b[0mdecode\u001b[0m\u001b[0;34m(\u001b[0m\u001b[0;34m'utf-8'\u001b[0m\u001b[0;34m)\u001b[0m\u001b[0;34m\u001b[0m\u001b[0;34m\u001b[0m\u001b[0m\n\u001b[1;32m    402\u001b[0m         \u001b[0moutput\u001b[0m \u001b[0;34m=\u001b[0m \u001b[0moutput\u001b[0m\u001b[0;34m.\u001b[0m\u001b[0mstrip\u001b[0m\u001b[0;34m(\u001b[0m\u001b[0;34m)\u001b[0m\u001b[0;34m.\u001b[0m\u001b[0msplit\u001b[0m\u001b[0;34m(\u001b[0m\u001b[0;34m'\\n'\u001b[0m\u001b[0;34m)\u001b[0m\u001b[0;34m\u001b[0m\u001b[0;34m\u001b[0m\u001b[0m\n",
            "\u001b[0;32m/usr/lib/python3.6/subprocess.py\u001b[0m in \u001b[0;36mcheck_output\u001b[0;34m(timeout, *popenargs, **kwargs)\u001b[0m\n\u001b[1;32m    354\u001b[0m \u001b[0;34m\u001b[0m\u001b[0m\n\u001b[1;32m    355\u001b[0m     return run(*popenargs, stdout=PIPE, timeout=timeout, check=True,\n\u001b[0;32m--> 356\u001b[0;31m                **kwargs).stdout\n\u001b[0m\u001b[1;32m    357\u001b[0m \u001b[0;34m\u001b[0m\u001b[0m\n\u001b[1;32m    358\u001b[0m \u001b[0;34m\u001b[0m\u001b[0m\n",
            "\u001b[0;32m/usr/lib/python3.6/subprocess.py\u001b[0m in \u001b[0;36mrun\u001b[0;34m(input, timeout, check, *popenargs, **kwargs)\u001b[0m\n\u001b[1;32m    436\u001b[0m         \u001b[0;32mif\u001b[0m \u001b[0mcheck\u001b[0m \u001b[0;32mand\u001b[0m \u001b[0mretcode\u001b[0m\u001b[0;34m:\u001b[0m\u001b[0;34m\u001b[0m\u001b[0;34m\u001b[0m\u001b[0m\n\u001b[1;32m    437\u001b[0m             raise CalledProcessError(retcode, process.args,\n\u001b[0;32m--> 438\u001b[0;31m                                      output=stdout, stderr=stderr)\n\u001b[0m\u001b[1;32m    439\u001b[0m     \u001b[0;32mreturn\u001b[0m \u001b[0mCompletedProcess\u001b[0m\u001b[0;34m(\u001b[0m\u001b[0mprocess\u001b[0m\u001b[0;34m.\u001b[0m\u001b[0margs\u001b[0m\u001b[0;34m,\u001b[0m \u001b[0mretcode\u001b[0m\u001b[0;34m,\u001b[0m \u001b[0mstdout\u001b[0m\u001b[0;34m,\u001b[0m \u001b[0mstderr\u001b[0m\u001b[0;34m)\u001b[0m\u001b[0;34m\u001b[0m\u001b[0;34m\u001b[0m\u001b[0m\n\u001b[1;32m    440\u001b[0m \u001b[0;34m\u001b[0m\u001b[0m\n",
            "\u001b[0;31mCalledProcessError\u001b[0m: Command '['perl', '/usr/local/lib/python3.6/dist-packages/pythonrouge/RELEASE-1.5.5/ROUGE-1.5.5.pl', '-e', '/usr/local/lib/python3.6/dist-packages/pythonrouge/RELEASE-1.5.5/data', '-a', '-n', '2', '-2', '4', '-u', '-x', '-l', '50', '-s', '-f', 'A', '-r', '1000', '-p', '0.5', '/tmp/tmprbmv6e24/setting.xml']' returned non-zero exit status 2."
          ]
        }
      ]
    }
  ]
}